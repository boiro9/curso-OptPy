{
 "cells": [
  {
   "cell_type": "markdown",
   "metadata": {},
   "source": [
    "# Introducción a la programación matemática y herramientas de optimización"
   ]
  },
  {
   "cell_type": "markdown",
   "metadata": {},
   "source": [
    "## Problema de optimización"
   ]
  },
  {
   "cell_type": "markdown",
   "metadata": {},
   "source": [
    "```{admonition} Problema de optimización\n",
    "Un **problema de optimización** viene dado por un par $(F,c)$, donde $F$ es el conjunto de puntos factibles y $c$ es la función de coste.  \n",
    "El **problema** consiste en encontrar un punto factible $x\\in F$ tal que:\n",
    "$$\n",
    "\\text{for each }y\\in F, \\, c(x)\\leq c(y)\n",
    "$$\n",
    "Cualquier punto $x$ que satisfaga estas condiciones es un **óptimo global** del problema.\n",
    "```\n",
    "Esta formulación es muy general y engloba cualquier situación en la que **algo tenga que ser optimizado**. A continuación damos una definición un poco más precisa de la definición de un problema de optimización desde el punto de vista de la **programación matemática**."
   ]
  },
  {
   "cell_type": "markdown",
   "metadata": {},
   "source": [
    "```{admonition} Problema de programación matemática\n",
    "Un **problema de programación matemática** consiste principalmente en la optimización (maximizar o minimizar) una **función objetivo** sujeto a un conjunto de **restricciones** que deben de satisfacer las **variables de decisión**. Los principales ingredientes para definir un problema de programación matemática son los siguientes:\n",
    "* Variables de decisión: $\\pmb{x}=(x_{1},\\ldots,x_{n})\\in \\mathbb{R}^{n}$. Representa las decisiones que se pueden tomar en el problema.\n",
    "* Función objetivo: $f:\\mathbb{R}^{n}\\rightarrow \\mathbb{R}$. Representa el coste o beneficio asociado a cada decisión. Es lo que queremos minimizar o maximizar.\n",
    "* Restricciones: definen las configuraciones factibles de las variables de decisión $\\pmb{x}$. Podemos distinguir dos tipos:\n",
    "    * De desigualdad: $g_{i}(\\pmb{x})\\leq 0, \\forall i \\in \\{1,\\ldots,m\\}$.\n",
    "    * De igualdad: $h_{j}(\\pmb{x})= 0, \\forall j \\in \\{1,\\ldots,l\\}$.\n",
    "    \n",
    "Resumiendo, un problema de programación matemática puede describirse de forma general como:\n",
    "\\begin{align*}\n",
    "\\textrm{Minimizar}\\ \\ \\     &  f(\\bf{x})\\\\\n",
    "\\textrm{sujeto a}\\ \\ \\      & g_i(\\bf{x})\\leq 0,\\ \\forall i\\in \\{1,\\ldots,m\\}\\\\\n",
    "                            & h_j(\\bf{x}) = 0,\\ \\ \\forall j\\in \\{1,\\ldots,l\\}\\\\\n",
    "\\end{align*}\n",
    "```"
   ]
  },
  {
   "cell_type": "markdown",
   "metadata": {},
   "source": [
    "Los problemas de optimización se clasifican principalmente según el tipo de variables y la naturaleza de las funciones que definen la función objetivo y las restricciones. Las principales categorías son:\n",
    "- Optimización lineal: donde todas las funciones son lineales.\n",
    "- Optimización no lineal: donde al menos una de las funciones es no lineal.\n",
    " \n",
    "Otro de los puntos relevantes a tener en cuenta es la naturaleza de las variables:\n",
    "- Optimización continua: si todas las variables son reales.\n",
    "- Optimización entera/discreta/combinatoria: cuando alguna variable es entera o discreta.\n",
    "\n",
    "En [](#fig:esquema_probs) puede verse una relación de los distintos tipos de problemas de acuerdo a ciertos aspectos de dicha clasificación:\n",
    ":::{figure} ./img/esquema_probs.png\n",
    ":width: 70%\n",
    ":align: left\n",
    ":label: fig:esquema_probs\n",
    "\n",
    "Clasificación de problemas de optimización.\n",
    ":::"
   ]
  },
  {
   "cell_type": "markdown",
   "metadata": {},
   "source": [
    "## Solvers\n",
    "\n",
    "En función del tipo de problema, varía tanto su dificultad de resolución como el tipo de algoritmos que deben emplearse. Generalmente, para su resolución se utilizan **solvers** diseñados específicamente para cada tipo de problema. \n",
    "\n",
    "A continuación se muestra una tabla en la que, según el tipo de problema, se detalla su dificultad de resolución, los *solvers* que garantizan la optimalidad global, los *solvers* locales y los algoritmos que suelen emplearse (y que implementan dichos *solvers*).\n"
   ]
  },
  {
   "cell_type": "markdown",
   "metadata": {},
   "source": [
    "| | *LP* | *ILP, MILP* | *ConvP* | *NLP* | *MINLP* |\n",
    "| :--- | :--- | :--- | :--- | :--- | :--- |\n",
    "| **Dificultad** | ✅ ✅ muy fácil | 🛑 difícil | ✅ fácil | 🛑 difícil | 💥 muy difícil |\n",
    "| **Solvers globales** | IBM-CPlex, Gurobi, FICO-Xpress, SCIP, **<span style=\"color: green;\">HIGHS, CBC/CLP, LPSolve, Glop, GLPK,...</span>** | IBM-CPlex, Gurobi, FICO-Xpress, SCIP, **<span style=\"color: green;\">HIGHS, CBC, LPSolve, GLPK,...</span>** | Knitro, MINOS, SNOPT, CONOPT, FICO-Xpress, **<span style=\"color: green;\">Ipopt</span>**,... | BARON, SCIP, Antigone, Octeract, Lindo Global, **<span style=\"color: green;\">Couenne</span>** (IBM-CPlex, Gurobi ~~para problemas cuadráticos~~) |Igual que para NLP |\n",
    "| **Solvers locales** | Local $\\Leftrightarrow$ Global | Iguales que arriba (ej. con gap relativo) | Local $\\Leftrightarrow$ Global | Todos los solvers globales para la clase *ConvP* | Knitro, FICO-Xpress, **<span style=\"color: green;\">Bonmin</span>** |\n",
    "| **Algoritmos estándar** | Simplex Primal o Dual, Barrera/Punto Interior | Branch\\&Bound, Branch\\&Cut (en relajaciones lineales) | Punto Interior, SLP, SQP, Lagrangiano Aumentado,... | Branch\\&Bound, Branch\\&Cut (en relajaciones convexas) | Branch\\&Bound, Branch\\&Cut (en relajaciones convexas) |"
   ]
  },
  {
   "cell_type": "markdown",
   "metadata": {},
   "source": [
    "```{important}Importante\n",
    "* 💡 La **dificultad** del problema a resolver depende del **problema real** y, lo que es más importante, de la **formulación elegida**!\n",
    "* 🎁 Gurobi, CPlex, Xpress, SCIP tienen **licencias académicas gratuitas**.\n",
    "    * *⚠️ Nota: ¡La lista de solvers no pretende ser exhaustiva!*\n",
    "* 🚀 **Problemas a gran escala.** Los solvers/algoritmos anteriores pueden beneficiarse de **técnicas de descomposición**: relajación Lagrangiana, Benders, Dantzig-Wolfe, Branch&Price, etc.\n",
    "* Además de todo lo anterior, uno también puede recurrir al diseño de **heurísticas** para abordar problemas difíciles:\n",
    "    * **Heurísticas.** Algoritmos *sin resultados teóricos* respecto a su convergencia a óptimos locales o globales, pero que pueden ser muy efectivos en la práctica.\n",
    "```"
   ]
  },
  {
   "cell_type": "markdown",
   "metadata": {},
   "source": [
    "```{admonition} Lenguajes de modelado vs APIs de los solvers\n",
    ":class: warning\n",
    "\n",
    " - Todos los *solvers* disponen de sus propias **APIs** para implementar en ordenador los modelos de programación matemática.  \n",
    " - Cada API es específica y únicamente permite invocar al *solver* para el que ha sido diseñada.\n",
    " - Sin embargo, existen **lenguajes de modelado matemático generales** que permiten **formular un problema una sola vez** y **resolverlo con distintos solvers**, sin necesidad de desarrollar una implementación *ad hoc* para cada uno de ellos.\n"
   ]
  },
  {
   "cell_type": "markdown",
   "metadata": {},
   "source": [
    "## Principales lenguajes de modelado de optimización matemática\n",
    "\n",
    "(lista no exhaustiva)\n",
    "\n",
    "| Lenguaje de modelado | Significado | Observaciones | Año |\n",
    "|-----------------------|--------------|----------------|------|\n",
    "| *GAMS* | *G*eneral *A*lgebraic *M*odeling *S*ystem | Permite programación básica | 1976 |\n",
    "| *AMPL* | *A* *M*athematical *P*rogramming *L*anguage | Permite programación básica | 1985 |\n",
    "| *AIMMS* | *A*dvanced *I*nteractive *M*ultidimensional *M*odeling *S*ystem | Permite programación básica | 1989 |\n",
    "| *Mosel* | (no es un acrónimo) | Lenguaje de programación diseñado para optimización matemática | ≈2002 |\n",
    "| <span style=\"color:green;\">*Pyomo*</span> | *Py*thon *O*ptimization *Mo*deling | Librerías en el lenguaje <span style=\"color:green;\">Python</span> | <span style=\"color:green;\">2012</span> |\n",
    "| <span style=\"color:green;\">*JuMP*</span> | *Ju*lia for *M*athematical *P*rogramming | Librerías en el lenguaje <span style=\"color:green;\">Julia</span> | <span style=\"color:green;\">2017</span> |\n",
    "\n",
    "---\n",
    "\n",
    "### 🟢 Pyomo y JuMP son “nuevos” actores en este ámbito\n",
    "\n",
    "---\n",
    "\n",
    "### ✅ Ventajas\n",
    "\n",
    "- Desarrollo rápido de modelos matemáticos fáciles de leer.  \n",
    "- Mantenimiento y ampliación sencilla de modelos existentes.  \n",
    "- Facilitan la separación entre la formulación del modelo y los datos de entrada.  \n",
    "- Interacción fluida con una amplia gama de *solvers* de optimización.\n",
    "\n",
    "---\n",
    "\n",
    "### ⚠️ Desventajas\n",
    "\n",
    "- Normalmente, cuanto más fácil es escribir y desarrollar modelos en un lenguaje de modelado, menos potente y eficiente es como *lenguaje de programación*.  \n",
    "- No es sencillo integrarlos de forma eficiente con algoritmos personalizados desarrollados por el usuario.  \n",
    "- No resulta fácil aprovechar toda la potencia de los *solvers* a través de la interfaz del lenguaje de modelado.\n",
    "\n",
    "---\n",
    "\n",
    "```{admonition} En pocas palabras\n",
    ":class: tip\n",
    "Excelentes para prototipado — se requiere precaución en su uso para despliegue.\n",
    "```"
   ]
  },
  {
   "cell_type": "markdown",
   "metadata": {},
   "source": [
    "Las herramientas de optimización que se ilustrarán en este curso\n",
    "- [Pyomo](https://pyomo.readthedocs.io/en/stable/)\n",
    "- [Google OR-Tools](https://developers.google.com/optimization) (Python API)\n",
    "- [Gurobi Python API](https://www.gurobi.com/documentation/)"
   ]
  }
 ],
 "metadata": {
  "kernelspec": {
   "display_name": "Python 3 (ipykernel)",
   "language": "python",
   "name": "python3"
  },
  "language_info": {
   "codemirror_mode": {
    "name": "ipython",
    "version": 3
   },
   "file_extension": ".py",
   "mimetype": "text/x-python",
   "name": "python",
   "nbconvert_exporter": "python",
   "pygments_lexer": "ipython3",
   "version": "3.13.9"
  }
 },
 "nbformat": 4,
 "nbformat_minor": 4
}
