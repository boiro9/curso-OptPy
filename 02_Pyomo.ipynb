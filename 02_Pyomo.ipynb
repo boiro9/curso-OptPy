{
 "cells": [
  {
   "cell_type": "markdown",
   "metadata": {},
   "source": [
    "# PYOMO\n",
    "\n",
    "![PYOMO](img/pyomo_logo.png)"
   ]
  },
  {
   "cell_type": "markdown",
   "metadata": {},
   "source": [
    "## Introducción a Pyomo\n",
    "\n",
    "```{admonition} 🌐 Web y documentación\n",
    ":class: tip\n",
    "- Web de referencia: [http://www.pyomo.org/](http://www.pyomo.org/)  \n",
    "- Documentación: [http://www.pyomo.org/documentation](http://www.pyomo.org/documentation), [https://pyomo.readthedocs.io/en/stable/index.html](https://pyomo.readthedocs.io/en/stable/index.html)  \n",
    "- Presentación introductoria: [Pyomo Workshop Summer 2018](https://github.com/Pyomo/pyomo-tutorials/blob/main/Pyomo-Workshop-December-2023.pdf)\n",
    "- Libro de referencia: [Pyomo - Optimization Modeling in Python](https://link.springer.com/book/10.1007/978-3-030-68928-5)\n",
    "- Libro de referencia para practicar con muchos ejemplos: [Hands-On Mathematical Optimization with Python](https://mobook.github.io/MO-book/intro.html#)\n",
    "```\n",
    "---\n",
    "\n",
    "### 🔹 Qué es Pyomo\n",
    "\n",
    "Pyomo es un **software libre** que permite utilizar un **lenguaje de modelado algebraico** para formular problemas de programación matemática.\n",
    "\n",
    "Al estar embebido en **Python**, Pyomo permite emplear un **lenguaje de programación de alto nivel**, con acceso a un rico conjunto de **librerías de apoyo**, lo que lo hace muy flexible y potente.\n",
    "\n",
    "---\n",
    "\n",
    "### 🔹 Tipos de problemas que soporta\n",
    "\n",
    "Pyomo permite formular una amplia variedad de problemas:\n",
    "\n",
    "- **Programación lineal** (entera o mixta)  \n",
    "- **Programación cuadrática** (entera o mixta)  \n",
    "- **Programación no lineal** (entera o mixta)  \n",
    "- Otros tipos de problemas avanzados: problemas de programación estocástica (**PySP**), programación dinámica, problemas de control óptimo, ...\n",
    "\n",
    "---\n",
    "\n",
    "### 🔹 Conexión con solvers\n",
    "\n",
    "Pyomo se puede conectar con un **gran número de solvers** comerciales y libres, lo que permite resolver los modelos formulados de manera eficiente, sin depender de un solver específico.\n",
    "\n",
    "### 🔹Pyomo de un vistazo\n",
    "\n",
    "![pyomo_esquema](img/pyomo_esquema.png)"
   ]
  },
  {
   "cell_type": "markdown",
   "metadata": {},
   "source": [
    "## Concrete Model\n",
    "- Primero hay que definir los datos, y luego el modelo.\n",
    "- Contrucción en 1 paso.\n",
    "- Todos los datos deben de estar presentes antes que Python empiece a procesar el modelo.\n",
    "- Pyomo irá contruyendo cada componente en el momento que se van definiendo.\n",
    "- Proceso lógico senccilo, facilita realizar 'scripting'."
   ]
  },
  {
   "cell_type": "markdown",
   "metadata": {},
   "source": [
    "## Abstract models\n",
    "- Primero el modelo, y luego los datos.\n",
    "- Contrucción en 2 pasos.\n",
    "- Pyomo va almacenando las declaraciones básicas del modelo, pero no contruye de forma instantánea los objetos.\n",
    "- En el momento de la creación del modelo, los datos son aplicados al conjunto de declaraciones abstractas para crear una instancia concreta del modelo.\n",
    "- Favorece modelado más genérico y reutilización del modelo.\n",
    "- Familiar para la gente acostumbrada a utilizar AMPL."
   ]
  }
 ],
 "metadata": {
  "kernelspec": {
   "display_name": "Python 3 (ipykernel)",
   "language": "python",
   "name": "python3"
  },
  "language_info": {
   "codemirror_mode": {
    "name": "ipython",
    "version": 3
   },
   "file_extension": ".py",
   "mimetype": "text/x-python",
   "name": "python",
   "nbconvert_exporter": "python",
   "pygments_lexer": "ipython3",
   "version": "3.13.9"
  }
 },
 "nbformat": 4,
 "nbformat_minor": 4
}
