{
 "cells": [
  {
   "cell_type": "markdown",
   "metadata": {},
   "source": [
    "# 🧩 Tutorial Python para Optimización\n",
    "\n",
    "[![Launch on Binder](https://mybinder.org/badge_logo.svg)](https://mybinder.org/v2/gh/boiro9/jupyterbook2_example/HEAD?labpath=01_intro_python_optimizacion.ipynb)[![Open In Colab](https://colab.research.google.com/assets/colab-badge.svg)](https://colab.research.google.com/github/boiro9/jupyterbook2_example/blob/HEAD/01_intro_python_optimizacion.ipynb) \n",
    "\n",
    ":::{important} Objetivo\n",
    "El objetivo de este notebook es hacer una breve introducción de los conceptos mínimos de **Python** que se necesitan para poder trabajar con las librerías de optimización de Python que presentaremos en este curso:\n",
    "- [Pyomo](https://pyomo.readthedocs.io/en/stable/)\n",
    "- [Google OR-Tools](https://developers.google.com/optimization) (Python API)\n",
    "- [Gurobi Python API](https://www.gurobi.com/documentation/)\n",
    ":::\n",
    "\n",
    "No se asume experiencia previa con Python; solo interés en aprender cómo estructurar datos, crear funciones y preparar modelos matemáticos.\n",
    "\n"
   ]
  },
  {
   "cell_type": "markdown",
   "metadata": {},
   "source": [
    "## 1️⃣ Tipos básicos de datos"
   ]
  },
  {
   "cell_type": "code",
   "execution_count": 1,
   "metadata": {},
   "outputs": [
    {
     "name": "stdout",
     "output_type": "stream",
     "text": [
      "5 3.2 Optimizador True\n",
      "<class 'int'> <class 'float'> <class 'str'> <class 'bool'>\n"
     ]
    }
   ],
   "source": [
    "x = 5          # entero (int)\n",
    "y = 3.2        # número real (float)\n",
    "name = \"Optimizador\"  # cadena de texto (str)\n",
    "flag = True    # booleano (bool)\n",
    "\n",
    "print(x, y, name, flag)\n",
    "print(type(x), type(y), type(name), type(flag))"
   ]
  },
  {
   "cell_type": "markdown",
   "metadata": {},
   "source": [
    "👉 En cualquier librería de optimización se trabajan principalmente con números y estructuras lógicas.  \n",
    "Por ejemplo, los coeficientes de una función objetivo o los límites de una restricción."
   ]
  },
  {
   "cell_type": "markdown",
   "metadata": {},
   "source": [
    "## 2️⃣ Estructuras de datos fundamentales"
   ]
  },
  {
   "cell_type": "code",
   "execution_count": 2,
   "metadata": {},
   "outputs": [
    {
     "name": "stdout",
     "output_type": "stream",
     "text": [
      "Lista de costes: [10, 12, 8, 9]\n",
      "Arcos: [(1, 2), (2, 3), (3, 4)]\n",
      "Demanda del nodo 2: 8\n"
     ]
    }
   ],
   "source": [
    "# Lista (list): colección ordenada y modificable\n",
    "costs = [10, 12, 8, 9]\n",
    "print(\"Lista de costes:\", costs)\n",
    "\n",
    "# Tupla (tuple): colección ordenada e inmutable\n",
    "arcs = [(1, 2), (2, 3), (3, 4)]\n",
    "print(\"Arcos:\", arcs)\n",
    "\n",
    "# Diccionario (dict): mapeo clave-valor\n",
    "demand = {1: 5, 2: 8, 3: 3}\n",
    "print(\"Demanda del nodo 2:\", demand[2])"
   ]
  },
  {
   "cell_type": "markdown",
   "metadata": {},
   "source": [
    "- En **Pyomo**, las listas/tuplas pueden representar conjuntos (`Set`).\n",
    "- En **OR-Tools**, los diccionarios suelen guardar parámetros o costes.\n",
    "- En **Gurobi**, se usan para mapear variables o coeficientes a índices."
   ]
  },
  {
   "cell_type": "markdown",
   "metadata": {},
   "source": [
    "## 3️⃣ Bucles y comprensión de listas"
   ]
  },
  {
   "cell_type": "code",
   "execution_count": 3,
   "metadata": {},
   "outputs": [
    {
     "name": "stdout",
     "output_type": "stream",
     "text": [
      "Elemento 0\n",
      "Elemento 1\n",
      "Elemento 2\n",
      "[0, 1, 4, 9, 16]\n"
     ]
    }
   ],
   "source": [
    "# Bucle for\n",
    "for i in range(3):\n",
    "    print(\"Elemento\", i)\n",
    "\n",
    "# Comprensión de listas\n",
    "squares = [i**2 for i in range(5)]\n",
    "print(squares)"
   ]
  },
  {
   "cell_type": "markdown",
   "metadata": {},
   "source": [
    "Los bucles son esenciales para:\n",
    "- Construir variables y restricciones de forma programática.\n",
    "- Generar estructuras de datos (listas, tuplas, diccionarios)."
   ]
  },
  {
   "cell_type": "markdown",
   "metadata": {},
   "source": [
    "## 4️⃣ Condicionales y funciones"
   ]
  },
  {
   "cell_type": "code",
   "execution_count": 4,
   "metadata": {},
   "outputs": [
    {
     "name": "stdout",
     "output_type": "stream",
     "text": [
      "x es mayor que 5\n",
      "14\n"
     ]
    }
   ],
   "source": [
    "# Condicionales\n",
    "x = 10\n",
    "if x > 5:\n",
    "    print(\"x es mayor que 5\")\n",
    "else:\n",
    "    print(\"x no es mayor que 5\")\n",
    "\n",
    "# Función\n",
    "def total_cost(x, y):\n",
    "    return 2*x + 3*y\n",
    "\n",
    "print(total_cost(1, 4))"
   ]
  },
  {
   "cell_type": "markdown",
   "metadata": {},
   "source": [
    "Las funciones son muy útiles para:\n",
    "- Calcular valores agregados (costes, beneficios, penalizaciones).\n",
    "- Definir lógicas de restricción o evaluación externa.\n",
    "- Reutilizar bloques de código."
   ]
  },
  {
   "cell_type": "markdown",
   "metadata": {},
   "source": [
    "## 5️⃣ Módulos útiles en optimización"
   ]
  },
  {
   "cell_type": "code",
   "execution_count": 5,
   "metadata": {},
   "outputs": [
    {
     "name": "stdout",
     "output_type": "stream",
     "text": [
      "4.0\n",
      "[(1, 3), (1, 4), (2, 3), (2, 4)]\n",
      "9\n"
     ]
    }
   ],
   "source": [
    "import math\n",
    "import itertools\n",
    "import random\n",
    "\n",
    "print(math.sqrt(16))           # operaciones matemáticas\n",
    "print(list(itertools.product([1,2], [3,4])))  # combinaciones de índices\n",
    "print(random.randint(1, 10))  # generación de números aleatorios"
   ]
  },
  {
   "cell_type": "markdown",
   "metadata": {},
   "source": [
    "Estos módulos se utilizan frecuentemente para generar instancias de prueba, crear combinaciones de índices o inicializar parámetros."
   ]
  },
  {
   "cell_type": "markdown",
   "metadata": {},
   "source": [
    "## 6️⃣ Organización de datos para un modelo"
   ]
  },
  {
   "cell_type": "code",
   "execution_count": 6,
   "metadata": {},
   "outputs": [
    {
     "name": "stdout",
     "output_type": "stream",
     "text": [
      "Conjunto: [1, 2, 3]\n",
      "Beneficios: {1: 10, 2: 7, 3: 12}\n",
      "Pesos: {1: 4, 2: 3, 3: 5}\n",
      "Capacidad: 10\n"
     ]
    }
   ],
   "source": [
    "I = [1, 2, 3]  # conjunto de ítems\n",
    "profit = {1: 10, 2: 7, 3: 12}  # beneficio\n",
    "weight = {1: 4, 2: 3, 3: 5}    # peso\n",
    "capacity = 10                  # capacidad total\n",
    "\n",
    "print(\"Conjunto:\", I)\n",
    "print(\"Beneficios:\", profit)\n",
    "print(\"Pesos:\", weight)\n",
    "print(\"Capacidad:\", capacity)"
   ]
  },
  {
   "cell_type": "markdown",
   "metadata": {},
   "source": [
    "Estas estructuras serán equivalentes en cualquier framework:\n",
    "- **Pyomo**: `Set`, `Param`\n",
    "- **OR-Tools**: listas, diccionarios o arrays de datos\n",
    "- **Gurobi**: diccionarios o NumPy arrays"
   ]
  },
  {
   "cell_type": "markdown",
   "metadata": {},
   "source": [
    "## 7️⃣ Ejemplo: Búsqueda Exhaustiva en el Problema de la mochila"
   ]
  },
  {
   "cell_type": "code",
   "execution_count": 7,
   "metadata": {},
   "outputs": [
    {
     "name": "stdout",
     "output_type": "stream",
     "text": [
      "Mejor beneficio: 22\n",
      "Solución x* = (1, 0, 1)\n"
     ]
    }
   ],
   "source": [
    "# Pequeño problema de mochila\n",
    "\n",
    "I = [1, 2, 3]\n",
    "profit = {1: 10, 2: 7, 3: 12}\n",
    "weight = {1: 4, 2: 3, 3: 5}\n",
    "capacity = 10\n",
    "\n",
    "best_value = 0\n",
    "best_x = None\n",
    "\n",
    "# Búsqueda exhaustiva de combinaciones binarias (0 o 1)\n",
    "for x1 in [0, 1]:\n",
    "    for x2 in [0, 1]:\n",
    "        for x3 in [0, 1]:\n",
    "            total_weight = 4*x1 + 3*x2 + 5*x3\n",
    "            total_profit = 10*x1 + 7*x2 + 12*x3\n",
    "            if total_weight <= capacity and total_profit > best_value:\n",
    "                best_value = total_profit\n",
    "                best_x = (x1, x2, x3)\n",
    "\n",
    "print(\"Mejor beneficio:\", best_value)\n",
    "print(\"Solución x* =\", best_x)"
   ]
  },
  {
   "cell_type": "markdown",
   "metadata": {},
   "source": [
    "Más adelante, este mismo problema se podrá formular de manera **declarativa** en cualquiera de los frameworks:\n",
    "- En Pyomo: `Var`, `Constraint`, `Objective`\n",
    "- En OR-Tools: `solver.BoolVar`, `solver.Add`, `solver.Maximize`\n",
    "- En Gurobi: `model.addVar`, `model.addConstr`, `model.setObjective`"
   ]
  },
  {
   "cell_type": "markdown",
   "metadata": {
    "jp-MarkdownHeadingCollapsed": true
   },
   "source": [
    "# 🧠 Ejercicios propuestos\n",
    "\n",
    ":::{exercise} 1️⃣ **Listas y comprensión de listas** \n",
    ":label: ex:listas\n",
    "\n",
    "Crea una lista con los números del 1 al 10 y otra con sus cuadrados.  \n",
    "Imprime los pares `(n, n²)`.\n",
    "\n",
    "```python\n",
    "# Tu código aquí\n",
    "```\n",
    ":::\n",
    "\n",
    "---\n",
    "\n",
    ":::{exercise} 2️⃣ **Diccionarios**    \n",
    ":label: ex:diccionarios\n",
    "\n",
    "Define un diccionario `cost = {'A': 4, 'B': 3, 'C': 5}`  \n",
    "Calcula e imprime el coste total para `x = {'A': 2, 'B': 3, 'C': 1}`.\n",
    "\n",
    "```python\n",
    "# Tu código aquí\n",
    "```\n",
    ":::\n",
    "\n",
    "---\n",
    "\n",
    ":::{exercise} 3️⃣ **Función personalizada**  \n",
    ":label: ex:funcion\n",
    "Escribe una función `total_profit(x, profit, weight, capacity)` que devuelva el beneficio total si el peso no supera la capacidad, y 0 en caso contrario.\n",
    "\n",
    "```python\n",
    "# Tu código aquí\n",
    "```\n",
    ":::\n",
    "\n",
    "---\n",
    "\n",
    ":::{exercise}  4️⃣ **Problema de la mochila**  \n",
    ":label: ex:mochila\n",
    "Reproduce el ejemplo de mochila anterior con tus propios datos (4 ítems, capacidad 15, pesos y beneficios distintos).\n",
    "\n",
    "```python\n",
    "# Tu código aquí\n",
    "```\n",
    ":::"
   ]
  }
 ],
 "metadata": {
  "kernelspec": {
   "display_name": "Python 3 (ipykernel)",
   "language": "python",
   "name": "python3"
  },
  "language_info": {
   "codemirror_mode": {
    "name": "ipython",
    "version": 3
   },
   "file_extension": ".py",
   "mimetype": "text/x-python",
   "name": "python",
   "nbconvert_exporter": "python",
   "pygments_lexer": "ipython3",
   "version": "3.13.9"
  }
 },
 "nbformat": 4,
 "nbformat_minor": 4
}
