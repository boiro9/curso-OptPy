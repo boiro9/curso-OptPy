{
 "cells": [
  {
   "attachments": {
    "f1774da0-e353-4f92-806c-e7f40dd3de95.png": {
     "image/png": "[encoded data removed]"
    }
   },
   "cell_type": "markdown",
   "metadata": {},
   "source": [
    "# GUROBI\n",
    "\n",
    "![image.png](attachment:f1774da0-e353-4f92-806c-e7f40dd3de95.png)\n",
    "\n",
    "[![Launch on Binder](https://mybinder.org/badge_logo.svg)](https://mybinder.org/v2/gh/boiro9/jupyterbook2_example/HEAD?labpath=04-Gurobi.ipynb)[![Open In Colab](https://colab.research.google.com/assets/colab-badge.svg)](https://colab.research.google.com/github/boiro9/jupyterbook2_example/blob/HEAD/04-Gurobi.ipynb)\n",
    "\n",
    "```{admonition} 🌐 Web y Documentación\n",
    ":class: tip\n",
    "\n",
    "- Web referencia: https://www.gurobi.com/ \n",
    "- Documentación: https://www.gurobi.com/documentation/  \n",
    "```"
   ]
  },
  {
   "cell_type": "markdown",
   "metadata": {},
   "source": [
    "## Conectando Gurobi con Python"
   ]
  },
  {
   "cell_type": "markdown",
   "metadata": {},
   "source": [
    "* Para utilizar Gurobi dentro de Python es necesario instalar el modulo **gurobipy** (incluido en la instalación de Gurobi).\n",
    "* La forma más sencilla es instalarlo usando pip (o otro distribuidor de paquetes de Python):\n",
    "  ```cmd\n",
    "    pip install gurobipy \n",
    "  ```\n",
    "* En este [enlace](https://support.gurobi.com/hc/en-us/articles/14799677517585-Getting-Started-with-Gurobi-Optimizer) aparecen los pasos detallados a seguir para empezar a usar Gurobi."
   ]
  },
  {
   "cell_type": "markdown",
   "metadata": {},
   "source": [
    "## Conceptos básicos de Gurobi"
   ]
  },
  {
   "cell_type": "markdown",
   "metadata": {},
   "source": [
    "![title](img/objetos_gurobi.png)"
   ]
  },
  {
   "cell_type": "markdown",
   "metadata": {},
   "source": [
    "* **Parámetros**: son los que configuran los algoritmos de resolución implementados en Gurobi (por ejemplo, número de iteraciones, tiempo máximo de resolución, ...). Pueden ser modificados antes de que la optimización comience.  \n",
    "* **Atributos**: son el mecanismo principal para poder extraer o modificar las propiedades el objeto Modelo creado con Gurobi. Los atributos pueden estar asociados a:\n",
    "    * El **modelo** visto como un conjunto (p.e., valor de la **función objetivo**, extraer la solución, ...)\n",
    "    * **Variables** (p.e., cotas inferiores y superiores)\n",
    "    * **Restriccciones** (p.e., lados derechos)\n",
    "    * SOSs (p.e. componente IIS)\n",
    "* Environment: son los contenedores donde se almacenan los modelos y la configuración de los parámetros. La API de Python proporciona de forma automática un environment por defecto."
   ]
  },
  {
   "cell_type": "markdown",
   "metadata": {},
   "source": [
    "Por razones de rendimiento, se sugiere que a la hora de crear el modelo en Gurobi se siga la siguiente estructura:  \n",
    "    ![title](img/pasos_gurobi.png)"
   ]
  },
  {
   "cell_type": "markdown",
   "metadata": {},
   "source": [
    "# Resolviendo mi primer problema sencillo con Gurobi"
   ]
  },
  {
   "cell_type": "markdown",
   "metadata": {},
   "source": [
    "Un deportistas se encuentra preparando una maratón, para lo cual dispone de un preparador físico que le ha planificado 3 posibles ejercicios físicos de trabajo.\n",
    "* El deportista debe decidir qué ejercicios llevar a cabo, maximizando el rendimiento físico que le aportan. La actividad 1 y 2 le aportan un 1% de mejora, y la actividad 3 un 2%.\n",
    "* El deportista dispone de 4 horas para llevar a cabo el entrenamiento:\n",
    "    * La actividad 1 requiere 1 hora.\n",
    "    * La actividad 2 requiere 2 horas.\n",
    "    * La actividad 3 requiere 3 horas.\n",
    "* El preparador físico le ha obligado a que realice la actividad 1 o 2 (o ambas)."
   ]
  },
  {
   "cell_type": "markdown",
   "metadata": {},
   "source": [
    "\\begin{align*}\n",
    "\\textrm{Maximizar}\\ \\ \\     &  x+y+2z\\\\\n",
    "\\textrm{sujeto a}\\ \\ \\      & x+2y+3z\\leq 4\\\\\n",
    "                            & x+y\\geq 1\\\\\n",
    "                 \\ \\ \\      & x,y,z\\in \\{0,1\\}\\\\                     \n",
    "\\end{align*}"
   ]
  },
  {
   "cell_type": "markdown",
   "metadata": {},
   "source": [
    "### Paso 1: Importar las funciones del modulo de gurobipy"
   ]
  },
  {
   "cell_type": "code",
   "execution_count": 1,
   "metadata": {},
   "outputs": [],
   "source": [
    "import gurobipy as gp\n",
    "from gurobipy import GRB"
   ]
  },
  {
   "cell_type": "markdown",
   "metadata": {},
   "source": [
    "### Paso 2: Crear un modelo vacío"
   ]
  },
  {
   "cell_type": "code",
   "execution_count": 2,
   "metadata": {},
   "outputs": [
    {
     "name": "stdout",
     "output_type": "stream",
     "text": [
      "Set parameter Username\n",
      "Set parameter LicenseID to value 2666074\n",
      "Academic license - for non-commercial use only - expires 2026-05-14\n"
     ]
    }
   ],
   "source": [
    "m = gp.Model(\"simplemodel\")"
   ]
  },
  {
   "cell_type": "markdown",
   "metadata": {},
   "source": [
    "### Paso 3: Crear las variables que denotan si realiza o no cada actividad"
   ]
  },
  {
   "cell_type": "code",
   "execution_count": 3,
   "metadata": {},
   "outputs": [],
   "source": [
    "x = m.addVar(vtype=GRB.BINARY, name=\"x\")\n",
    "y = m.addVar(vtype=GRB.BINARY, name=\"y\")\n",
    "z = m.addVar(vtype=GRB.BINARY, name=\"z\")"
   ]
  },
  {
   "cell_type": "markdown",
   "metadata": {},
   "source": [
    "### Paso 4: Definir la función objetivo"
   ]
  },
  {
   "cell_type": "code",
   "execution_count": 4,
   "metadata": {},
   "outputs": [],
   "source": [
    "m.setObjective(x + y + 2*z, GRB.MAXIMIZE)"
   ]
  },
  {
   "cell_type": "markdown",
   "metadata": {},
   "source": [
    "### Paso 5: Añadir las restricciones al modelo"
   ]
  },
  {
   "cell_type": "code",
   "execution_count": 5,
   "metadata": {},
   "outputs": [],
   "source": [
    "c1 = m.addConstr(x + 2*y + 3*z <= 4)\n",
    "c2 = m.addConstr(x + y >= 1)"
   ]
  },
  {
   "cell_type": "code",
   "execution_count": 6,
   "metadata": {},
   "outputs": [
    {
     "data": {
      "text/plain": [
       "<gurobi.Model MIP instance simplemodel: 2 constrs, 3 vars, Parameter changes: Username=(user-defined), LicenseID=2666074>"
      ]
     },
     "execution_count": 6,
     "metadata": {},
     "output_type": "execute_result"
    }
   ],
   "source": [
    "m.update()\n",
    "m"
   ]
  },
  {
   "cell_type": "code",
   "execution_count": 7,
   "metadata": {},
   "outputs": [
    {
     "data": {
      "text/plain": [
       "<gurobi.Constr R0>"
      ]
     },
     "execution_count": 7,
     "metadata": {},
     "output_type": "execute_result"
    }
   ],
   "source": [
    "c1"
   ]
  },
  {
   "cell_type": "markdown",
   "metadata": {},
   "source": [
    "### Paso 6: Resolver el problema de optimización"
   ]
  },
  {
   "cell_type": "code",
   "execution_count": 8,
   "metadata": {},
   "outputs": [
    {
     "name": "stdout",
     "output_type": "stream",
     "text": [
      "Gurobi Optimizer version 12.0.3 build v12.0.3rc0 (win64 - Windows 11+.0 (26200.2))\n",
      "\n",
      "CPU model: 11th Gen Intel(R) Core(TM) i7-1165G7 @ 2.80GHz, instruction set [SSE2|AVX|AVX2|AVX512]\n",
      "Thread count: 4 physical cores, 8 logical processors, using up to 8 threads\n",
      "\n",
      "Optimize a model with 2 rows, 3 columns and 5 nonzeros\n",
      "Model fingerprint: 0x98886187\n",
      "Variable types: 0 continuous, 3 integer (3 binary)\n",
      "Coefficient statistics:\n",
      "  Matrix range     [1e+00, 3e+00]\n",
      "  Objective range  [1e+00, 2e+00]\n",
      "  Bounds range     [1e+00, 1e+00]\n",
      "  RHS range        [1e+00, 4e+00]\n",
      "Found heuristic solution: objective 2.0000000\n",
      "Presolve removed 2 rows and 3 columns\n",
      "Presolve time: 0.00s\n",
      "Presolve: All rows and columns removed\n",
      "\n",
      "Explored 0 nodes (0 simplex iterations) in 0.01 seconds (0.00 work units)\n",
      "Thread count was 1 (of 8 available processors)\n",
      "\n",
      "Solution count 2: 3 2 \n",
      "\n",
      "Optimal solution found (tolerance 1.00e-04)\n",
      "Best objective 3.000000000000e+00, best bound 3.000000000000e+00, gap 0.0000%\n"
     ]
    }
   ],
   "source": [
    "m.optimize()"
   ]
  },
  {
   "cell_type": "markdown",
   "metadata": {},
   "source": [
    "### Paso 7: Imprimir la solución"
   ]
  },
  {
   "cell_type": "code",
   "execution_count": 9,
   "metadata": {},
   "outputs": [
    {
     "name": "stdout",
     "output_type": "stream",
     "text": [
      "\n",
      "    Variable            X \n",
      "-------------------------\n",
      "           x            1 \n",
      "           z            1 \n"
     ]
    }
   ],
   "source": [
    "m.printAttr('X')"
   ]
  },
  {
   "cell_type": "code",
   "execution_count": 10,
   "metadata": {},
   "outputs": [
    {
     "data": {
      "text/plain": [
       "(1.0, 0.0, 1.0)"
      ]
     },
     "execution_count": 10,
     "metadata": {},
     "output_type": "execute_result"
    }
   ],
   "source": [
    "x.getAttr('x'), y.getAttr('x'), z.getAttr('x')"
   ]
  },
  {
   "cell_type": "code",
   "execution_count": 11,
   "metadata": {},
   "outputs": [
    {
     "data": {
      "text/plain": [
       "(1.0, 0.0, 1.0)"
      ]
     },
     "execution_count": 11,
     "metadata": {},
     "output_type": "execute_result"
    }
   ],
   "source": [
    "x.x,y.x,z.x"
   ]
  },
  {
   "cell_type": "code",
   "execution_count": 12,
   "metadata": {},
   "outputs": [
    {
     "data": {
      "text/plain": [
       "[<gurobi.Var x (value 1.0)>,\n",
       " <gurobi.Var y (value 0.0)>,\n",
       " <gurobi.Var z (value 1.0)>]"
      ]
     },
     "execution_count": 12,
     "metadata": {},
     "output_type": "execute_result"
    }
   ],
   "source": [
    "m.getVars()"
   ]
  },
  {
   "cell_type": "code",
   "execution_count": 13,
   "metadata": {},
   "outputs": [
    {
     "name": "stdout",
     "output_type": "stream",
     "text": [
      "x 1.0\n",
      "y 0.0\n",
      "z 1.0\n",
      "Obj:  3.0\n"
     ]
    }
   ],
   "source": [
    "for v in m.getVars():\n",
    "    print(v.varName, v.x)\n",
    "print('Obj: ', m.objVal)"
   ]
  },
  {
   "cell_type": "markdown",
   "metadata": {},
   "source": [
    "# Cómo obtener ayuda"
   ]
  },
  {
   "cell_type": "markdown",
   "metadata": {},
   "source": [
    "* Usar la función **help()** sin comandos para obtener la ayuda general de los objetos de gurobi\n",
    "    * help(Model)\n",
    "    * help(Var)\n",
    "    * help(Constr)\n",
    "    * help(GRB.attr)"
   ]
  },
  {
   "cell_type": "code",
   "execution_count": 14,
   "metadata": {},
   "outputs": [
    {
     "name": "stdout",
     "output_type": "stream",
     "text": [
      "Help on class Var in module gurobipy._core:\n",
      "\n",
      "class Var(builtins.object)\n",
      " |  Var(cmodel, colno)\n",
      " |\n",
      " |  Gurobi variable object.  Variables have a number of attributes.\n",
      " |  Some can be set (e.g., v.ub = 0.0), while others can only be queried\n",
      " |  (e.g., print(v.x)). The most commonly used variable attributes are:\n",
      " |    obj: Linear objective coefficient.\n",
      " |    lb: Lower bound.\n",
      " |    ub: Upper bound.\n",
      " |    varName: Variable name.\n",
      " |    vType: Variable type ('C', 'B', 'I', 'S', or 'N').\n",
      " |    x: Solution value.\n",
      " |    rc: Solution reduced cost.\n",
      " |    xn: Solution value in an alternate MIP solution.\n",
      " |\n",
      " |  Type \"help(GRB.attr)\" for a list of all available attributes.\n",
      " |\n",
      " |  Note that attribute modifications are handled in a lazy fashion.  You\n",
      " |  won't see the effect of a change until after the next call to Model.update()\n",
      " |  or Model.optimize().\n",
      " |\n",
      " |  Methods defined here:\n",
      " |\n",
      " |  __add__(self, expr)\n",
      " |\n",
      " |  __cindex__(self)\n",
      " |\n",
      " |  __dir__(self)\n",
      " |\n",
      " |  __eq__(self, rhs)\n",
      " |\n",
      " |  __ge__(self, rhs)\n",
      " |\n",
      " |  __getattr__(self, name)\n",
      " |\n",
      " |  __hash__(self)\n",
      " |\n",
      " |  __iadd__(self, expr)\n",
      " |\n",
      " |  __imul__(self, expr)\n",
      " |\n",
      " |  __init__(self, cmodel, colno)\n",
      " |\n",
      " |  __isub__(self, expr)\n",
      " |\n",
      " |  __le__(self, rhs)\n",
      " |\n",
      " |  __mul__(self, expr)\n",
      " |\n",
      " |  __ne__(self, rhs)\n",
      " |\n",
      " |  __neg__(self)\n",
      " |\n",
      " |  __numcols__(self)\n",
      " |\n",
      " |  __pow__(self, exponent)\n",
      " |\n",
      " |  __radd__(self, expr)\n",
      " |\n",
      " |  __repr__(self)\n",
      " |\n",
      " |  __rmul__(self, expr)\n",
      " |\n",
      " |  __rpow__(self, other)\n",
      " |\n",
      " |  __rsub__(self, expr)\n",
      " |\n",
      " |  __rtruediv__(self, expr)\n",
      " |\n",
      " |  __setattr__(self, name, value)\n",
      " |\n",
      " |  __sub__(self, expr)\n",
      " |\n",
      " |  __truediv__(self, expr)\n",
      " |\n",
      " |  getAttr(self, attrname)\n",
      " |      ROUTINE:\n",
      " |        getAttr(attrname)\n",
      " |\n",
      " |      PURPOSE:\n",
      " |        Request the value of a variable attribute.\n",
      " |\n",
      " |      ARGUMENTS:\n",
      " |        attrname (string): The name of the requested attribute.\n",
      " |\n",
      " |      RETURN VALUE:\n",
      " |        The attribute value.\n",
      " |\n",
      " |      EXAMPLE:\n",
      " |        print(var.getAttr(\"varName\"))\n",
      " |\n",
      " |      NOTES:\n",
      " |        Type \"help(GRB.attr)\" for a list of all available attributes.\n",
      " |\n",
      " |  prefetchAttr(self, attrname)\n",
      " |\n",
      " |  sameAs(self, other)\n",
      " |      ROUTINE:\n",
      " |        sameAs(other)\n",
      " |\n",
      " |      PURPOSE:\n",
      " |        Indicates whether two variable objects refer to the same Gurobi model\n",
      " |        variable.  You should use this instead of the '==' operator, since\n",
      " |        '==' is used to create linear constraints.\n",
      " |\n",
      " |      ARGUMENTS:\n",
      " |        other (Var): The variable to compare against.\n",
      " |\n",
      " |      RETURN VALUE:\n",
      " |        True if both Var objects refer to the same model variable.\n",
      " |\n",
      " |      EXAMPLE:\n",
      " |        var1.sameAs(var2)\n",
      " |\n",
      " |  setAttr(self, attrname, newval)\n",
      " |      ROUTINE:\n",
      " |        setAttr(attrname, newval)\n",
      " |\n",
      " |      PURPOSE:\n",
      " |        Change the value of a variable attribute.\n",
      " |\n",
      " |      ARGUMENTS:\n",
      " |        attrname (string): The name of the attribute.\n",
      " |        newval: The desired new value.  The type of the value should be\n",
      " |                compatible with the attribute type (e.g., an integer\n",
      " |                parameter will take an integer value).\n",
      " |\n",
      " |      RETURN VALUE:\n",
      " |        None.\n",
      " |\n",
      " |      EXAMPLE:\n",
      " |        var.setAttr(\"varName\", \"New name\")\n",
      " |\n",
      " |      NOTES:\n",
      " |        Typical variable attributes that can be set are:\n",
      " |          VarName:  Name of the variable.\n",
      " |          lb:       Lower bound.\n",
      " |          ub:       Upper bound.\n",
      " |          obj:      Objective coefficient.\n",
      " |          vType:    Variable type ('C', 'B', 'I', 'S', or 'N').\n",
      " |\n",
      " |        Attributes changes are handled in a lazy fashion.  The effect of a\n",
      " |        change isn't visible until after the next call to Model.update() or\n",
      " |        Model.optimize().\n",
      " |\n",
      " |  ----------------------------------------------------------------------\n",
      " |  Readonly properties defined here:\n",
      " |\n",
      " |  index\n",
      " |      PROPERTY:\n",
      " |        index\n",
      " |\n",
      " |      PURPOSE:\n",
      " |        Request the index of the variable in the model.\n",
      " |\n",
      " |      RETURN VALUE:\n",
      " |        = -2: removed\n",
      " |        = -1: not in model\n",
      " |        >= 0: index of the variable in the model\n",
      " |\n",
      " |      EXAMPLE:\n",
      " |        print(var.index)\n",
      " |\n",
      " |  nl\n",
      " |      PROPERTY\n",
      " |        nl\n",
      " |\n",
      " |      PURPOSE:\n",
      " |        Return an NLExpr representing the variable. The result can be used to\n",
      " |        build nonlinear expressions via operator overloading of expression trees.\n",
      " |        This is useful in cases where explicit control over the resulting\n",
      " |        computational graph is desired.\n",
      " |\n",
      " |      RETURN VALUE:\n",
      " |        NLExpr object\n",
      " |\n",
      " |      EXAMPLE:\n",
      " |        x = model.addVar(name=\"x\")\n",
      " |        y = model.addVar(name=\"y\")\n",
      " |        z = model.addVar(name=\"z\")\n",
      " |        model.addGenConstrNL(z, (x.nl - y.nl) ** 2)\n",
      " |\n",
      " |  ----------------------------------------------------------------------\n",
      " |  Data descriptors defined here:\n",
      " |\n",
      " |  __dict__\n",
      " |      dictionary for instance variables\n",
      " |\n",
      " |  __weakref__\n",
      " |      list of weak references to the object\n",
      "\n"
     ]
    }
   ],
   "source": [
    "help(gp.Var)"
   ]
  },
  {
   "cell_type": "markdown",
   "metadata": {},
   "source": [
    "# Formulación matricial del problema"
   ]
  },
  {
   "cell_type": "markdown",
   "metadata": {},
   "source": [
    "Vamos a resolver el mismo problema de antes pero utilizando la API matricial que proporciona gurobi. Notemos que el problema anterior se puede formular matricialmente como:\n",
    "\\begin{align*}\n",
    "\\textrm{Maximizar}\\ \\ \\     & \\pmb{c}^{t} \\pmb{x}\\\\\n",
    "\\textrm{sujeto a}\\ \\ \\      & \\mathcal{A}\\pmb{x}\\leq \\pmb{b}\\\\\n",
    "                 \\ \\ \\      & \\pmb{x}=(x,y,z)\\in \\{0,1\\}^{3}\\\\                     \n",
    "\\end{align*}\n",
    "siendo:\n",
    "* $\\pmb{c}=(1,1,2)$.\n",
    "* $A = \\begin{bmatrix} \n",
    "1  & 2 & 3 \\\\ \n",
    "-1  & -1 & 0 \\\\ \n",
    "\\end{bmatrix}\n",
    "$\n",
    "* $b = \\begin{bmatrix} \n",
    "4   \\\\ \n",
    "-1  \\\\ \n",
    "\\end{bmatrix}\n",
    "$"
   ]
  },
  {
   "cell_type": "markdown",
   "metadata": {},
   "source": [
    "```{hint}\n",
    "* La principal **ventaja** de utilizar la **formulación matricial**, es que se basa en numpy arrays, estructuras muy eficientes a la hora de tener que recorrerlos.\n",
    "* Esto implica que la formulación de este modo será más **rápida computacionalmente**.\n",
    "```\n"
   ]
  },
  {
   "cell_type": "markdown",
   "metadata": {},
   "source": [
    "### Importamos los módulo necesarios"
   ]
  },
  {
   "cell_type": "code",
   "execution_count": 15,
   "metadata": {},
   "outputs": [],
   "source": [
    "import numpy as np\n",
    "import scipy.sparse as sp\n",
    "import gurobipy as gp\n",
    "from gurobipy import GRB"
   ]
  },
  {
   "cell_type": "markdown",
   "metadata": {},
   "source": [
    "### Creamos el modelo"
   ]
  },
  {
   "cell_type": "code",
   "execution_count": 16,
   "metadata": {},
   "outputs": [],
   "source": [
    "m = gp.Model(\"matrixmodel\")"
   ]
  },
  {
   "cell_type": "markdown",
   "metadata": {},
   "source": [
    "### Creamos las variables"
   ]
  },
  {
   "cell_type": "code",
   "execution_count": 17,
   "metadata": {},
   "outputs": [],
   "source": [
    "x = m.addMVar(shape=3, vtype=GRB.BINARY, name=\"x\")"
   ]
  },
  {
   "cell_type": "markdown",
   "metadata": {},
   "source": [
    "### Definimos la función objetivo"
   ]
  },
  {
   "cell_type": "code",
   "execution_count": 18,
   "metadata": {},
   "outputs": [],
   "source": [
    "obj = np.array([1.0, 1.0, 2.0])\n",
    "m.setObjective(obj @ x, GRB.MAXIMIZE)"
   ]
  },
  {
   "cell_type": "markdown",
   "metadata": {},
   "source": [
    "### Restricciones"
   ]
  },
  {
   "cell_type": "code",
   "execution_count": 19,
   "metadata": {},
   "outputs": [
    {
     "data": {
      "text/plain": [
       "<MConstr (2,) *awaiting model update*>"
      ]
     },
     "execution_count": 19,
     "metadata": {},
     "output_type": "execute_result"
    }
   ],
   "source": [
    "# Matriz de restricciones (sparse)\n",
    "data = np.array([1.0, 2.0, 3.0, -1.0, -1.0])\n",
    "row = np.array([0, 0, 0, 1, 1])\n",
    "col = np.array([0, 1, 2, 0, 1])\n",
    "\n",
    "A = sp.csr_matrix((data, (row, col)), shape=(2, 3))\n",
    "\n",
    "# Lados derechos\n",
    "rhs = np.array([4.0, -1.0])\n",
    "\n",
    "# Añadimos las restricciones al modelo\n",
    "m.addConstr(A @ x <= rhs, name=\"c\")"
   ]
  },
  {
   "cell_type": "markdown",
   "metadata": {},
   "source": [
    "### Optimizamos el  modelo"
   ]
  },
  {
   "cell_type": "code",
   "execution_count": 20,
   "metadata": {},
   "outputs": [
    {
     "name": "stdout",
     "output_type": "stream",
     "text": [
      "Gurobi Optimizer version 12.0.3 build v12.0.3rc0 (win64 - Windows 11+.0 (26200.2))\n",
      "\n",
      "CPU model: 11th Gen Intel(R) Core(TM) i7-1165G7 @ 2.80GHz, instruction set [SSE2|AVX|AVX2|AVX512]\n",
      "Thread count: 4 physical cores, 8 logical processors, using up to 8 threads\n",
      "\n",
      "Optimize a model with 2 rows, 3 columns and 5 nonzeros\n",
      "Model fingerprint: 0x8d4960d3\n",
      "Variable types: 0 continuous, 3 integer (3 binary)\n",
      "Coefficient statistics:\n",
      "  Matrix range     [1e+00, 3e+00]\n",
      "  Objective range  [1e+00, 2e+00]\n",
      "  Bounds range     [1e+00, 1e+00]\n",
      "  RHS range        [1e+00, 4e+00]\n",
      "Found heuristic solution: objective 2.0000000\n",
      "Presolve removed 2 rows and 3 columns\n",
      "Presolve time: 0.00s\n",
      "Presolve: All rows and columns removed\n",
      "\n",
      "Explored 0 nodes (0 simplex iterations) in 0.01 seconds (0.00 work units)\n",
      "Thread count was 1 (of 8 available processors)\n",
      "\n",
      "Solution count 2: 3 2 \n",
      "\n",
      "Optimal solution found (tolerance 1.00e-04)\n",
      "Best objective 3.000000000000e+00, best bound 3.000000000000e+00, gap 0.0000%\n"
     ]
    }
   ],
   "source": [
    "m.optimize()"
   ]
  },
  {
   "cell_type": "markdown",
   "metadata": {},
   "source": [
    "### Extraemos la solución"
   ]
  },
  {
   "cell_type": "code",
   "execution_count": 21,
   "metadata": {},
   "outputs": [
    {
     "name": "stdout",
     "output_type": "stream",
     "text": [
      "[1. 0. 1.]\n",
      "Obj: 3\n"
     ]
    }
   ],
   "source": [
    "print(x.X)\n",
    "print('Obj: %g' % m.objVal)"
   ]
  },
  {
   "cell_type": "markdown",
   "metadata": {},
   "source": [
    "# Formulación de un ejemplo más complejo (empleando diccionarios)\n",
    "\n",
    "A continuación ilustramos una serie de funciones de Gurobi útiles para manipular de forma más eficiente los datos de entrada necesarios para formular los problemas"
   ]
  },
  {
   "cell_type": "markdown",
   "metadata": {},
   "source": [
    "## Funciones útiles de gurobi para una formulación más eficiente"
   ]
  },
  {
   "cell_type": "markdown",
   "metadata": {},
   "source": [
    "### Multidict"
   ]
  },
  {
   "cell_type": "code",
   "execution_count": 22,
   "metadata": {},
   "outputs": [
    {
     "name": "stdout",
     "output_type": "stream",
     "text": [
      "['x', 'y', 'z']\n",
      "{'x': 0, 'y': 1, 'z': 0}\n",
      "{'x': 1, 'y': 2, 'z': 3}\n"
     ]
    }
   ],
   "source": [
    "names, lower, upper = gp.multidict({ 'x': [0, 1], 'y': [1, 2], 'z': [0, 3] })\n",
    "print(names)\n",
    "print(lower)\n",
    "print(upper)"
   ]
  },
  {
   "cell_type": "markdown",
   "metadata": {},
   "source": [
    "### Clase Tuplelist"
   ]
  },
  {
   "cell_type": "code",
   "execution_count": 23,
   "metadata": {},
   "outputs": [
    {
     "data": {
      "text/plain": [
       "<gurobi.tuplelist (4 tuples, 2 values each):\n",
       " ( 1 , 2 )\n",
       " ( 1 , 3 )\n",
       " ( 2 , 3 )\n",
       " ( 2 , 4 )\n",
       ">"
      ]
     },
     "execution_count": 23,
     "metadata": {},
     "output_type": "execute_result"
    }
   ],
   "source": [
    "l = gp.tuplelist([(1, 2), (1, 3), (2, 3), (2, 4)])\n",
    "l"
   ]
  },
  {
   "cell_type": "code",
   "execution_count": 24,
   "metadata": {},
   "outputs": [
    {
     "name": "stdout",
     "output_type": "stream",
     "text": [
      "<gurobi.tuplelist (2 tuples, 2 values each):\n",
      " ( 1 , 2 )\n",
      " ( 1 , 3 )\n",
      ">\n"
     ]
    }
   ],
   "source": [
    "print(l.select(1, '*'))"
   ]
  },
  {
   "cell_type": "code",
   "execution_count": 25,
   "metadata": {},
   "outputs": [
    {
     "name": "stdout",
     "output_type": "stream",
     "text": [
      "<gurobi.tuplelist (2 tuples, 2 values each):\n",
      " ( 1 , 3 )\n",
      " ( 2 , 3 )\n",
      ">\n"
     ]
    }
   ],
   "source": [
    "print(l.select('*',3))"
   ]
  },
  {
   "cell_type": "code",
   "execution_count": 26,
   "metadata": {},
   "outputs": [
    {
     "name": "stdout",
     "output_type": "stream",
     "text": [
      "<gurobi.tuplelist (2 tuples, 2 values each):\n",
      " ( 1 , 2 )\n",
      " ( 2 , 4 )\n",
      ">\n"
     ]
    }
   ],
   "source": [
    "print(l.select('*', [2, 4]))"
   ]
  },
  {
   "cell_type": "code",
   "execution_count": 27,
   "metadata": {},
   "outputs": [
    {
     "name": "stdout",
     "output_type": "stream",
     "text": [
      "[(1, 2), (2, 4)]\n"
     ]
    }
   ],
   "source": [
    "# Se pueden obtener resultados similares empleando list comprehension\n",
    "print([(x,y) for x,y in l if y in [2,4]])"
   ]
  },
  {
   "cell_type": "code",
   "execution_count": 28,
   "metadata": {},
   "outputs": [
    {
     "name": "stdout",
     "output_type": "stream",
     "text": [
      "<gurobi.tuplelist (5 tuples, 2 values each):\n",
      " ( 1 , 2 )\n",
      " ( 1 , 3 )\n",
      " ( 2 , 3 )\n",
      " ( 2 , 4 )\n",
      " ( 3 , 4 )\n",
      ">\n"
     ]
    }
   ],
   "source": [
    "# Es una subclase de list, o sea que admite las mismas operaciones\n",
    "l += [(3, 4)]\n",
    "print(l)"
   ]
  },
  {
   "cell_type": "markdown",
   "metadata": {},
   "source": [
    "### La clase tupledict:"
   ]
  },
  {
   "cell_type": "code",
   "execution_count": 29,
   "metadata": {},
   "outputs": [
    {
     "data": {
      "text/plain": [
       "{(1, 2): <gurobi.Var *Awaiting Model Update*>,\n",
       " (1, 3): <gurobi.Var *Awaiting Model Update*>,\n",
       " (2, 3): <gurobi.Var *Awaiting Model Update*>,\n",
       " (2, 4): <gurobi.Var *Awaiting Model Update*>}"
      ]
     },
     "execution_count": 29,
     "metadata": {},
     "output_type": "execute_result"
    }
   ],
   "source": [
    "l = list([(1, 2), (1, 3), (2, 3), (2, 4)])\n",
    "m = gp.Model('prueba')\n",
    "d = m.addVars(l, name=\"d\")\n",
    "d"
   ]
  },
  {
   "cell_type": "code",
   "execution_count": 30,
   "metadata": {},
   "outputs": [
    {
     "data": {
      "text/plain": [
       "<gurobi.Var *Awaiting Model Update*>"
      ]
     },
     "execution_count": 30,
     "metadata": {},
     "output_type": "execute_result"
    }
   ],
   "source": [
    "d[(2,3)]"
   ]
  },
  {
   "cell_type": "code",
   "execution_count": 31,
   "metadata": {},
   "outputs": [
    {
     "data": {
      "text/plain": [
       "<gurobi.LinExpr: d[1,2] + d[1,3]>"
      ]
     },
     "execution_count": 31,
     "metadata": {},
     "output_type": "execute_result"
    }
   ],
   "source": [
    "# Contrucción de expresiones lineales\n",
    "eje1 = sum(d.select(1, '*'))\n",
    "m.update()\n",
    "eje1"
   ]
  },
  {
   "cell_type": "code",
   "execution_count": 32,
   "metadata": {},
   "outputs": [
    {
     "data": {
      "text/plain": [
       "<gurobi.LinExpr: d[1,2] + d[1,3]>"
      ]
     },
     "execution_count": 32,
     "metadata": {},
     "output_type": "execute_result"
    }
   ],
   "source": [
    "# Algo más eficiente: método sum de la clase tupledict\n",
    "eje2 = d.sum(1,'*')\n",
    "m.update()\n",
    "eje2"
   ]
  },
  {
   "cell_type": "code",
   "execution_count": 33,
   "metadata": {},
   "outputs": [
    {
     "data": {
      "text/plain": [
       "<gurobi.LinExpr: 10.0 d[1,2] + 5.0 d[1,3] + d[2,3] + 3.0 d[2,4]>"
      ]
     },
     "execution_count": 33,
     "metadata": {},
     "output_type": "execute_result"
    }
   ],
   "source": [
    "# Método prod de la clase tupledict\n",
    "coef = {\n",
    "    (1, 2): 10,\n",
    "    (1, 3):5,\n",
    "    (2, 3):1,\n",
    "    (2, 4):3\n",
    "}\n",
    "eje3 = d.prod(coef)\n",
    "m.update()\n",
    "eje3"
   ]
  },
  {
   "cell_type": "code",
   "execution_count": 34,
   "metadata": {},
   "outputs": [
    {
     "data": {
      "text/plain": [
       "<gurobi.LinExpr: d[2,3] + 3.0 d[2,4]>"
      ]
     },
     "execution_count": 34,
     "metadata": {},
     "output_type": "execute_result"
    }
   ],
   "source": [
    "# También se puede filtrar:\n",
    "eje4 = d.prod(coef, 2, '*')\n",
    "m.update()\n",
    "eje4"
   ]
  },
  {
   "cell_type": "code",
   "execution_count": 35,
   "metadata": {},
   "outputs": [
    {
     "name": "stdout",
     "output_type": "stream",
     "text": [
      "<gurobi.Var d[1,3]>\n",
      "{(1, 2): <gurobi.Var d[1,2]>, (1, 3): <gurobi.Var d[1,3]>, (2, 3): <gurobi.Var d[2,3]>, (2, 4): <gurobi.Var d[2,4]>, (3, 4): 0.3}\n",
      "dict_values([<gurobi.Var d[1,2]>, <gurobi.Var d[1,3]>, <gurobi.Var d[2,3]>, <gurobi.Var d[2,4]>, 0.3])\n"
     ]
    }
   ],
   "source": [
    "# Como tupledict es una subclase de dict, admite todos sus métodos\n",
    "print(d[1,3])\n",
    "d[3,4]=0.3\n",
    "print(d)\n",
    "print(d.values())"
   ]
  },
  {
   "cell_type": "markdown",
   "metadata": {},
   "source": [
    "## Multicommodity flow problem"
   ]
  },
  {
   "cell_type": "markdown",
   "metadata": {},
   "source": [
    "En este ejemplo resolveremos un **multi-commodity flow model** sobre una red pequeña. Sea $G=(N,A)$ un grafo dirigido, y sea $K$ un conjunto de productos. Para cada arco $(i,j)\\in A$ y cada producto $k$, existe un coste asociado por unidad de flujo, denotado por $c_{ij}^{k}$. La demanda (o suministro) de cada nodo $i\\in N$ para el producto $k$, se denota por $b_{i}^{k}$, donde $b_{i}^{k}\\geq 0$ denota un nodo de suministro y $b_{i}^{k}< 0$ un nodo de demanda. La variables de decisión son:\n",
    " * $x_{ij}^{k}$ que denota la cantidad de producto $k$ enviado desde el nodo $i$ al nodo $j$. \n",
    "El flujo total que viaja a través de un arco $(i,j)\\in A$, teniendo en cuenta todos los productos, está acotado superiormente por $u_{ij}$. \n",
    "\n",
    "El problema puede modelarse como un problema de programación lineal:\n",
    "\\begin{align*}\n",
    "\\textrm{Minimizar}\\ \\ \\     & \\sum_{k\\in K}\\sum_{(i,j)\\in A}c_{ij}^{k}x_{ij}^{k}\\\\\n",
    "\\textrm{sujeto a}\\ \\ \\      & \\sum_{k\\in K}x_{ij}^{k}\\leq u_{ij}^{k},\\ \\forall (i,j)\\in A \\, \\text{(Capacidad)}\\\\\n",
    "                            & \\sum_{(i,j)\\in A}x_{ij}^{k}-\\sum_{(j,i)\\in A}x_{ji}^{k}=b_{i}^{k},\\ \\forall i\\in N, \\forall k\\in K \\, \\text{(Conservación de flujo)}\\\\\n",
    "                            & x_{ij}^{k}\\geq 0,\\ \\forall (i,j)\\in A, \\forall k\\in K.\n",
    "\\end{align*}"
   ]
  },
  {
   "cell_type": "markdown",
   "metadata": {},
   "source": [
    "El ejemplo que usaremos tiene las siguientes características:\n",
    " * Dos productos (bolígrafos y lápices) son producidos en dos ciudades (Detroit y Denver).\n",
    " * Los productos deben ser transportados a almacenes de tres ciudades (Boston, New York y Seattle) para satisfacer una cierta demanda ('inflow[k,i]').\n",
    " * Cada arco en la red de transporte tiene un coste asociado (depende del producto) y una capacidad total que se debe respetar ('capacity[i,j]').\n",
    " * Se quiere minimizar los costes de transporte ('cost[i,j]')."
   ]
  },
  {
   "cell_type": "markdown",
   "metadata": {},
   "source": [
    "### Datos"
   ]
  },
  {
   "cell_type": "code",
   "execution_count": 36,
   "metadata": {},
   "outputs": [],
   "source": [
    "# Base data\n",
    "commodities = ['Pencils', 'Pens']\n",
    "nodes = ['Detroit', 'Denver', 'Boston', 'New York', 'Seattle']\n",
    "\n",
    "arcs, capacity = gp.multidict({\n",
    "    ('Detroit', 'Boston'):   100,\n",
    "    ('Detroit', 'New York'):  80,\n",
    "    ('Detroit', 'Seattle'):  120,\n",
    "    ('Denver',  'Boston'):   120,\n",
    "    ('Denver',  'New York'): 120,\n",
    "    ('Denver',  'Seattle'):  120})\n",
    "\n",
    "# Cost for triplets commodity-source-destination\n",
    "cost = {\n",
    "    ('Pencils', 'Detroit', 'Boston'):   10,\n",
    "    ('Pencils', 'Detroit', 'New York'): 20,\n",
    "    ('Pencils', 'Detroit', 'Seattle'):  60,\n",
    "    ('Pencils', 'Denver',  'Boston'):   40,\n",
    "    ('Pencils', 'Denver',  'New York'): 40,\n",
    "    ('Pencils', 'Denver',  'Seattle'):  30,\n",
    "    ('Pens',    'Detroit', 'Boston'):   20,\n",
    "    ('Pens',    'Detroit', 'New York'): 20,\n",
    "    ('Pens',    'Detroit', 'Seattle'):  80,\n",
    "    ('Pens',    'Denver',  'Boston'):   60,\n",
    "    ('Pens',    'Denver',  'New York'): 70,\n",
    "    ('Pens',    'Denver',  'Seattle'):  30}\n",
    "\n",
    "# Demand for pairs of commodity-city\n",
    "inflow = {\n",
    "    ('Pencils', 'Detroit'):   50,\n",
    "    ('Pencils', 'Denver'):    60,\n",
    "    ('Pencils', 'Boston'):   -50,\n",
    "    ('Pencils', 'New York'): -50,\n",
    "    ('Pencils', 'Seattle'):  -10,\n",
    "    ('Pens',    'Detroit'):   60,\n",
    "    ('Pens',    'Denver'):    40,\n",
    "    ('Pens',    'Boston'):   -40,\n",
    "    ('Pens',    'New York'): -30,\n",
    "    ('Pens',    'Seattle'):  -30}"
   ]
  },
  {
   "cell_type": "markdown",
   "metadata": {},
   "source": [
    "### Formulación del modelo en gurobipy"
   ]
  },
  {
   "cell_type": "code",
   "execution_count": 37,
   "metadata": {},
   "outputs": [
    {
     "name": "stdout",
     "output_type": "stream",
     "text": [
      "Gurobi Optimizer version 12.0.3 build v12.0.3rc0 (win64 - Windows 11+.0 (26200.2))\n",
      "\n",
      "CPU model: 11th Gen Intel(R) Core(TM) i7-1165G7 @ 2.80GHz, instruction set [SSE2|AVX|AVX2|AVX512]\n",
      "Thread count: 4 physical cores, 8 logical processors, using up to 8 threads\n",
      "\n",
      "Optimize a model with 16 rows, 12 columns and 36 nonzeros\n",
      "Model fingerprint: 0x06ffdf1e\n",
      "Coefficient statistics:\n",
      "  Matrix range     [1e+00, 1e+00]\n",
      "  Objective range  [1e+01, 8e+01]\n",
      "  Bounds range     [0e+00, 0e+00]\n",
      "  RHS range        [1e+01, 1e+02]\n",
      "Presolve removed 16 rows and 12 columns\n",
      "Presolve time: 0.01s\n",
      "Presolve: All rows and columns removed\n",
      "Iteration    Objective       Primal Inf.    Dual Inf.      Time\n",
      "       0    5.5000000e+03   0.000000e+00   2.000000e+01      0s\n",
      "Extra simplex iterations after uncrush: 1\n",
      "       1    5.5000000e+03   0.000000e+00   0.000000e+00      0s\n",
      "\n",
      "Solved in 1 iterations and 0.01 seconds (0.00 work units)\n",
      "Optimal objective  5.500000000e+03\n"
     ]
    }
   ],
   "source": [
    "# Creamos el modelo\n",
    "mnet = gp.Model('netflow')\n",
    "\n",
    "# Definimos las variables y función objetivo:\n",
    "flow = mnet.addVars(commodities, arcs, obj=cost, name=\"flow\")\n",
    "\n",
    "###\n",
    "# Restriccionees\n",
    "###\n",
    "\n",
    "## Restricción de capacidad en los arcos\n",
    "mnet.addConstrs(\n",
    "    (flow.sum('*', i, j) <= capacity[i, j] for i, j in arcs), \"cap\")\n",
    "\n",
    "# Otra forma utilizando loops de Python:\n",
    "# for i, j in arcs:\n",
    "#   mnet.addConstr(sum(flow[h, i, j] for h in commodities) <= capacity[i, j],\n",
    "#               \"cap[%s, %s]\" % (i, j))\n",
    "\n",
    "## Restricción de conservación de flujo\n",
    "mnet.addConstrs(\n",
    "    (flow.sum(k, i, '*')-flow.sum(k, '*',i) == inflow[k, i]\n",
    "        for k in commodities for i in nodes), \"node\")\n",
    "\n",
    "# Versión alternativa utilizando quicksum de gurobi\n",
    "# mnet.addConstrs(\n",
    "#   (gp.quicksum(flow[h, i, j] for i, j in arcs.select('*', j)) + inflow[h, j] ==\n",
    "#     gp.quicksum(flow[h, j, k] for j, k in arcs.select(j, '*'))\n",
    "#     for h in commodities for j in nodes), \"node\")\n",
    "\n",
    "# Resolvemos el modelo:\n",
    "mnet.optimize()\n"
   ]
  },
  {
   "cell_type": "markdown",
   "metadata": {},
   "source": [
    "### Reportamos la solución"
   ]
  },
  {
   "cell_type": "code",
   "execution_count": 38,
   "metadata": {},
   "outputs": [
    {
     "name": "stdout",
     "output_type": "stream",
     "text": [
      "Objective function: 5500\n",
      "\n",
      "Optimal flows for Pencils:\n",
      "Detroit -> Boston: 50\n",
      "Denver -> New York: 50\n",
      "Denver -> Seattle: 10\n",
      "\n",
      "Optimal flows for Pens:\n",
      "Detroit -> Boston: 30\n",
      "Detroit -> New York: 30\n",
      "Denver -> Boston: 10\n",
      "Denver -> Seattle: 30\n"
     ]
    }
   ],
   "source": [
    "print('Objective function: %g' % mnet.objVal)\n",
    "if mnet.status == GRB.OPTIMAL:\n",
    "    solution = mnet.getAttr('x', flow)\n",
    "    for k in commodities:\n",
    "        print('\\nOptimal flows for %s:' % k)\n",
    "        for i, j in arcs:\n",
    "            if solution[k, i, j] > 0:\n",
    "                print('%s -> %s: %g' % (i, j, solution[k, i, j]))"
   ]
  },
  {
   "cell_type": "code",
   "execution_count": 39,
   "metadata": {},
   "outputs": [
    {
     "name": "stdout",
     "output_type": "stream",
     "text": [
      "Warning: variable name \"flow[Pencils,Detroit,New York]\" has a space\n",
      "Warning: constraint name \"node[Pencils,New York]\" has a space\n",
      "Warning: default variable names used to write mps file\n",
      "Warning: default constraint names used to write mps file\n"
     ]
    }
   ],
   "source": [
    "mnet.write('gurobi_model.mps')"
   ]
  },
  {
   "cell_type": "markdown",
   "metadata": {},
   "source": [
    "# Separación de modelo-datos en Python"
   ]
  },
  {
   "cell_type": "markdown",
   "metadata": {},
   "source": [
    "Cuando se contruye un modelo de optimización en un lenguaje de modelado, es muy frecuente separar la **formulación** del problema de optimización en sí mismo de los **datos** que se utilizan para crear un **instancia concreta** del modelo."
   ]
  },
  {
   "cell_type": "markdown",
   "metadata": {},
   "source": [
    "## Datos"
   ]
  },
  {
   "cell_type": "code",
   "execution_count": 40,
   "metadata": {},
   "outputs": [],
   "source": [
    "def data_instance1():\n",
    "    # Función objetivo\n",
    "    obj = np.array([1.0, 1.0, 2.0])\n",
    "\n",
    "    # Matriz de restricciones\n",
    "    data = np.array([1.0, 2.0, 3.0, -1.0, -1.0])\n",
    "    row = np.array([0, 0, 0, 1, 1])\n",
    "    col = np.array([0, 1, 2, 0, 1])\n",
    "\n",
    "    A = sp.csr_matrix((data, (row, col)), shape=(2, 3))\n",
    "\n",
    "    # Lados derechos\n",
    "    rhs = np.array([4.0, -1.0])\n",
    "    \n",
    "    return obj, A, rhs"
   ]
  },
  {
   "cell_type": "code",
   "execution_count": 41,
   "metadata": {},
   "outputs": [],
   "source": [
    "def data_instance2():\n",
    "    # Función objetivo\n",
    "    obj = np.array([2.0, 2.0, 1.0])\n",
    "\n",
    "    # Matriz de restricciones\n",
    "    data = np.array([1.0, 2.0, 3.0, -1.0, -1.0])\n",
    "    row = np.array([0, 0, 0, 1, 1])\n",
    "    col = np.array([0, 1, 2, 0, 1])\n",
    "\n",
    "    A = sp.csr_matrix((data, (row, col)), shape=(2, 3))\n",
    "\n",
    "    # Lados derechos\n",
    "    rhs = np.array([4.0, -1.0])\n",
    "    \n",
    "    return obj, A, rhs"
   ]
  },
  {
   "cell_type": "markdown",
   "metadata": {},
   "source": [
    "## Función para resolver el problema"
   ]
  },
  {
   "cell_type": "code",
   "execution_count": 42,
   "metadata": {},
   "outputs": [],
   "source": [
    "def solve_matrix_problem(obj,A,rhs):\n",
    "    # Creamos el modelo\n",
    "    m = gp.Model(\"matrixmodel\")\n",
    "\n",
    "    # Creamos las variables\n",
    "    x = m.addMVar(shape=obj.size, vtype=GRB.BINARY, name=\"x\")\n",
    "\n",
    "    # Definimos la función objetivo\n",
    "    m.setObjective(obj @ x, GRB.MAXIMIZE)\n",
    "\n",
    "    #Añadimos las restricciones\n",
    "    m.addConstr(A @ x <= rhs, name=\"c\")\n",
    "\n",
    "    ### Optimizamos el  modelo\n",
    "    m.optimize()\n",
    "\n",
    "    ### Extraemos la solución\n",
    "    print(x.X)\n",
    "    print('Obj: %g' % m.objVal)\n",
    "    \n",
    "    return m"
   ]
  },
  {
   "cell_type": "markdown",
   "metadata": {},
   "source": [
    "## Resolvemos"
   ]
  },
  {
   "cell_type": "code",
   "execution_count": 43,
   "metadata": {},
   "outputs": [
    {
     "name": "stdout",
     "output_type": "stream",
     "text": [
      "Gurobi Optimizer version 12.0.3 build v12.0.3rc0 (win64 - Windows 11+.0 (26200.2))\n",
      "\n",
      "CPU model: 11th Gen Intel(R) Core(TM) i7-1165G7 @ 2.80GHz, instruction set [SSE2|AVX|AVX2|AVX512]\n",
      "Thread count: 4 physical cores, 8 logical processors, using up to 8 threads\n",
      "\n",
      "Optimize a model with 2 rows, 3 columns and 5 nonzeros\n",
      "Model fingerprint: 0x8d4960d3\n",
      "Variable types: 0 continuous, 3 integer (3 binary)\n",
      "Coefficient statistics:\n",
      "  Matrix range     [1e+00, 3e+00]\n",
      "  Objective range  [1e+00, 2e+00]\n",
      "  Bounds range     [1e+00, 1e+00]\n",
      "  RHS range        [1e+00, 4e+00]\n",
      "Found heuristic solution: objective 2.0000000\n",
      "Presolve removed 2 rows and 3 columns\n",
      "Presolve time: 0.00s\n",
      "Presolve: All rows and columns removed\n",
      "\n",
      "Explored 0 nodes (0 simplex iterations) in 0.01 seconds (0.00 work units)\n",
      "Thread count was 1 (of 8 available processors)\n",
      "\n",
      "Solution count 2: 3 2 \n",
      "\n",
      "Optimal solution found (tolerance 1.00e-04)\n",
      "Best objective 3.000000000000e+00, best bound 3.000000000000e+00, gap 0.0000%\n",
      "[1. 0. 1.]\n",
      "Obj: 3\n"
     ]
    }
   ],
   "source": [
    "# Datos de la instancia\n",
    "obj,A,rhs = data_instance1()\n",
    "# Resolvemos el problema para una instancia concreta\n",
    "m = solve_matrix_problem(obj,A,rhs)"
   ]
  },
  {
   "cell_type": "code",
   "execution_count": 44,
   "metadata": {},
   "outputs": [
    {
     "name": "stdout",
     "output_type": "stream",
     "text": [
      "Gurobi Optimizer version 12.0.3 build v12.0.3rc0 (win64 - Windows 11+.0 (26200.2))\n",
      "\n",
      "CPU model: 11th Gen Intel(R) Core(TM) i7-1165G7 @ 2.80GHz, instruction set [SSE2|AVX|AVX2|AVX512]\n",
      "Thread count: 4 physical cores, 8 logical processors, using up to 8 threads\n",
      "\n",
      "Optimize a model with 2 rows, 3 columns and 5 nonzeros\n",
      "Model fingerprint: 0xcf544dfc\n",
      "Variable types: 0 continuous, 3 integer (3 binary)\n",
      "Coefficient statistics:\n",
      "  Matrix range     [1e+00, 3e+00]\n",
      "  Objective range  [1e+00, 2e+00]\n",
      "  Bounds range     [1e+00, 1e+00]\n",
      "  RHS range        [1e+00, 4e+00]\n",
      "Found heuristic solution: objective 4.0000000\n",
      "Presolve removed 2 rows and 3 columns\n",
      "Presolve time: 0.00s\n",
      "Presolve: All rows and columns removed\n",
      "\n",
      "Explored 0 nodes (0 simplex iterations) in 0.01 seconds (0.00 work units)\n",
      "Thread count was 1 (of 8 available processors)\n",
      "\n",
      "Solution count 1: 4 \n",
      "\n",
      "Optimal solution found (tolerance 1.00e-04)\n",
      "Best objective 4.000000000000e+00, best bound 4.000000000000e+00, gap 0.0000%\n",
      "[1. 1. 0.]\n",
      "Obj: 4\n"
     ]
    }
   ],
   "source": [
    "obj,A,rhs = data_instance2()\n",
    "m = solve_matrix_problem(obj,A,rhs)"
   ]
  },
  {
   "cell_type": "markdown",
   "metadata": {},
   "source": [
    "# Algunas opciones avanzadas"
   ]
  },
  {
   "cell_type": "markdown",
   "metadata": {},
   "source": [
    "## Modificaciones del modelo"
   ]
  },
  {
   "cell_type": "code",
   "execution_count": 45,
   "metadata": {},
   "outputs": [],
   "source": [
    "def print_sol(mnet):\n",
    "    if mnet.status == GRB.OPTIMAL:\n",
    "        solution = mnet.getAttr('x', flow)\n",
    "        for k in commodities:\n",
    "            print('\\nOptimal flows for %s:' % k)\n",
    "            for i, j in arcs:\n",
    "                if solution[k, i, j] > 0:\n",
    "                    print('%s -> %s: %g' % (i, j, solution[k, i, j]))"
   ]
  },
  {
   "cell_type": "code",
   "execution_count": 46,
   "metadata": {},
   "outputs": [
    {
     "name": "stdout",
     "output_type": "stream",
     "text": [
      "\n",
      "Optimal flows for Pencils:\n",
      "Detroit -> Boston: 50\n",
      "Denver -> New York: 50\n",
      "Denver -> Seattle: 10\n",
      "\n",
      "Optimal flows for Pens:\n",
      "Detroit -> Boston: 30\n",
      "Detroit -> New York: 30\n",
      "Denver -> Boston: 10\n",
      "Denver -> Seattle: 30\n"
     ]
    }
   ],
   "source": [
    "print_sol(mnet)"
   ]
  },
  {
   "cell_type": "code",
   "execution_count": 47,
   "metadata": {
    "scrolled": true
   },
   "outputs": [
    {
     "name": "stdout",
     "output_type": "stream",
     "text": [
      "Gurobi Optimizer version 12.0.3 build v12.0.3rc0 (win64 - Windows 11+.0 (26200.2))\n",
      "\n",
      "CPU model: 11th Gen Intel(R) Core(TM) i7-1165G7 @ 2.80GHz, instruction set [SSE2|AVX|AVX2|AVX512]\n",
      "Thread count: 4 physical cores, 8 logical processors, using up to 8 threads\n",
      "\n",
      "Optimize a model with 16 rows, 12 columns and 36 nonzeros\n",
      "Coefficient statistics:\n",
      "  Matrix range     [1e+00, 1e+00]\n",
      "  Objective range  [1e+01, 8e+01]\n",
      "  Bounds range     [0e+00, 0e+00]\n",
      "  RHS range        [1e+01, 1e+02]\n",
      "\n",
      "Iteration    Objective       Primal Inf.    Dual Inf.      Time\n",
      "       0    5.5000000e+03   5.000000e+01   0.000000e+00      0s\n",
      "       1    6.0000000e+03   0.000000e+00   0.000000e+00      0s\n",
      "\n",
      "Solved in 1 iterations and 0.01 seconds (0.00 work units)\n",
      "Optimal objective  6.000000000e+03\n"
     ]
    }
   ],
   "source": [
    "# Forzamos que no haya flujo de 'Pencil' de Detroit a Boston\n",
    "flow[('Pencils','Detroit','Boston')].ub = 0\n",
    "mnet.optimize()"
   ]
  },
  {
   "cell_type": "code",
   "execution_count": 48,
   "metadata": {},
   "outputs": [
    {
     "name": "stdout",
     "output_type": "stream",
     "text": [
      "\n",
      "Optimal flows for Pencils:\n",
      "Detroit -> New York: 50\n",
      "Denver -> Boston: 50\n",
      "Denver -> Seattle: 10\n",
      "\n",
      "Optimal flows for Pens:\n",
      "Detroit -> Boston: 30\n",
      "Detroit -> New York: 30\n",
      "Denver -> Boston: 10\n",
      "Denver -> Seattle: 30\n"
     ]
    }
   ],
   "source": [
    "print_sol(mnet)"
   ]
  },
  {
   "cell_type": "markdown",
   "metadata": {},
   "source": [
    "## Cambio de opciones del solver"
   ]
  },
  {
   "cell_type": "code",
   "execution_count": 49,
   "metadata": {
    "scrolled": true
   },
   "outputs": [
    {
     "name": "stdout",
     "output_type": "stream",
     "text": [
      "Help on ParamClass in module gurobipy._core object:\n",
      "\n",
      "class ParamClass(builtins.object)\n",
      " |  ParamClass(env)\n",
      " |\n",
      " |  Gurobi parameters are used to control the optimization process.  They all\n",
      " |  have default values, but their values can be queried or modified through the\n",
      " |  Model.Params class (e.g., 'limit = model.Params.nodeLimit',\n",
      " |  'model.Params.MIPGap = 0.0').\n",
      " |\n",
      " |  Parameters fall into the following categories:\n",
      " |\n",
      " |  Termination: affect the termination of an optimize() call\n",
      " |    BarIterLimit: limits the number of barrier iterations performed\n",
      " |    BestBdStop: sets a best bound values at which optimization should stop\n",
      " |    BestObjStop: sets an objective value at which optimization should stop\n",
      " |    Cutoff: sets a target objective value\n",
      " |    IterationLimit: limits the number of simplex iterations performed\n",
      " |    MemLimit: returns an error if the total amount of memory used by Gurobi exceeds this limit (in GB)\n",
      " |    NodeLimit: limits the number of MIP nodes explored\n",
      " |    SoftMemLimit: limits the total amount of memory that Gurobi can use (in GB)\n",
      " |    SolutionLimit: sets a target for the number of feasible solutions found\n",
      " |    TimeLimit: limits the total time expended (in seconds)\n",
      " |    WorkLimit: limits the total work expended (in work units)\n",
      " |\n",
      " |  Tolerances: control the allowable feasibility or optimality violations\n",
      " |    BarConvTol: barrier convergence tolerance\n",
      " |    BarQCPConvTol: barrier convergence tolerance for QCP models\n",
      " |    FeasibilityTol: primal feasibility tolerance\n",
      " |    IntFeasTol: integer feasibility tolerance\n",
      " |    MarkowitzTol: threshold pivoting tolerance\n",
      " |    MIPGap: target relative MIP optimality gap\n",
      " |    MIPGapAbs: target absolute MIP optimality gap\n",
      " |    OptimalityTol: dual feasibility tolerance\n",
      " |    PSDTol: QP positive semidefinite tolerance\n",
      " |\n",
      " |  Simplex: affect the simplex algorithms\n",
      " |    InfUnbdInfo: makes additional information available for infeasible or\n",
      " |                 unbounded LP models\n",
      " |    LPWarmStart: controls whether and how to warm-start LP optimization\n",
      " |    NetworkAlg: controls whether to use network simplex, if an LP is\n",
      " |                a network problem\n",
      " |    NormAdjust: chooses different pricing norm variants\n",
      " |    ObjScale: controls objective scaling\n",
      " |    PerturbValue: controls the magnitude of any simplex perturbations\n",
      " |    Quad: turns quad precision on or off\n",
      " |    ScaleFlag: turns model scaling on or off\n",
      " |    Sifting: dual simplex sifting strategy for LP, MIP root and MIP nodes\n",
      " |    SiftMethod: chooses from dual, primal and barrier to solve sifting\n",
      " |                subproblems\n",
      " |    SimplexPricing: determines variable pricing strategy\n",
      " |    SolutionTarget: specifies the solution target for LPs\n",
      " |\n",
      " |  Barrier: affect the barrier algorithms\n",
      " |    BarCorrectors: limits the number of central corrections\n",
      " |    BarHomogeneous: selects the barrier homogeneous algorithm\n",
      " |    BarOrder: determines the fill reducing ordering strategy\n",
      " |    Crossover: controls barrier crossover\n",
      " |    CrossoverBasis: controls initial crossover basis construction\n",
      " |    QCPDual: enables dual variable computation for continuous QCP models\n",
      " |\n",
      " |  MIP: affect the MIP algorithms\n",
      " |    BranchDir: controls the branching node selection\n",
      " |    ConcurrentMIP: enables concurrent MIP optimization\n",
      " |    ConcurrentJobs: enables distributed concurrent optimization\n",
      " |    DegenMoves: limit degenerate simplex moves\n",
      " |    Heuristics: controls the amount of time spent in MIP heuristics\n",
      " |    ImproveStartGap: gap at which to switch MIP search strategies\n",
      " |    ImproveStartNodes: node count at which to switch MIP search strategies\n",
      " |    ImproveStartTime: time at which to switch MIP search strategies\n",
      " |    MinRelNodes: controls the minimum relaxation heuristic\n",
      " |    MIPFocus: affects the high-level MIP search strategy\n",
      " |    MIQCPMethod: controls whether to solve QCP node relaxation or to use OA\n",
      " |    NLPHeur: controls the NLP heuristic for non-convex quadratic models\n",
      " |    NodefileDir: determines the directory used to store nodes on disk\n",
      " |    NodefileStart: memory nodes may use (in GB) before being written to disk\n",
      " |    NodeMethod: determines the algorithm used to solve MIP node relaxations\n",
      " |    NonConvex: controls how to deal with non-convex quadratic programs\n",
      " |    NoRelHeurTime: controls the time spent in the NoRel heuristic\n",
      " |    NoRelHeurWork: controls the work spent in the NoRel heuristic\n",
      " |    OBBT: controls the aggressiveness of optimality-based bound tightening\n",
      " |    PartitionPlace: controls when the partition heuristic runs\n",
      " |    PumpPasses: controls the feasibility pump heuristic\n",
      " |    RINS: sets the frequency of the RINS heuristic\n",
      " |    SolFiles: location to store intermediate solution files\n",
      " |    SolutionNumber: controls access to alternate MIP solutions\n",
      " |    StartNodeLimit: limits nodes in MIP start sub-MIP\n",
      " |    StartNumber: selects the MIP start index\n",
      " |    SubMIPNodes: limits the numbers of nodes explored in a RINS sub-MIP\n",
      " |    Symmetry: controls access to alternate MIP solutions\n",
      " |    VarBranch: controls the branch variable selection strategy\n",
      " |    ZeroObjNodes: controls the zero objective heuristic\n",
      " |\n",
      " |  Presolve: affect the presolve algorithms\n",
      " |    AggFill: controls the level of presolve aggregation\n",
      " |    Aggregate: turns presolve aggregation on or off\n",
      " |    DualReductions: controls presolve dual reductions\n",
      " |    PreCrush: allows presolve to crush any user cut\n",
      " |    PreDepRow: controls the presolve dependent row reduction\n",
      " |    PreDual: determines whether presolve forms the dual of the input model\n",
      " |    PreMIQCPForm: chooses the form for MIQCP presolved model\n",
      " |    PrePasses: limits the number of presolve passes\n",
      " |    PreQLinearize: controls presolve Q matrix linearization\n",
      " |    Presolve: turns presolve on or off\n",
      " |    PreSOS1BigM: threshold for presolve SOS1 conversion to binary form\n",
      " |    PreSOS1Encoding: encoding used to reformulate SOS1\n",
      " |    PreSOS2BigM: threshold for presolve SOS2 conversion to binary form\n",
      " |    PreSOS2Encoding: encoding used to refromulate SOS2\n",
      " |    PreSparsify: enables the presolve sparsify reduction\n",
      " |\n",
      " |  Tuning: affect the operation of the tuning tool\n",
      " |    TuneCriterion: specify different tuning criteria\n",
      " |    TuneJobs: enables distributed tuning using permanent workers\n",
      " |    TuneDynamicJobs: enables distributed tuning using dynamic workers\n",
      " |    TuneOutput: tuning output level\n",
      " |    TuneResults: number of imroved parameter sets returned\n",
      " |    TuneTimeLimit: tuning time limit\n",
      " |    TuneTrials: number of trial runs with each parameter set\n",
      " |    TuneCleanup: time percentage spend in a cleanup phase\n",
      " |    TuneTargetMIPGap: a target gap to be reached\n",
      " |    TuneTargetTime: a target runtime in seconds to be reached\n",
      " |    TuneMetric: method for aggregating results\n",
      " |\n",
      " |  Multiple solutions: determines how the MIP search looks for solutions\n",
      " |    PoolGap: determines the quality of the retained solutions (relative)\n",
      " |    PoolGapAbs: determines the quality of the retained solutions (absolute)\n",
      " |    PoolSearchMode: chooses the approach used to search for solutions\n",
      " |    PoolSolutions: determines the number of solutions that are stored\n",
      " |\n",
      " |  MIP cuts: affect the generation of MIP cutting planes\n",
      " |    BQPCuts: controls BQP cut generation\n",
      " |    CliqueCuts: controls clique cut generation\n",
      " |    CoverCuts: controls cover cut generation\n",
      " |    CutAggPasses: limits aggregation during cut generation\n",
      " |    CutPasses: limits the number of cut passes\n",
      " |    Cuts: global cut generation control\n",
      " |    DualImpliedCuts: controls dual implied bound cut generation\n",
      " |    FlowCoverCuts: controls flow cover cut generation\n",
      " |    FlowPathCuts: controls flow path cut generation\n",
      " |    GomoryPasses: controls the number of Gomory cut passes\n",
      " |    GUBCoverCuts: controls GUB cover cut generation\n",
      " |    ImpliedCuts: controls implied bound cut generation\n",
      " |    InfProofCuts: controls infeasibility proof cut generation\n",
      " |    MIPSepCuts: controls MIP separation cut generation\n",
      " |    MIRCuts: controls MIR cut generation\n",
      " |    ModKCuts: controls mod-k cut generation\n",
      " |    NetworkCuts: controls network cut generation\n",
      " |    ProjImpliedCuts: controls projected implied bound cut generation\n",
      " |    PSDCuts: controls PSD cut generation\n",
      " |    LiftProjectCuts: controls lift-and-project cut generation\n",
      " |    MixingCuts: controls mixing cut generation\n",
      " |    RelaxLiftCuts: controls relax-and-lift cut generation\n",
      " |    RLTCuts: controls RLT cut generation\n",
      " |    StrongCGCuts: controls Strong-CG cut generation\n",
      " |    SubMIPCuts: controls sub-MIP cut generation\n",
      " |    ZeroHalfCuts: controls zero-half cut generation\n",
      " |\n",
      " |  Distributed algorithms: used for distributed optimization\n",
      " |    WorkerPassword: cluster client password\n",
      " |    WorkerPool: server URL to access the cluster\n",
      " |\n",
      " |  Cloud: parameters used for cloud-based optimization\n",
      " |    CloudAccessID: Instant Cloud access ID\n",
      " |    CloudPool: Instant Cloud pool name\n",
      " |    CloudSecretKey: Instant Cloud secret key\n",
      " |\n",
      " |  Compute Server and Cluster Manager: used for optimization with Remote Services\n",
      " |    CSAPIAccessID: API access ID to access the Cluster Manager\n",
      " |    CSAPISecret: API secret key to access the Cluster Manager\n",
      " |    CSAppName: application name\n",
      " |    CSAuthToken: Authentication token used internally to access a Cluster Manager\n",
      " |    CSBatchMode: Controls Batch-Mode optimization with a Cluster Manager\n",
      " |    CSClientLog: Turns logging on or off\n",
      " |    CSGroup: Group placement request for cluster\n",
      " |    CSIdleTimeout: job idle timeout\n",
      " |    CSManager: access URL of the Cluster Manager\n",
      " |    CSPriority: compute server job priority\n",
      " |    CSQueueTimeout: queue timeout for new jobs\n",
      " |    CSRouter: remote services router URL\n",
      " |    CSTLSInsecure: enable TLS insecurity mode\n",
      " |    ComputeServer: server URL to access the cluster\n",
      " |    ServerPassword: cluster client password\n",
      " |    ServerTimeout: network timeout\n",
      " |    UserName: User name to use when connecting to the Cluster Manager\n",
      " |\n",
      " |  Token Server: affect token server parameters\n",
      " |    TokenServer: address of token server\n",
      " |    TSPort: token server port\n",
      " |\n",
      " |  Web License Service (WLS): affect WLS parameters\n",
      " |    WLSAccessID: WLS access ID\n",
      " |    WLSSecret: WLS secret key\n",
      " |    WLSTokenDuration: lifespan of a Web License Services token (in minutes)\n",
      " |    WLSTokenRefresh: Relative refresh interval for Web License Services tokens\n",
      " |    WLSToken: WLS token\n",
      " |    LicenseID: WLS license ID\n",
      " |    WLSProxy: WLS proxy\n",
      " |    WLSConfig: WLS configuration\n",
      " |\n",
      " |  Other:\n",
      " |    Disconnected: controls the disconnected component strategy\n",
      " |    DisplayInterval: sets the frequency at which log lines are printed\n",
      " |    FeasRelaxBigM: BigM value for feasibility relaxation\n",
      " |    FuncMaxVal: maximal value for |lb| and |ub| of x and y variables of\n",
      " |                general function constraints\n",
      " |    FuncNonlinear: controls whether nonlinear general constraints are treated\n",
      " |                   as nonlinear constraints or whether they are approximated\n",
      " |                   via piece-wise linear constraints\n",
      " |    FuncPieceError: error allowed for PWL translation of general function\n",
      " |                    constraints without own options specified\n",
      " |    FuncPieceLength: piece length for PWL translation of general function\n",
      " |                     constraints without own options specified\n",
      " |    FuncPieceRatio: control whether to link function values or to have\n",
      " |                    pieces below or above the function\n",
      " |    FuncPieces: control PWL translation of general function constraints\n",
      " |                without own options specified, whether to use equal piece\n",
      " |                length, to limit error or to limit the total number of pieces\n",
      " |    IgnoreNames: indicates whether to ignore names provided by users\n",
      " |    IISMethod: method used to find an IIS\n",
      " |    IntegralityFocus: controls integrality focus\n",
      " |    JSONSolDetail: controls amount of information in a JSON solution string\n",
      " |    LazyConstraints: programs that use lazy constraints must set this to 1\n",
      " |    LogFile: sets the name of the Gurobi log file\n",
      " |    LogToConsole: turn logging to the console on or off\n",
      " |    Method: algorithm used to solve a continuous model or the root node of a\n",
      " |            MIP model (auto, primal simplex, dual simplex, barrier, or\n",
      " |            concurrent)\n",
      " |    ConcurrentMethod: algorithms used with concurrently when solving continuous\n",
      " |                      models using concurrent\n",
      " |    NumericFocus: controls numerically conservative level\n",
      " |    MultiObjMethod: warm-start method to solve for subsequent objectives\n",
      " |    MultiObjPre: controls initial presolve level on multi-objective models\n",
      " |    ObjNumber: selects the objective index of multi-objectives\n",
      " |    OutputFlag: turn logging on or off\n",
      " |    Record: enables replay\n",
      " |    ResultFile: result file to write when optimization completes\n",
      " |    ScenarioNumber: selects the scenario index of multi-scenario models\n",
      " |    Seed: sets the random number seed\n",
      " |    ThreadLimit: sets a thread limit when starting an environment\n",
      " |    Threads: sets the number of threads to apply to parallel MIP\n",
      " |    UpdateMode: controls the way how to update a model\n",
      " |\n",
      " |  For further information on any of these parameters, type\n",
      " |  paramHelp('paramname') (e.g., paramHelp(\"NodeLimit\")).  Wildcards\n",
      " |  are also accepted for paramHelp().\n",
      " |\n",
      " |  Methods defined here:\n",
      " |\n",
      " |  __dir__(self)\n",
      " |\n",
      " |  __getattr__(self, name)\n",
      " |\n",
      " |  __init__(self, env)\n",
      " |\n",
      " |  __repr__(self)\n",
      " |\n",
      " |  __setattr__(self, name, value)\n",
      " |\n",
      " |  ----------------------------------------------------------------------\n",
      " |  Data descriptors defined here:\n",
      " |\n",
      " |  __dict__\n",
      " |      dictionary for instance variables\n",
      " |\n",
      " |  __weakref__\n",
      " |      list of weak references to the object\n",
      "\n"
     ]
    }
   ],
   "source": [
    "# https://docs.gurobi.com/projects/optimizer/en/current/reference/parameters.html#secparameterreference\n",
    "help(mnet.Params)"
   ]
  },
  {
   "cell_type": "code",
   "execution_count": 50,
   "metadata": {},
   "outputs": [
    {
     "name": "stdout",
     "output_type": "stream",
     "text": [
      "Set parameter TimeLimit to value 5\n"
     ]
    }
   ],
   "source": [
    "# Tiempo máximo de resolucióm\n",
    "mnet.Params.TimeLimit = 5"
   ]
  },
  {
   "cell_type": "code",
   "execution_count": 51,
   "metadata": {},
   "outputs": [
    {
     "name": "stdout",
     "output_type": "stream",
     "text": [
      "Set parameter Method to value 0\n"
     ]
    }
   ],
   "source": [
    "# Forzamos a utilizar el Símplex Primal:\n",
    "# https://docs.gurobi.com/projects/optimizer/en/current/reference/parameters.html#method\n",
    "mnet.Params.Method = 0"
   ]
  },
  {
   "cell_type": "code",
   "execution_count": 52,
   "metadata": {},
   "outputs": [
    {
     "data": {
      "text/plain": [
       "0.0001"
      ]
     },
     "execution_count": 52,
     "metadata": {},
     "output_type": "execute_result"
    }
   ],
   "source": [
    "mnet.Params.MIPGap"
   ]
  },
  {
   "cell_type": "code",
   "execution_count": 53,
   "metadata": {},
   "outputs": [],
   "source": [
    "flow[('Pencils','Detroit','Boston')].Start = 10"
   ]
  },
  {
   "cell_type": "markdown",
   "metadata": {},
   "source": [
    "## Análisis de infactibilidades"
   ]
  },
  {
   "cell_type": "code",
   "execution_count": 54,
   "metadata": {},
   "outputs": [
    {
     "name": "stdout",
     "output_type": "stream",
     "text": [
      "Gurobi Optimizer version 12.0.3 build v12.0.3rc0 (win64 - Windows 11+.0 (26200.2))\n",
      "\n",
      "CPU model: 11th Gen Intel(R) Core(TM) i7-1165G7 @ 2.80GHz, instruction set [SSE2|AVX|AVX2|AVX512]\n",
      "Thread count: 4 physical cores, 8 logical processors, using up to 8 threads\n",
      "\n",
      "Non-default parameters:\n",
      "TimeLimit  5\n",
      "Method  0\n",
      "\n",
      "Optimize a model with 16 rows, 12 columns and 36 nonzeros\n",
      "Coefficient statistics:\n",
      "  Matrix range     [1e+00, 1e+00]\n",
      "  Objective range  [1e+01, 8e+01]\n",
      "  Bounds range     [0e+00, 0e+00]\n",
      "  RHS range        [1e+01, 1e+02]\n",
      "\n",
      "Iteration    Objective       Primal Inf.    Dual Inf.      Time\n",
      "       0    6.0000000e+03   5.000000e+01   0.000000e+00      0s\n",
      "\n",
      "Solved in 0 iterations and 0.01 seconds (0.00 work units)\n",
      "Infeasible model\n"
     ]
    }
   ],
   "source": [
    "# Forzamos que tampoco haya flujo de 'Pencil' de Denver a Boston (demandaba 50)\n",
    "flow[('Pencils','Denver','Boston')].ub = 0\n",
    "mnet.optimize()"
   ]
  },
  {
   "cell_type": "code",
   "execution_count": 55,
   "metadata": {},
   "outputs": [
    {
     "name": "stdout",
     "output_type": "stream",
     "text": [
      "Gurobi Optimizer version 12.0.3 build v12.0.3rc0 (win64 - Windows 11+.0 (26200.2))\n",
      "\n",
      "CPU model: 11th Gen Intel(R) Core(TM) i7-1165G7 @ 2.80GHz, instruction set [SSE2|AVX|AVX2|AVX512]\n",
      "Thread count: 4 physical cores, 8 logical processors, using up to 8 threads\n",
      "\n",
      "Non-default parameters:\n",
      "TimeLimit  5\n",
      "Method  0\n",
      "\n",
      "\n",
      "IIS computed: 1 constraints and 2 bounds\n",
      "IIS runtime: 0.00 seconds (0.00 work units)\n"
     ]
    }
   ],
   "source": [
    "# Compute an Irreducible Inconsistent Subsystem (IIS)\n",
    "mnet.computeIIS()"
   ]
  },
  {
   "cell_type": "code",
   "execution_count": 56,
   "metadata": {},
   "outputs": [],
   "source": [
    "mnet.write('modelo_infactible.ilp')"
   ]
  },
  {
   "cell_type": "code",
   "execution_count": 57,
   "metadata": {},
   "outputs": [
    {
     "name": "stdout",
     "output_type": "stream",
     "text": [
      "\\ Model netflow_copy\n",
      "\\ LP format - for model browsing. Use MPS format to capture full model detail.\n",
      "\\ Signature: 0x833cd2eb38381dbe\n",
      "Minimize\n",
      " \n",
      "Subject To\n",
      " node[Pencils,Boston]: - flow[Pencils,Detroit,Boston]\n",
      "   - flow[Pencils,Denver,Boston] = -50\n",
      "Bounds\n",
      " -infinity <= flow[Pencils,Detroit,Boston] <= 0\n",
      " -infinity <= flow[Pencils,Denver,Boston] <= 0\n",
      "End\n",
      "\n"
     ]
    }
   ],
   "source": [
    "f_nofeas  = open('modelo_infactible.ilp', 'r')\n",
    "data = f_nofeas.read()\n",
    "f_nofeas.close()           \n",
    "print(data)"
   ]
  }
 ],
 "metadata": {
  "kernelspec": {
   "display_name": "Python 3 (ipykernel)",
   "language": "python",
   "name": "python3"
  },
  "language_info": {
   "codemirror_mode": {
    "name": "ipython",
    "version": 3
   },
   "file_extension": ".py",
   "mimetype": "text/x-python",
   "name": "python",
   "nbconvert_exporter": "python",
   "pygments_lexer": "ipython3",
   "version": "3.13.9"
  }
 },
 "nbformat": 4,
 "nbformat_minor": 4
}
