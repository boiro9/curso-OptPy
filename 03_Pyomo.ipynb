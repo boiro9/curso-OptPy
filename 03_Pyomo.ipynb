{
 "cells": [
  {
   "cell_type": "markdown",
   "metadata": {},
   "source": [
    "# Herramientas de optimización matemática en Python  \n",
    "Ángel Manuel González Rueda  \n",
    "<img src=\"img/modes.jpg\" alt=\"drawing\" width=\"150\" align=\"left\"/>"
   ]
  },
  {
   "cell_type": "markdown",
   "metadata": {},
   "source": [
    "# PYOMO"
   ]
  },
  {
   "cell_type": "markdown",
   "metadata": {},
   "source": [
    "Web de referencia: http://www.pyomo.org/  \n",
    "Documentación: http://www.pyomo.org/documentation, https://pyomo.readthedocs.io/en/stable/index.html  \n",
    "Presentación introducción a Pyomo: https://software.sandia.gov/downloads/pub/pyomo/Pyomo-Workshop-Summer-2018.pdf"
   ]
  },
  {
   "cell_type": "markdown",
   "metadata": {},
   "source": [
    "* Es un **software libre** que proporciona el uso de lenguaje de modelado algebraico para formular problemas de programación matemática.\n",
    "* Los objetos de Pyomo, al estar embebidos en **Python**, permiten emplear un completo lenguaje de programación de alto nivel con acceso a un rico conjunto de librerías de apoyo. \n",
    "* Pyomo soporta la formulación de un gran rango de tipos de problema:\n",
    "    * Programación lineal (entera-mixta)\n",
    "    * Programación cuadrática (entera-mixta)\n",
    "    * Programación no lineal (entera-mixta)\n",
    "    * ...\n",
    "* Incluye un paquete (PySP) para implementar problemas de programación estocástica.\n",
    "* Permite conectarse con un gran conjunto de solvers."
   ]
  },
  {
   "cell_type": "markdown",
   "metadata": {},
   "source": [
    "![title](img/pyomo.png)"
   ]
  },
  {
   "cell_type": "markdown",
   "metadata": {},
   "source": [
    "## Concrete Model\n",
    "- Primero hay que definir los datos, y luego el modelo.\n",
    "- Contrucción en 1 paso.\n",
    "- Todos los datos deben de estar presentes antes que Python empiece a procesar el modelo.\n",
    "- Pyomo irá contruyendo cada componente en el momento que se van definiendo.\n",
    "- Proceso lógico senccilo, facilita realizar 'scripting'."
   ]
  },
  {
   "cell_type": "markdown",
   "metadata": {},
   "source": [
    "### Simple modeling Example: Classic Knapsack Problem\n",
    "- Dado un conjunto de objetos A, con cierto peso y beneficio\n",
    "- Objetivo: seleccionar un subconjunto de esos objetos\n",
    "    - Maximizando el beneficio\n",
    "    - Respectando el peso máximo ($W_{max}$)"
   ]
  },
  {
   "cell_type": "markdown",
   "metadata": {},
   "source": [
    "|Objetos(A)      | Peso(w)      | Beneficio(b) |\n",
    "| :------------  | :----------: | -----------: |\n",
    "| Tornillo       | 5            | 8            |\n",
    "| Candado        | 7            | 3            |\n",
    "| Destornillado  | 4            | 6            |\n",
    "| Toalla         | 3            | 11           |"
   ]
  },
  {
   "cell_type": "markdown",
   "metadata": {},
   "source": [
    "\\begin{align*}\n",
    "\\textrm{Maximizar}\\ \\ \\     & \\sum_{i\\in A}b_{i}x_{i}\\\\\n",
    "\\textrm{sujeto a}\\ \\ \\      & \\sum_{i\\in A}w_{i}x_{i}\\leq W_{max}\\\\\n",
    "                 \\ \\ \\      & x_{i}\\in \\{0,1\\} \\, \\, \\forall i \\in A\\\\                     \n",
    "\\end{align*}"
   ]
  },
  {
   "cell_type": "markdown",
   "metadata": {},
   "source": [
    "Elementos principales a considerar a la hora de crear el modelo con Pyomo:\n",
    "    - Con respecto a los datos:\n",
    "        - Conjuntos\n",
    "        - Parámetros\n",
    "    - Con respecto al modelo:\n",
    "        - Variables\n",
    "        - Función objetivo\n",
    "        - Restricciones"
   ]
  },
  {
   "cell_type": "markdown",
   "metadata": {},
   "source": [
    "### Importamos el paquete"
   ]
  },
  {
   "cell_type": "code",
   "execution_count": 109,
   "metadata": {},
   "outputs": [],
   "source": [
    "import pyomo.environ as pe"
   ]
  },
  {
   "cell_type": "markdown",
   "metadata": {},
   "source": [
    "### Definimos los datos de la instancia que nos interesa resolver"
   ]
  },
  {
   "cell_type": "code",
   "execution_count": 110,
   "metadata": {},
   "outputs": [],
   "source": [
    "A = ['tornillo','candado','destornillador','toalla']\n",
    "b = {'tornillo': 8,\n",
    "     'candado':3,\n",
    "     'destornillador':6,\n",
    "     'toalla':11\n",
    "    }\n",
    "w = {'tornillo': 5,\n",
    "     'candado':7,\n",
    "     'destornillador':4,\n",
    "     'toalla':3\n",
    "    }\n",
    "W_max = 14"
   ]
  },
  {
   "cell_type": "markdown",
   "metadata": {},
   "source": [
    "### Creamos una instancia concreta del modelo\n",
    "* Los modelos concretos se construyen inmediatamente\n",
    "* Los datos deben estar definifos a la hora de contruir el modelo"
   ]
  },
  {
   "cell_type": "code",
   "execution_count": 117,
   "metadata": {},
   "outputs": [],
   "source": [
    "model = pe.ConcreteModel()"
   ]
  },
  {
   "cell_type": "markdown",
   "metadata": {},
   "source": [
    "### Definimos las variables\n",
    "* La debemos definir como un atributo del objeto model, y el nombre debe ser único dentro del modelo considerado"
   ]
  },
  {
   "cell_type": "code",
   "execution_count": 118,
   "metadata": {},
   "outputs": [],
   "source": [
    "model.x = pe.Var(A,within=pe.Binary)"
   ]
  },
  {
   "cell_type": "code",
   "execution_count": 119,
   "metadata": {},
   "outputs": [
    {
     "name": "stdout",
     "output_type": "stream",
     "text": [
      "Help on class Var in module pyomo.core.base.var:\n",
      "\n",
      "class Var(pyomo.core.base.indexed_component.IndexedComponent)\n",
      " |  Var(*args, **kwds)\n",
      " |  \n",
      " |  A numeric variable, which may be defined over an index.\n",
      " |  \n",
      " |  Args:\n",
      " |      domain (Set or function, optional): A Set that defines valid\n",
      " |          values for the variable (e.g., `Reals`, `NonNegativeReals`,\n",
      " |          `Binary`), or a rule that returns Sets.  Defaults to `Reals`.\n",
      " |      within (Set or function, optional): An alias for `domain`.\n",
      " |      bounds (tuple or function, optional): A tuple of (lower, upper)\n",
      " |          bounds for the variable, or a rule that returns tuples.\n",
      " |          Defaults to (None, None).\n",
      " |      initialize (float or function, optional): The initial value for\n",
      " |          the variable, or a rule that returns initial values.\n",
      " |      rule (float or function, optional): An alias for `initialize`.\n",
      " |      dense (bool, optional): Instantiate all elements from\n",
      " |          `index_set()` when constructing the Var (True) or just the\n",
      " |          variables returned by `initialize`/`rule` (False).  Defaults\n",
      " |          to True.\n",
      " |  \n",
      " |  Method resolution order:\n",
      " |      Var\n",
      " |      pyomo.core.base.indexed_component.IndexedComponent\n",
      " |      pyomo.core.base.component.Component\n",
      " |      pyomo.core.base.component._ComponentBase\n",
      " |      builtins.object\n",
      " |  \n",
      " |  Methods defined here:\n",
      " |  \n",
      " |  __init__(self, *args, **kwd)\n",
      " |      Initialize self.  See help(type(self)) for accurate signature.\n",
      " |  \n",
      " |  add(self, index)\n",
      " |      Add a variable with a particular index.\n",
      " |  \n",
      " |  construct(self, data=None)\n",
      " |      Construct this component.\n",
      " |  \n",
      " |  extract_values = get_values(self, include_fixed_values=True)\n",
      " |  \n",
      " |  flag_as_stale(self)\n",
      " |      Set the 'stale' attribute of every variable data object to True.\n",
      " |  \n",
      " |  get_values(self, include_fixed_values=True)\n",
      " |      Return a dictionary of index-value pairs.\n",
      " |  \n",
      " |  is_expression_type(self)\n",
      " |      Returns False because this is not an expression\n",
      " |  \n",
      " |  set_values(self, new_values, valid=False)\n",
      " |      Set the values of a dictionary.\n",
      " |      \n",
      " |      The default behavior is to validate the values in the\n",
      " |      dictionary.\n",
      " |  \n",
      " |  ----------------------------------------------------------------------\n",
      " |  Static methods defined here:\n",
      " |  \n",
      " |  __new__(cls, *args, **kwds)\n",
      " |      Create and return a new object.  See help(type) for accurate signature.\n",
      " |  \n",
      " |  ----------------------------------------------------------------------\n",
      " |  Methods inherited from pyomo.core.base.indexed_component.IndexedComponent:\n",
      " |  \n",
      " |  __contains__(self, idx)\n",
      " |      Return true if the index is in the dictionary\n",
      " |  \n",
      " |  __delitem__(self, index)\n",
      " |  \n",
      " |  __getitem__(self, index)\n",
      " |      This method returns the data corresponding to the given index.\n",
      " |  \n",
      " |  __getstate__(self)\n",
      " |      This method must be defined to support pickling because this class\n",
      " |      owns weakrefs for '_parent'.\n",
      " |  \n",
      " |  __iter__(self)\n",
      " |      Iterate over the keys in the dictionary\n",
      " |  \n",
      " |  __len__(self)\n",
      " |      Return the number of component data objects stored by this\n",
      " |      component.\n",
      " |  \n",
      " |  __setitem__(self, index, val)\n",
      " |  \n",
      " |  __setstate__(self, state)\n",
      " |      This method must be defined to support pickling because this class\n",
      " |      owns weakrefs for '_parent'.\n",
      " |  \n",
      " |  clear(self)\n",
      " |      Clear the data in this component\n",
      " |  \n",
      " |  dim(self)\n",
      " |      Return the dimension of the index\n",
      " |  \n",
      " |  id_index_map(self)\n",
      " |      Return an dictionary id->index for\n",
      " |      all ComponentData instances.\n",
      " |  \n",
      " |  index_set(self)\n",
      " |      Return the index set\n",
      " |  \n",
      " |  is_indexed(self)\n",
      " |      Return true if this component is indexed\n",
      " |  \n",
      " |  items = iteritems(self)\n",
      " |  \n",
      " |  iteritems(self)\n",
      " |      Return an iterator of (index,data) tuples from the dictionary\n",
      " |  \n",
      " |  iterkeys(self)\n",
      " |      Return an iterator of the keys in the dictionary\n",
      " |  \n",
      " |  itervalues(self)\n",
      " |      Return an iterator of the component data objects in the dictionary\n",
      " |  \n",
      " |  keys = iterkeys(self)\n",
      " |  \n",
      " |  set_value(self, value)\n",
      " |      Set the value of a scalar component.\n",
      " |  \n",
      " |  to_dense_data(self)\n",
      " |      TODO\n",
      " |  \n",
      " |  values = itervalues(self)\n",
      " |  \n",
      " |  ----------------------------------------------------------------------\n",
      " |  Methods inherited from pyomo.core.base.component.Component:\n",
      " |  \n",
      " |  __str__(self)\n",
      " |      Return the component name\n",
      " |  \n",
      " |  clear_suffix_value(self, suffix_or_name, expand=True)\n",
      " |      Clear the suffix value for this component data\n",
      " |  \n",
      " |  display(self, ostream=None, verbose=False, prefix='')\n",
      " |  \n",
      " |  get_suffix_value(self, suffix_or_name, default=None)\n",
      " |      Get the suffix value for this component data\n",
      " |  \n",
      " |  getname(self, fully_qualified=False, name_buffer=None, relative_to=None)\n",
      " |      Returns the component name associated with this object.\n",
      " |      \n",
      " |      Arguments:\n",
      " |          fully_qualified     Generate full name from nested block names\n",
      " |          name_buffer         Can be used to optimize iterative name\n",
      " |                                  generation (using a dictionary)\n",
      " |          relative_to         When generating a fully qualified name,\n",
      " |                                  stop at this block.\n",
      " |  \n",
      " |  is_component_type(self)\n",
      " |      Return True if this class is a Pyomo component\n",
      " |  \n",
      " |  is_constructed(self)\n",
      " |      Return True if this class has been constructed\n",
      " |  \n",
      " |  model(self)\n",
      " |      Returns the model associated with this object.\n",
      " |  \n",
      " |  parent_block(self)\n",
      " |      Returns the parent of this object.\n",
      " |  \n",
      " |  parent_component(self)\n",
      " |      Returns the component associated with this object.\n",
      " |  \n",
      " |  pprint(self, ostream=None, verbose=False, prefix='')\n",
      " |      Print component information\n",
      " |  \n",
      " |  reconstruct(self, data=None)\n",
      " |      Re-construct model expressions\n",
      " |  \n",
      " |  root_block(self)\n",
      " |      Return self.model()\n",
      " |  \n",
      " |  set_suffix_value(self, suffix_or_name, value, expand=True)\n",
      " |      Set the suffix value for this component data\n",
      " |  \n",
      " |  to_string(self, verbose=None, labeler=None, smap=None, compute_values=False)\n",
      " |      Return the component name\n",
      " |  \n",
      " |  type(self)\n",
      " |      Return the class type for this component\n",
      " |  \n",
      " |  valid_model_component(self)\n",
      " |      Return True if this can be used as a model component.\n",
      " |  \n",
      " |  ----------------------------------------------------------------------\n",
      " |  Data descriptors inherited from pyomo.core.base.component.Component:\n",
      " |  \n",
      " |  __dict__\n",
      " |      dictionary for instance variables (if defined)\n",
      " |  \n",
      " |  __weakref__\n",
      " |      list of weak references to the object (if defined)\n",
      " |  \n",
      " |  name\n",
      " |      Get the fully qualifed component name.\n",
      " |  \n",
      " |  ----------------------------------------------------------------------\n",
      " |  Methods inherited from pyomo.core.base.component._ComponentBase:\n",
      " |  \n",
      " |  __deepcopy__(self, memo)\n",
      " |  \n",
      " |  cname(self, *args, **kwds)\n",
      " |  \n",
      " |  ----------------------------------------------------------------------\n",
      " |  Data descriptors inherited from pyomo.core.base.component._ComponentBase:\n",
      " |  \n",
      " |  active\n",
      " |      Return the active attribute\n",
      " |  \n",
      " |  local_name\n",
      " |      Get the component name only within the context of\n",
      " |      the immediate parent container.\n",
      "\n"
     ]
    }
   ],
   "source": [
    "help(pe.Var)"
   ]
  },
  {
   "cell_type": "markdown",
   "metadata": {},
   "source": [
    "### Definimos la función objetivo"
   ]
  },
  {
   "cell_type": "code",
   "execution_count": 120,
   "metadata": {},
   "outputs": [],
   "source": [
    "model.benefit = pe.Objective(\n",
    "    expr=sum(b[i]*model.x[i] for i in A),\n",
    "    sense= pe.maximize)"
   ]
  },
  {
   "cell_type": "code",
   "execution_count": 121,
   "metadata": {},
   "outputs": [
    {
     "name": "stdout",
     "output_type": "stream",
     "text": [
      "Help on class Objective in module pyomo.core.base.objective:\n",
      "\n",
      "class Objective(pyomo.core.base.indexed_component.ActiveIndexedComponent)\n",
      " |  Objective(*args, **kwds)\n",
      " |  \n",
      " |  This modeling component defines an objective expression.\n",
      " |  \n",
      " |  Note that this is a subclass of NumericValue to allow\n",
      " |  objectives to be used as part of expressions.\n",
      " |  \n",
      " |  Constructor arguments:\n",
      " |      expr            \n",
      " |          A Pyomo expression for this objective\n",
      " |      rule            \n",
      " |          A function that is used to construct objective expressions\n",
      " |      sense           \n",
      " |          Indicate whether minimizing (the default) or maximizing\n",
      " |      doc             \n",
      " |          A text string describing this component\n",
      " |      name            \n",
      " |          A name for this component\n",
      " |  \n",
      " |  Public class attributes:\n",
      " |      doc             \n",
      " |          A text string describing this component\n",
      " |      name            \n",
      " |          A name for this component\n",
      " |      active          \n",
      " |          A boolean that is true if this component will be used to construct \n",
      " |          a model instance\n",
      " |      rule            \n",
      " |          The rule used to initialize the objective(s)\n",
      " |      sense           \n",
      " |          The objective sense\n",
      " |  \n",
      " |  Private class attributes:\n",
      " |      _constructed        \n",
      " |          A boolean that is true if this component has been constructed\n",
      " |      _data               \n",
      " |          A dictionary from the index set to component data objects\n",
      " |      _index              \n",
      " |          The set of valid indices\n",
      " |      _implicit_subsets   \n",
      " |          A tuple of set objects that represents the index set\n",
      " |      _model              \n",
      " |          A weakref to the model that owns this component\n",
      " |      _parent             \n",
      " |          A weakref to the parent block that owns this component\n",
      " |      _type               \n",
      " |          The class type for the derived subclass\n",
      " |  \n",
      " |  Method resolution order:\n",
      " |      Objective\n",
      " |      pyomo.core.base.indexed_component.ActiveIndexedComponent\n",
      " |      pyomo.core.base.indexed_component.IndexedComponent\n",
      " |      pyomo.core.base.component.ActiveComponent\n",
      " |      pyomo.core.base.component.Component\n",
      " |      pyomo.core.base.component._ComponentBase\n",
      " |      builtins.object\n",
      " |  \n",
      " |  Methods defined here:\n",
      " |  \n",
      " |  __init__(self, *args, **kwargs)\n",
      " |      Initialize self.  See help(type(self)) for accurate signature.\n",
      " |  \n",
      " |  construct(self, data=None)\n",
      " |      Construct the expression(s) for this objective.\n",
      " |  \n",
      " |  display(self, prefix='', ostream=None)\n",
      " |      Provide a verbose display of this object\n",
      " |  \n",
      " |  ----------------------------------------------------------------------\n",
      " |  Static methods defined here:\n",
      " |  \n",
      " |  __new__(cls, *args, **kwds)\n",
      " |      Create and return a new object.  See help(type) for accurate signature.\n",
      " |  \n",
      " |  ----------------------------------------------------------------------\n",
      " |  Data and other attributes defined here:\n",
      " |  \n",
      " |  NoObjective = (1000,)\n",
      " |  \n",
      " |  Skip = (1000,)\n",
      " |  \n",
      " |  ----------------------------------------------------------------------\n",
      " |  Methods inherited from pyomo.core.base.indexed_component.ActiveIndexedComponent:\n",
      " |  \n",
      " |  activate(self)\n",
      " |      Set the active attribute to True\n",
      " |  \n",
      " |  deactivate(self)\n",
      " |      Set the active attribute to False\n",
      " |  \n",
      " |  ----------------------------------------------------------------------\n",
      " |  Methods inherited from pyomo.core.base.indexed_component.IndexedComponent:\n",
      " |  \n",
      " |  __contains__(self, idx)\n",
      " |      Return true if the index is in the dictionary\n",
      " |  \n",
      " |  __delitem__(self, index)\n",
      " |  \n",
      " |  __getitem__(self, index)\n",
      " |      This method returns the data corresponding to the given index.\n",
      " |  \n",
      " |  __getstate__(self)\n",
      " |      This method must be defined to support pickling because this class\n",
      " |      owns weakrefs for '_parent'.\n",
      " |  \n",
      " |  __iter__(self)\n",
      " |      Iterate over the keys in the dictionary\n",
      " |  \n",
      " |  __len__(self)\n",
      " |      Return the number of component data objects stored by this\n",
      " |      component.\n",
      " |  \n",
      " |  __setitem__(self, index, val)\n",
      " |  \n",
      " |  __setstate__(self, state)\n",
      " |      This method must be defined to support pickling because this class\n",
      " |      owns weakrefs for '_parent'.\n",
      " |  \n",
      " |  clear(self)\n",
      " |      Clear the data in this component\n",
      " |  \n",
      " |  dim(self)\n",
      " |      Return the dimension of the index\n",
      " |  \n",
      " |  id_index_map(self)\n",
      " |      Return an dictionary id->index for\n",
      " |      all ComponentData instances.\n",
      " |  \n",
      " |  index_set(self)\n",
      " |      Return the index set\n",
      " |  \n",
      " |  is_indexed(self)\n",
      " |      Return true if this component is indexed\n",
      " |  \n",
      " |  items = iteritems(self)\n",
      " |  \n",
      " |  iteritems(self)\n",
      " |      Return an iterator of (index,data) tuples from the dictionary\n",
      " |  \n",
      " |  iterkeys(self)\n",
      " |      Return an iterator of the keys in the dictionary\n",
      " |  \n",
      " |  itervalues(self)\n",
      " |      Return an iterator of the component data objects in the dictionary\n",
      " |  \n",
      " |  keys = iterkeys(self)\n",
      " |  \n",
      " |  set_value(self, value)\n",
      " |      Set the value of a scalar component.\n",
      " |  \n",
      " |  to_dense_data(self)\n",
      " |      TODO\n",
      " |  \n",
      " |  values = itervalues(self)\n",
      " |  \n",
      " |  ----------------------------------------------------------------------\n",
      " |  Data descriptors inherited from pyomo.core.base.component.ActiveComponent:\n",
      " |  \n",
      " |  active\n",
      " |      Return the active attribute\n",
      " |  \n",
      " |  ----------------------------------------------------------------------\n",
      " |  Methods inherited from pyomo.core.base.component.Component:\n",
      " |  \n",
      " |  __str__(self)\n",
      " |      Return the component name\n",
      " |  \n",
      " |  clear_suffix_value(self, suffix_or_name, expand=True)\n",
      " |      Clear the suffix value for this component data\n",
      " |  \n",
      " |  get_suffix_value(self, suffix_or_name, default=None)\n",
      " |      Get the suffix value for this component data\n",
      " |  \n",
      " |  getname(self, fully_qualified=False, name_buffer=None, relative_to=None)\n",
      " |      Returns the component name associated with this object.\n",
      " |      \n",
      " |      Arguments:\n",
      " |          fully_qualified     Generate full name from nested block names\n",
      " |          name_buffer         Can be used to optimize iterative name\n",
      " |                                  generation (using a dictionary)\n",
      " |          relative_to         When generating a fully qualified name,\n",
      " |                                  stop at this block.\n",
      " |  \n",
      " |  is_component_type(self)\n",
      " |      Return True if this class is a Pyomo component\n",
      " |  \n",
      " |  is_constructed(self)\n",
      " |      Return True if this class has been constructed\n",
      " |  \n",
      " |  model(self)\n",
      " |      Returns the model associated with this object.\n",
      " |  \n",
      " |  parent_block(self)\n",
      " |      Returns the parent of this object.\n",
      " |  \n",
      " |  parent_component(self)\n",
      " |      Returns the component associated with this object.\n",
      " |  \n",
      " |  pprint(self, ostream=None, verbose=False, prefix='')\n",
      " |      Print component information\n",
      " |  \n",
      " |  reconstruct(self, data=None)\n",
      " |      Re-construct model expressions\n",
      " |  \n",
      " |  root_block(self)\n",
      " |      Return self.model()\n",
      " |  \n",
      " |  set_suffix_value(self, suffix_or_name, value, expand=True)\n",
      " |      Set the suffix value for this component data\n",
      " |  \n",
      " |  to_string(self, verbose=None, labeler=None, smap=None, compute_values=False)\n",
      " |      Return the component name\n",
      " |  \n",
      " |  type(self)\n",
      " |      Return the class type for this component\n",
      " |  \n",
      " |  valid_model_component(self)\n",
      " |      Return True if this can be used as a model component.\n",
      " |  \n",
      " |  ----------------------------------------------------------------------\n",
      " |  Data descriptors inherited from pyomo.core.base.component.Component:\n",
      " |  \n",
      " |  __dict__\n",
      " |      dictionary for instance variables (if defined)\n",
      " |  \n",
      " |  __weakref__\n",
      " |      list of weak references to the object (if defined)\n",
      " |  \n",
      " |  name\n",
      " |      Get the fully qualifed component name.\n",
      " |  \n",
      " |  ----------------------------------------------------------------------\n",
      " |  Methods inherited from pyomo.core.base.component._ComponentBase:\n",
      " |  \n",
      " |  __deepcopy__(self, memo)\n",
      " |  \n",
      " |  cname(self, *args, **kwds)\n",
      " |  \n",
      " |  ----------------------------------------------------------------------\n",
      " |  Data descriptors inherited from pyomo.core.base.component._ComponentBase:\n",
      " |  \n",
      " |  local_name\n",
      " |      Get the component name only within the context of\n",
      " |      the immediate parent container.\n",
      "\n"
     ]
    }
   ],
   "source": [
    "help(pe.Objective)"
   ]
  },
  {
   "cell_type": "markdown",
   "metadata": {},
   "source": [
    "### Definimos las restricciones"
   ]
  },
  {
   "cell_type": "code",
   "execution_count": 123,
   "metadata": {},
   "outputs": [
    {
     "name": "stdout",
     "output_type": "stream",
     "text": [
      "WARNING: Implicitly replacing the Component attribute weight (type=<class\n",
      "    'pyomo.core.base.constraint.SimpleConstraint'>) on block unknown with a\n",
      "    new Component (type=<class\n",
      "    'pyomo.core.base.constraint.SimpleConstraint'>). This is usually\n",
      "    indicative of a modelling error. To avoid this warning, use\n",
      "    block.del_component() and block.add_component().\n"
     ]
    }
   ],
   "source": [
    "model.weight = pe.Constraint(\n",
    "    expr=sum(w[i]*model.x[i] for i in A)<=W_max )\n",
    "\n",
    "# Otra forma análoga, especificando cota inferior y superior de la restricción\n",
    "# model.weight = pe.Constraint(\n",
    "#    expr=(None,sum(w[i]*model.x[i] for i in A),W_max) )"
   ]
  },
  {
   "cell_type": "code",
   "execution_count": 124,
   "metadata": {},
   "outputs": [
    {
     "name": "stdout",
     "output_type": "stream",
     "text": [
      "Help on class Constraint in module pyomo.core.base.constraint:\n",
      "\n",
      "class Constraint(pyomo.core.base.indexed_component.ActiveIndexedComponent)\n",
      " |  Constraint(*args, **kwds)\n",
      " |  \n",
      " |  This modeling component defines a constraint expression using a\n",
      " |  rule function.\n",
      " |  \n",
      " |  Constructor arguments:\n",
      " |      expr \n",
      " |          A Pyomo expression for this constraint\n",
      " |      rule \n",
      " |          A function that is used to construct constraint expressions\n",
      " |      doc \n",
      " |          A text string describing this component\n",
      " |      name \n",
      " |          A name for this component\n",
      " |  \n",
      " |  Public class attributes:\n",
      " |      doc \n",
      " |          A text string describing this component\n",
      " |      name \n",
      " |          A name for this component\n",
      " |      active  \n",
      " |          A boolean that is true if this component will be used to \n",
      " |          construct a model instance\n",
      " |      rule \n",
      " |         The rule used to initialize the constraint(s)\n",
      " |  \n",
      " |  Private class attributes:\n",
      " |      _constructed        \n",
      " |          A boolean that is true if this component has been constructed\n",
      " |      _data               \n",
      " |          A dictionary from the index set to component data objects\n",
      " |      _index              \n",
      " |          The set of valid indices\n",
      " |      _implicit_subsets   \n",
      " |          A tuple of set objects that represents the index set\n",
      " |      _model              \n",
      " |          A weakref to the model that owns this component\n",
      " |      _parent             \n",
      " |          A weakref to the parent block that owns this component\n",
      " |      _type               \n",
      " |          The class type for the derived subclass\n",
      " |  \n",
      " |  Method resolution order:\n",
      " |      Constraint\n",
      " |      pyomo.core.base.indexed_component.ActiveIndexedComponent\n",
      " |      pyomo.core.base.indexed_component.IndexedComponent\n",
      " |      pyomo.core.base.component.ActiveComponent\n",
      " |      pyomo.core.base.component.Component\n",
      " |      pyomo.core.base.component._ComponentBase\n",
      " |      builtins.object\n",
      " |  \n",
      " |  Methods defined here:\n",
      " |  \n",
      " |  __init__(self, *args, **kwargs)\n",
      " |      Initialize self.  See help(type(self)) for accurate signature.\n",
      " |  \n",
      " |  construct(self, data=None)\n",
      " |      Construct the expression(s) for this constraint.\n",
      " |  \n",
      " |  display(self, prefix='', ostream=None)\n",
      " |      Print component state information\n",
      " |      \n",
      " |      This duplicates logic in Component.pprint()\n",
      " |  \n",
      " |  ----------------------------------------------------------------------\n",
      " |  Static methods defined here:\n",
      " |  \n",
      " |  __new__(cls, *args, **kwds)\n",
      " |      Create and return a new object.  See help(type) for accurate signature.\n",
      " |  \n",
      " |  ----------------------------------------------------------------------\n",
      " |  Data and other attributes defined here:\n",
      " |  \n",
      " |  Feasible = (1002,)\n",
      " |  \n",
      " |  Infeasible = (1001,)\n",
      " |  \n",
      " |  NoConstraint = (1000,)\n",
      " |  \n",
      " |  Satisfied = (1002,)\n",
      " |  \n",
      " |  Skip = (1000,)\n",
      " |  \n",
      " |  Violated = (1001,)\n",
      " |  \n",
      " |  ----------------------------------------------------------------------\n",
      " |  Methods inherited from pyomo.core.base.indexed_component.ActiveIndexedComponent:\n",
      " |  \n",
      " |  activate(self)\n",
      " |      Set the active attribute to True\n",
      " |  \n",
      " |  deactivate(self)\n",
      " |      Set the active attribute to False\n",
      " |  \n",
      " |  ----------------------------------------------------------------------\n",
      " |  Methods inherited from pyomo.core.base.indexed_component.IndexedComponent:\n",
      " |  \n",
      " |  __contains__(self, idx)\n",
      " |      Return true if the index is in the dictionary\n",
      " |  \n",
      " |  __delitem__(self, index)\n",
      " |  \n",
      " |  __getitem__(self, index)\n",
      " |      This method returns the data corresponding to the given index.\n",
      " |  \n",
      " |  __getstate__(self)\n",
      " |      This method must be defined to support pickling because this class\n",
      " |      owns weakrefs for '_parent'.\n",
      " |  \n",
      " |  __iter__(self)\n",
      " |      Iterate over the keys in the dictionary\n",
      " |  \n",
      " |  __len__(self)\n",
      " |      Return the number of component data objects stored by this\n",
      " |      component.\n",
      " |  \n",
      " |  __setitem__(self, index, val)\n",
      " |  \n",
      " |  __setstate__(self, state)\n",
      " |      This method must be defined to support pickling because this class\n",
      " |      owns weakrefs for '_parent'.\n",
      " |  \n",
      " |  clear(self)\n",
      " |      Clear the data in this component\n",
      " |  \n",
      " |  dim(self)\n",
      " |      Return the dimension of the index\n",
      " |  \n",
      " |  id_index_map(self)\n",
      " |      Return an dictionary id->index for\n",
      " |      all ComponentData instances.\n",
      " |  \n",
      " |  index_set(self)\n",
      " |      Return the index set\n",
      " |  \n",
      " |  is_indexed(self)\n",
      " |      Return true if this component is indexed\n",
      " |  \n",
      " |  items = iteritems(self)\n",
      " |  \n",
      " |  iteritems(self)\n",
      " |      Return an iterator of (index,data) tuples from the dictionary\n",
      " |  \n",
      " |  iterkeys(self)\n",
      " |      Return an iterator of the keys in the dictionary\n",
      " |  \n",
      " |  itervalues(self)\n",
      " |      Return an iterator of the component data objects in the dictionary\n",
      " |  \n",
      " |  keys = iterkeys(self)\n",
      " |  \n",
      " |  set_value(self, value)\n",
      " |      Set the value of a scalar component.\n",
      " |  \n",
      " |  to_dense_data(self)\n",
      " |      TODO\n",
      " |  \n",
      " |  values = itervalues(self)\n",
      " |  \n",
      " |  ----------------------------------------------------------------------\n",
      " |  Data descriptors inherited from pyomo.core.base.component.ActiveComponent:\n",
      " |  \n",
      " |  active\n",
      " |      Return the active attribute\n",
      " |  \n",
      " |  ----------------------------------------------------------------------\n",
      " |  Methods inherited from pyomo.core.base.component.Component:\n",
      " |  \n",
      " |  __str__(self)\n",
      " |      Return the component name\n",
      " |  \n",
      " |  clear_suffix_value(self, suffix_or_name, expand=True)\n",
      " |      Clear the suffix value for this component data\n",
      " |  \n",
      " |  get_suffix_value(self, suffix_or_name, default=None)\n",
      " |      Get the suffix value for this component data\n",
      " |  \n",
      " |  getname(self, fully_qualified=False, name_buffer=None, relative_to=None)\n",
      " |      Returns the component name associated with this object.\n",
      " |      \n",
      " |      Arguments:\n",
      " |          fully_qualified     Generate full name from nested block names\n",
      " |          name_buffer         Can be used to optimize iterative name\n",
      " |                                  generation (using a dictionary)\n",
      " |          relative_to         When generating a fully qualified name,\n",
      " |                                  stop at this block.\n",
      " |  \n",
      " |  is_component_type(self)\n",
      " |      Return True if this class is a Pyomo component\n",
      " |  \n",
      " |  is_constructed(self)\n",
      " |      Return True if this class has been constructed\n",
      " |  \n",
      " |  model(self)\n",
      " |      Returns the model associated with this object.\n",
      " |  \n",
      " |  parent_block(self)\n",
      " |      Returns the parent of this object.\n",
      " |  \n",
      " |  parent_component(self)\n",
      " |      Returns the component associated with this object.\n",
      " |  \n",
      " |  pprint(self, ostream=None, verbose=False, prefix='')\n",
      " |      Print component information\n",
      " |  \n",
      " |  reconstruct(self, data=None)\n",
      " |      Re-construct model expressions\n",
      " |  \n",
      " |  root_block(self)\n",
      " |      Return self.model()\n",
      " |  \n",
      " |  set_suffix_value(self, suffix_or_name, value, expand=True)\n",
      " |      Set the suffix value for this component data\n",
      " |  \n",
      " |  to_string(self, verbose=None, labeler=None, smap=None, compute_values=False)\n",
      " |      Return the component name\n",
      " |  \n",
      " |  type(self)\n",
      " |      Return the class type for this component\n",
      " |  \n",
      " |  valid_model_component(self)\n",
      " |      Return True if this can be used as a model component.\n",
      " |  \n",
      " |  ----------------------------------------------------------------------\n",
      " |  Data descriptors inherited from pyomo.core.base.component.Component:\n",
      " |  \n",
      " |  __dict__\n",
      " |      dictionary for instance variables (if defined)\n",
      " |  \n",
      " |  __weakref__\n",
      " |      list of weak references to the object (if defined)\n",
      " |  \n",
      " |  name\n",
      " |      Get the fully qualifed component name.\n",
      " |  \n",
      " |  ----------------------------------------------------------------------\n",
      " |  Methods inherited from pyomo.core.base.component._ComponentBase:\n",
      " |  \n",
      " |  __deepcopy__(self, memo)\n",
      " |  \n",
      " |  cname(self, *args, **kwds)\n",
      " |  \n",
      " |  ----------------------------------------------------------------------\n",
      " |  Data descriptors inherited from pyomo.core.base.component._ComponentBase:\n",
      " |  \n",
      " |  local_name\n",
      " |      Get the component name only within the context of\n",
      " |      the immediate parent container.\n",
      "\n"
     ]
    }
   ],
   "source": [
    "help(pe.Constraint)"
   ]
  },
  {
   "cell_type": "markdown",
   "metadata": {},
   "source": [
    "### Creamos la factoría del solver que queremos utilizar"
   ]
  },
  {
   "cell_type": "code",
   "execution_count": 125,
   "metadata": {},
   "outputs": [],
   "source": [
    "opt = pe.SolverFactory('glpk')"
   ]
  },
  {
   "cell_type": "markdown",
   "metadata": {},
   "source": [
    "### Resolvemos el problema"
   ]
  },
  {
   "cell_type": "code",
   "execution_count": 126,
   "metadata": {},
   "outputs": [
    {
     "name": "stdout",
     "output_type": "stream",
     "text": [
      "GLPSOL: GLPK LP/MIP Solver, v4.65\n",
      "Parameter(s) specified in the command line:\n",
      " --write C:\\Users\\User\\AppData\\Local\\Temp\\tmpe2nrfgwc.glpk.raw --wglp C:\\Users\\User\\AppData\\Local\\Temp\\tmp6l28tpab.glpk.glp\n",
      " --cpxlp C:\\Users\\User\\AppData\\Local\\Temp\\tmpdzx8bysc.pyomo.lp\n",
      "Reading problem data from 'C:\\Users\\User\\AppData\\Local\\Temp\\tmpdzx8bysc.pyomo.lp'...\n",
      "C:\\Users\\User\\AppData\\Local\\Temp\\tmpdzx8bysc.pyomo.lp:28: warning: lower bound of variable 'x1' redefined\n",
      "C:\\Users\\User\\AppData\\Local\\Temp\\tmpdzx8bysc.pyomo.lp:28: warning: upper bound of variable 'x1' redefined\n",
      "2 rows, 5 columns, 5 non-zeros\n",
      "4 integer variables, all of which are binary\n",
      "32 lines were read\n",
      "Writing problem data to 'C:\\Users\\User\\AppData\\Local\\Temp\\tmp6l28tpab.glpk.glp'...\n",
      "22 lines were written\n",
      "GLPK Integer Optimizer, v4.65\n",
      "2 rows, 5 columns, 5 non-zeros\n",
      "4 integer variables, all of which are binary\n",
      "Preprocessing...\n",
      "1 constraint coefficient(s) were reduced\n",
      "1 row, 4 columns, 4 non-zeros\n",
      "4 integer variables, all of which are binary\n",
      "Scaling...\n",
      " A: min|aij| =  3.000e+00  max|aij| =  5.000e+00  ratio =  1.667e+00\n",
      "Problem data seem to be well scaled\n",
      "Constructing initial basis...\n",
      "Size of triangular part is 1\n",
      "Solving LP relaxation...\n",
      "GLPK Simplex Optimizer, v4.65\n",
      "1 row, 4 columns, 4 non-zeros\n",
      "*     0: obj =  -0.000000000e+00 inf =   0.000e+00 (4)\n",
      "*     4: obj =   2.500000000e+01 inf =   0.000e+00 (0)\n",
      "OPTIMAL LP SOLUTION FOUND\n",
      "Integer optimization begins...\n",
      "Long-step dual simplex will be used\n",
      "+     4: mip =     not found yet <=              +inf        (1; 0)\n",
      "+     4: >>>>>   2.500000000e+01 <=   2.500000000e+01   0.0% (1; 0)\n",
      "+     4: mip =   2.500000000e+01 <=     tree is empty   0.0% (0; 1)\n",
      "INTEGER OPTIMAL SOLUTION FOUND\n",
      "Time used:   0.0 secs\n",
      "Memory used: 0.1 Mb (59918 bytes)\n",
      "Writing MIP solution to 'C:\\Users\\User\\AppData\\Local\\Temp\\tmpe2nrfgwc.glpk.raw'...\n",
      "16 lines were written\n"
     ]
    }
   ],
   "source": [
    "result_obj = opt.solve(model,tee=True) # tee=True visualiza la salida del solver"
   ]
  },
  {
   "cell_type": "markdown",
   "metadata": {},
   "source": [
    "### Imprimimos los resultados"
   ]
  },
  {
   "cell_type": "code",
   "execution_count": 127,
   "metadata": {},
   "outputs": [
    {
     "name": "stdout",
     "output_type": "stream",
     "text": [
      "1 Set Declarations\n",
      "    x_index : Dim=0, Dimen=1, Size=4, Domain=None, Ordered=False, Bounds=None\n",
      "        ['candado', 'destornillador', 'toalla', 'tornillo']\n",
      "\n",
      "1 Var Declarations\n",
      "    x : Size=4, Index=x_index\n",
      "        Key            : Lower : Value : Upper : Fixed : Stale : Domain\n",
      "               candado :     0 :   0.0 :     1 : False : False : Binary\n",
      "        destornillador :     0 :   1.0 :     1 : False : False : Binary\n",
      "                toalla :     0 :   1.0 :     1 : False : False : Binary\n",
      "              tornillo :     0 :   1.0 :     1 : False : False : Binary\n",
      "\n",
      "1 Objective Declarations\n",
      "    benefit : Size=1, Index=None, Active=True\n",
      "        Key  : Active : Sense    : Expression\n",
      "        None :   True : maximize : 8*x[tornillo] + 3*x[candado] + 6*x[destornillador] + 11*x[toalla]\n",
      "\n",
      "1 Constraint Declarations\n",
      "    weight : Size=1, Index=None, Active=True\n",
      "        Key  : Lower : Body                                                             : Upper : Active\n",
      "        None :  -Inf : 5*x[tornillo] + 7*x[candado] + 4*x[destornillador] + 3*x[toalla] :  14.0 :   True\n",
      "\n",
      "4 Declarations: x_index x benefit weight\n"
     ]
    }
   ],
   "source": [
    "model.pprint()"
   ]
  },
  {
   "cell_type": "code",
   "execution_count": 128,
   "metadata": {},
   "outputs": [
    {
     "name": "stdout",
     "output_type": "stream",
     "text": [
      "Model unknown\n",
      "\n",
      "  Variables:\n",
      "    x : Size=4, Index=x_index\n",
      "        Key            : Lower : Value : Upper : Fixed : Stale : Domain\n",
      "               candado :     0 :   0.0 :     1 : False : False : Binary\n",
      "        destornillador :     0 :   1.0 :     1 : False : False : Binary\n",
      "                toalla :     0 :   1.0 :     1 : False : False : Binary\n",
      "              tornillo :     0 :   1.0 :     1 : False : False : Binary\n",
      "\n",
      "  Objectives:\n",
      "    benefit : Size=1, Index=None, Active=True\n",
      "        Key  : Active : Value\n",
      "        None :   True :  25.0\n",
      "\n",
      "  Constraints:\n",
      "    weight : Size=1\n",
      "        Key  : Lower : Body : Upper\n",
      "        None :  None : 12.0 :  14.0\n"
     ]
    }
   ],
   "source": [
    "model.display()"
   ]
  },
  {
   "cell_type": "markdown",
   "metadata": {},
   "source": [
    "### Imprimimos los valores de cada variables de forma explícita"
   ]
  },
  {
   "cell_type": "code",
   "execution_count": 129,
   "metadata": {},
   "outputs": [
    {
     "name": "stdout",
     "output_type": "stream",
     "text": [
      "#############################################\n",
      "Print values for each variable explicitly\n",
      "x[tornillo] 1.0\n",
      "x[candado] 0.0\n",
      "x[destornillador] 1.0\n",
      "x[toalla] 1.0\n",
      "\n",
      "#############################################\n",
      "Print values for all variables\n",
      "x[tornillo] 1.0\n",
      "x[candado] 0.0\n",
      "x[destornillador] 1.0\n",
      "x[toalla] 1.0\n"
     ]
    }
   ],
   "source": [
    "#\n",
    "# Print values for each variable explicitly\n",
    "#\n",
    "print(\"#############################################\")\n",
    "print(\"Print values for each variable explicitly\")\n",
    "for i in model.x:\n",
    "  print(str(model.x[i]), model.x[i].value)\n",
    "print(\"\")\n",
    "\n",
    "#\n",
    "# Print values for all variables\n",
    "#\n",
    "print(\"#############################################\")\n",
    "print(\"Print values for all variables\")\n",
    "for v in model.component_data_objects(pe.Var):\n",
    "  print(str(v), v.value)"
   ]
  },
  {
   "cell_type": "markdown",
   "metadata": {},
   "source": [
    "## Un ejemplo un poco más completo: Warehouse Location\n",
    "* Determinar el conjunto de $P$ almacenes de entre el conjunto total $W$ de posibles almacenes minimizando los costes de servicio de todos los clientes $C$.\n",
    "* $d_{w,c}$ representa el coste de servir al cliente $c$ desde el almacén ubicado en $w$\n",
    "* Variables del problema:\n",
    "    * $y_{w}\\in {0,1}$: determina si el almacén ubicado en $w$ es seleccionado o no.\n",
    "    * $x_{w,c}$: porcentaje de demanda del cliente $c$ satisfecha por el almacén $w$.\n",
    "    \n",
    "\\begin{align*}\n",
    "\\textrm{Maximizar}\\ \\ \\     & \\sum_{w\\in W, c \\in C}d_{w,c}x_{w,c}\\\\\n",
    "\\textrm{sujeto a}\\ \\ \\      & \\sum_{w\\in W}x_{w,c}= 1 \\, \\, \\forall c \\in C \\text{(Todos los clientes son servidos)}\\\\\n",
    "                 \\ \\ \\     & x_{w,c}\\leq y_{w}  \\, \\, \\forall w\\in W, \\forall c \\in C \\text{(Si el cliente es servido por $w$, debe ser seleccionado)}\\\\  \n",
    "                 \\ \\ \\     & \\sum_{w\\in W}y_{w}= P \\, \\,\\text{(Seleccionar $P$ almacenes)}\\\\\n",
    "                 \\ \\ \\     & 0\\leq x\\leq 1, y\\in \\{0,1\\}^{|W|} \\, \\,\\text{(Seleccionar $P$ almacenes)}\\\\\n",
    "\\end{align*}"
   ]
  },
  {
   "cell_type": "markdown",
   "metadata": {},
   "source": [
    "La principal diferencia con el ejemplo anterior es que ahora necesatiamos definir **restricciones sobre un conjunto**. Para ello emplearemos el concepto de **regla** para definir la expresión lineal correspondiente."
   ]
  },
  {
   "cell_type": "markdown",
   "metadata": {},
   "source": [
    "### Datos\n",
    "![title](img/warehouse_data.png)"
   ]
  },
  {
   "cell_type": "code",
   "execution_count": 130,
   "metadata": {},
   "outputs": [],
   "source": [
    "W = ['Harlingen', 'Memphis', 'Ashland']\n",
    "C = ['NYC', 'LA', 'Chicago', 'Houston']\n",
    "d = {('Harlingen', 'NYC'): 1956,\n",
    "     ('Harlingen', 'LA'): 1606,\n",
    "     ('Harlingen', 'Chicago'): 1410,\n",
    "     ('Harlingen', 'Houston'): 330,\n",
    "     ('Memphis', 'NYC'): 1096,\n",
    "     ('Memphis', 'LA'): 1792,\n",
    "     ('Memphis', 'Chicago'): 531,\n",
    "     ('Memphis', 'Houston'): 567,\n",
    "     ('Ashland', 'NYC'): 485,\n",
    "     ('Ashland', 'LA'): 2322,\n",
    "     ('Ashland', 'Chicago'): 324,\n",
    "     ('Ashland', 'Houston'): 1236\n",
    "    }\n",
    "P = 2"
   ]
  },
  {
   "cell_type": "markdown",
   "metadata": {},
   "source": [
    "#### Definimos el modelo y las variables:"
   ]
  },
  {
   "cell_type": "code",
   "execution_count": 131,
   "metadata": {},
   "outputs": [],
   "source": [
    "model = pe.ConcreteModel(name=\"(WL)\")\n",
    "\n",
    "model.x = pe.Var(W,C, bounds=(0,1))\n",
    "model.y = pe.Var(W, within=pe.Binary)"
   ]
  },
  {
   "cell_type": "markdown",
   "metadata": {},
   "source": [
    "### Función objetivo: en este caso la definiremos empleando una regla, en lugar de generando la expresión lineal directamente"
   ]
  },
  {
   "cell_type": "code",
   "execution_count": 132,
   "metadata": {},
   "outputs": [],
   "source": [
    "def obj_rule(m):\n",
    "    return sum(d[w,c]*m.x[w,c] for w in W for c in C)\n",
    "#model.obj = pe.Objective(expr=sum(d[w,c]*m.x[w,c] for w in W for c in C))\n",
    "model.obj = pe.Objective(rule=obj_rule)"
   ]
  },
  {
   "cell_type": "markdown",
   "metadata": {},
   "source": [
    "### Restricción: $\\sum_{w\\in W}x_{w,c}= 1 \\, \\, \\forall c \\in C \\text{(Todos los clientes son servidos)}$"
   ]
  },
  {
   "cell_type": "code",
   "execution_count": 133,
   "metadata": {},
   "outputs": [],
   "source": [
    "def one_per_cust_rule(m, c):\n",
    "    return sum(m.x[w,c] for w in W) == 1\n",
    "model.one_per_cust = pe.Constraint(C, rule=one_per_cust_rule)"
   ]
  },
  {
   "cell_type": "markdown",
   "metadata": {},
   "source": [
    "### Restricción: $x_{w,c}\\leq y_{w}  \\, \\, \\forall w\\in W, \\forall c \\in C \\text{(Si el cliente es servido por $w$, debe ser seleccionado)}$"
   ]
  },
  {
   "cell_type": "code",
   "execution_count": 134,
   "metadata": {},
   "outputs": [],
   "source": [
    "def warehouse_active_rule(m, w, c):\n",
    "    return m.x[w,c] <= m.y[w]\n",
    "model.warehouse_active = pe.Constraint(W, C, rule=warehouse_active_rule)"
   ]
  },
  {
   "cell_type": "markdown",
   "metadata": {},
   "source": [
    "### Restricción: $\\sum_{w\\in W}y_{w}= P \\, \\,\\text{(Seleccionar $P$ almacenes)}$"
   ]
  },
  {
   "cell_type": "code",
   "execution_count": 135,
   "metadata": {},
   "outputs": [],
   "source": [
    "def num_warehouses_rule(m):\n",
    "    return sum(m.y[w] for w in W) <= P\n",
    "model.num_warehouses = pe.Constraint(rule=num_warehouses_rule)"
   ]
  },
  {
   "cell_type": "markdown",
   "metadata": {},
   "source": [
    "### Especificamos solver y resolvemos"
   ]
  },
  {
   "cell_type": "code",
   "execution_count": 136,
   "metadata": {},
   "outputs": [
    {
     "name": "stdout",
     "output_type": "stream",
     "text": [
      "8 Set Declarations\n",
      "    one_per_cust_index : Dim=0, Dimen=1, Size=4, Domain=None, Ordered=False, Bounds=None\n",
      "        ['Chicago', 'Houston', 'LA', 'NYC']\n",
      "    warehouse_active_index : Dim=0, Dimen=2, Size=12, Domain=None, Ordered=False, Bounds=None\n",
      "        Virtual\n",
      "    warehouse_active_index_0 : Dim=0, Dimen=1, Size=3, Domain=None, Ordered=False, Bounds=None\n",
      "        ['Ashland', 'Harlingen', 'Memphis']\n",
      "    warehouse_active_index_1 : Dim=0, Dimen=1, Size=4, Domain=None, Ordered=False, Bounds=None\n",
      "        ['Chicago', 'Houston', 'LA', 'NYC']\n",
      "    x_index : Dim=0, Dimen=2, Size=12, Domain=None, Ordered=False, Bounds=None\n",
      "        Virtual\n",
      "    x_index_0 : Dim=0, Dimen=1, Size=3, Domain=None, Ordered=False, Bounds=None\n",
      "        ['Ashland', 'Harlingen', 'Memphis']\n",
      "    x_index_1 : Dim=0, Dimen=1, Size=4, Domain=None, Ordered=False, Bounds=None\n",
      "        ['Chicago', 'Houston', 'LA', 'NYC']\n",
      "    y_index : Dim=0, Dimen=1, Size=3, Domain=None, Ordered=False, Bounds=None\n",
      "        ['Ashland', 'Harlingen', 'Memphis']\n",
      "\n",
      "2 Var Declarations\n",
      "    x : Size=12, Index=x_index\n",
      "        Key                      : Lower : Value : Upper : Fixed : Stale : Domain\n",
      "          ('Ashland', 'Chicago') :     0 :   1.0 :     1 : False : False :  Reals\n",
      "          ('Ashland', 'Houston') :     0 :   0.0 :     1 : False : False :  Reals\n",
      "               ('Ashland', 'LA') :     0 :   0.0 :     1 : False : False :  Reals\n",
      "              ('Ashland', 'NYC') :     0 :   1.0 :     1 : False : False :  Reals\n",
      "        ('Harlingen', 'Chicago') :     0 :   0.0 :     1 : False : False :  Reals\n",
      "        ('Harlingen', 'Houston') :     0 :   1.0 :     1 : False : False :  Reals\n",
      "             ('Harlingen', 'LA') :     0 :   1.0 :     1 : False : False :  Reals\n",
      "            ('Harlingen', 'NYC') :     0 :   0.0 :     1 : False : False :  Reals\n",
      "          ('Memphis', 'Chicago') :     0 :   0.0 :     1 : False : False :  Reals\n",
      "          ('Memphis', 'Houston') :     0 :   0.0 :     1 : False : False :  Reals\n",
      "               ('Memphis', 'LA') :     0 :   0.0 :     1 : False : False :  Reals\n",
      "              ('Memphis', 'NYC') :     0 :   0.0 :     1 : False : False :  Reals\n",
      "    y : Size=3, Index=y_index\n",
      "        Key       : Lower : Value : Upper : Fixed : Stale : Domain\n",
      "          Ashland :     0 :   1.0 :     1 : False : False : Binary\n",
      "        Harlingen :     0 :   1.0 :     1 : False : False : Binary\n",
      "          Memphis :     0 :   0.0 :     1 : False : False : Binary\n",
      "\n",
      "1 Objective Declarations\n",
      "    obj : Size=1, Index=None, Active=True\n",
      "        Key  : Active : Sense    : Expression\n",
      "        None :   True : minimize : 1956*x[Harlingen,NYC] + 1606*x[Harlingen,LA] + 1410*x[Harlingen,Chicago] + 330*x[Harlingen,Houston] + 1096*x[Memphis,NYC] + 1792*x[Memphis,LA] + 531*x[Memphis,Chicago] + 567*x[Memphis,Houston] + 485*x[Ashland,NYC] + 2322*x[Ashland,LA] + 324*x[Ashland,Chicago] + 1236*x[Ashland,Houston]\n",
      "\n",
      "3 Constraint Declarations\n",
      "    num_warehouses : Size=1, Index=None, Active=True\n",
      "        Key  : Lower : Body                                   : Upper : Active\n",
      "        None :  -Inf : y[Harlingen] + y[Memphis] + y[Ashland] :   2.0 :   True\n",
      "    one_per_cust : Size=4, Index=one_per_cust_index, Active=True\n",
      "        Key     : Lower : Body                                                           : Upper : Active\n",
      "        Chicago :   1.0 : x[Harlingen,Chicago] + x[Memphis,Chicago] + x[Ashland,Chicago] :   1.0 :   True\n",
      "        Houston :   1.0 : x[Harlingen,Houston] + x[Memphis,Houston] + x[Ashland,Houston] :   1.0 :   True\n",
      "             LA :   1.0 :                x[Harlingen,LA] + x[Memphis,LA] + x[Ashland,LA] :   1.0 :   True\n",
      "            NYC :   1.0 :             x[Harlingen,NYC] + x[Memphis,NYC] + x[Ashland,NYC] :   1.0 :   True\n",
      "    warehouse_active : Size=12, Index=warehouse_active_index, Active=True\n",
      "        Key                      : Lower : Body                                : Upper : Active\n",
      "          ('Ashland', 'Chicago') :  -Inf :     x[Ashland,Chicago] - y[Ashland] :   0.0 :   True\n",
      "          ('Ashland', 'Houston') :  -Inf :     x[Ashland,Houston] - y[Ashland] :   0.0 :   True\n",
      "               ('Ashland', 'LA') :  -Inf :          x[Ashland,LA] - y[Ashland] :   0.0 :   True\n",
      "              ('Ashland', 'NYC') :  -Inf :         x[Ashland,NYC] - y[Ashland] :   0.0 :   True\n",
      "        ('Harlingen', 'Chicago') :  -Inf : x[Harlingen,Chicago] - y[Harlingen] :   0.0 :   True\n",
      "        ('Harlingen', 'Houston') :  -Inf : x[Harlingen,Houston] - y[Harlingen] :   0.0 :   True\n",
      "             ('Harlingen', 'LA') :  -Inf :      x[Harlingen,LA] - y[Harlingen] :   0.0 :   True\n",
      "            ('Harlingen', 'NYC') :  -Inf :     x[Harlingen,NYC] - y[Harlingen] :   0.0 :   True\n",
      "          ('Memphis', 'Chicago') :  -Inf :     x[Memphis,Chicago] - y[Memphis] :   0.0 :   True\n",
      "          ('Memphis', 'Houston') :  -Inf :     x[Memphis,Houston] - y[Memphis] :   0.0 :   True\n",
      "               ('Memphis', 'LA') :  -Inf :          x[Memphis,LA] - y[Memphis] :   0.0 :   True\n",
      "              ('Memphis', 'NYC') :  -Inf :         x[Memphis,NYC] - y[Memphis] :   0.0 :   True\n",
      "\n",
      "14 Declarations: x_index_0 x_index_1 x_index x y_index y obj one_per_cust_index one_per_cust warehouse_active_index_0 warehouse_active_index_1 warehouse_active_index warehouse_active num_warehouses\n"
     ]
    }
   ],
   "source": [
    "pe.SolverFactory('glpk').solve(model)\n",
    "model.pprint()"
   ]
  },
  {
   "cell_type": "code",
   "execution_count": 137,
   "metadata": {},
   "outputs": [
    {
     "name": "stdout",
     "output_type": "stream",
     "text": [
      "Model (WL)\n",
      "\n",
      "  Variables:\n",
      "    x : Size=12, Index=x_index\n",
      "        Key                      : Lower : Value : Upper : Fixed : Stale : Domain\n",
      "          ('Ashland', 'Chicago') :     0 :   1.0 :     1 : False : False :  Reals\n",
      "          ('Ashland', 'Houston') :     0 :   0.0 :     1 : False : False :  Reals\n",
      "               ('Ashland', 'LA') :     0 :   0.0 :     1 : False : False :  Reals\n",
      "              ('Ashland', 'NYC') :     0 :   1.0 :     1 : False : False :  Reals\n",
      "        ('Harlingen', 'Chicago') :     0 :   0.0 :     1 : False : False :  Reals\n",
      "        ('Harlingen', 'Houston') :     0 :   1.0 :     1 : False : False :  Reals\n",
      "             ('Harlingen', 'LA') :     0 :   1.0 :     1 : False : False :  Reals\n",
      "            ('Harlingen', 'NYC') :     0 :   0.0 :     1 : False : False :  Reals\n",
      "          ('Memphis', 'Chicago') :     0 :   0.0 :     1 : False : False :  Reals\n",
      "          ('Memphis', 'Houston') :     0 :   0.0 :     1 : False : False :  Reals\n",
      "               ('Memphis', 'LA') :     0 :   0.0 :     1 : False : False :  Reals\n",
      "              ('Memphis', 'NYC') :     0 :   0.0 :     1 : False : False :  Reals\n",
      "    y : Size=3, Index=y_index\n",
      "        Key       : Lower : Value : Upper : Fixed : Stale : Domain\n",
      "          Ashland :     0 :   1.0 :     1 : False : False : Binary\n",
      "        Harlingen :     0 :   1.0 :     1 : False : False : Binary\n",
      "          Memphis :     0 :   0.0 :     1 : False : False : Binary\n",
      "\n",
      "  Objectives:\n",
      "    obj : Size=1, Index=None, Active=True\n",
      "        Key  : Active : Value\n",
      "        None :   True : 2745.0\n",
      "\n",
      "  Constraints:\n",
      "    one_per_cust : Size=4\n",
      "        Key     : Lower : Body : Upper\n",
      "        Chicago :   1.0 :  1.0 :   1.0\n",
      "        Houston :   1.0 :  1.0 :   1.0\n",
      "             LA :   1.0 :  1.0 :   1.0\n",
      "            NYC :   1.0 :  1.0 :   1.0\n",
      "    warehouse_active : Size=12\n",
      "        Key                      : Lower : Body : Upper\n",
      "          ('Ashland', 'Chicago') :  None :  0.0 :   0.0\n",
      "          ('Ashland', 'Houston') :  None : -1.0 :   0.0\n",
      "               ('Ashland', 'LA') :  None : -1.0 :   0.0\n",
      "              ('Ashland', 'NYC') :  None :  0.0 :   0.0\n",
      "        ('Harlingen', 'Chicago') :  None : -1.0 :   0.0\n",
      "        ('Harlingen', 'Houston') :  None :  0.0 :   0.0\n",
      "             ('Harlingen', 'LA') :  None :  0.0 :   0.0\n",
      "            ('Harlingen', 'NYC') :  None : -1.0 :   0.0\n",
      "          ('Memphis', 'Chicago') :  None :  0.0 :   0.0\n",
      "          ('Memphis', 'Houston') :  None :  0.0 :   0.0\n",
      "               ('Memphis', 'LA') :  None :  0.0 :   0.0\n",
      "              ('Memphis', 'NYC') :  None :  0.0 :   0.0\n",
      "    num_warehouses : Size=1\n",
      "        Key  : Lower : Body : Upper\n",
      "        None :  None :  2.0 :   2.0\n"
     ]
    }
   ],
   "source": [
    "model.display()"
   ]
  },
  {
   "cell_type": "markdown",
   "metadata": {},
   "source": [
    "# Abstract models\n",
    "- Primero el modelo, y luego los datos.\n",
    "- Contrucción en 2 pasos.\n",
    "- Pyomo va almacenando las declaraciones básicas del modelo, pero no contruye de forma instantánea los objetos.\n",
    "- En el momento de la creación del modelo, los datos son aplicados al conjunto de declaraciones abstractas para crear una instancia concreta del modelo.\n",
    "- Favorece modelado más genérico y reutilización del modelo.\n",
    "- Familiar para la gente acostumbrada a utilizar AMPL."
   ]
  },
  {
   "cell_type": "markdown",
   "metadata": {},
   "source": [
    "## Abstract Knapsack example"
   ]
  },
  {
   "cell_type": "markdown",
   "metadata": {},
   "source": [
    "### Modelo (guardado en .mod)"
   ]
  },
  {
   "cell_type": "code",
   "execution_count": 138,
   "metadata": {},
   "outputs": [],
   "source": [
    "model = pe.AbstractModel()\n",
    "\n",
    "# Datos de forma abstracta (como conjuntos y parámetros)\n",
    "model.ITEMS = pe.Set()\n",
    "model.v = pe.Param( model.ITEMS, within=pe.PositiveReals )\n",
    "model.w = pe.Param( model.ITEMS, within=pe.PositiveReals )\n",
    "model.W_max = pe.Param( within=pe.PositiveReals )\n",
    "\n",
    "# Variables\n",
    "model.x = pe.Var( model.ITEMS, within=pe.Binary )\n",
    "\n",
    "# Función objetivo\n",
    "def value_rule(model):\n",
    "    return sum( model.v[i]*model.x[i] for i in model.ITEMS )\n",
    "model.value = pe.Objective( rule=value_rule, sense=pe.maximize )\n",
    "\n",
    "# Restricción\n",
    "def weight_rule(model):\n",
    "    return sum( model.w[i]*model.x[i] for i in model.ITEMS )<= model.W_max\n",
    "model.weight = pe.Constraint( rule=weight_rule )"
   ]
  },
  {
   "cell_type": "code",
   "execution_count": 139,
   "metadata": {},
   "outputs": [
    {
     "name": "stdout",
     "output_type": "stream",
     "text": [
      "1 Set Declarations\n",
      "    ITEMS : Dim=0, Dimen=1, Size=0, Domain=None, Ordered=False, Bounds=None\n",
      "        Not constructed\n",
      "\n",
      "3 Param Declarations\n",
      "    W_max : Size=0, Index=None, Domain=PositiveReals, Default=None, Mutable=False\n",
      "        Not constructed\n",
      "    v : Size=0, Index=ITEMS, Domain=PositiveReals, Default=None, Mutable=False\n",
      "        Not constructed\n",
      "    w : Size=0, Index=ITEMS, Domain=PositiveReals, Default=None, Mutable=False\n",
      "        Not constructed\n",
      "\n",
      "1 Var Declarations\n",
      "    x : Size=0, Index=ITEMS\n",
      "        Not constructed\n",
      "\n",
      "1 Objective Declarations\n",
      "    value : Size=0, Index=None, Active=True\n",
      "        Not constructed\n",
      "\n",
      "1 Constraint Declarations\n",
      "    weight : Size=0, Index=None, Active=True\n",
      "        Not constructed\n",
      "\n",
      "7 Declarations: ITEMS v w W_max x value weight\n"
     ]
    }
   ],
   "source": [
    "model.pprint()"
   ]
  },
  {
   "cell_type": "code",
   "execution_count": 140,
   "metadata": {},
   "outputs": [
    {
     "name": "stdout",
     "output_type": "stream",
     "text": [
      "Help on method create_instance in module pyomo.core.base.PyomoModel:\n",
      "\n",
      "create_instance(filename=None, data=None, name=None, namespace=None, namespaces=None, profile_memory=0, report_timing=False, **kwds) method of pyomo.core.base.PyomoModel.AbstractModel instance\n",
      "    Create a concrete instance of an abstract model, possibly using data\n",
      "    read in from a file.\n",
      "    \n",
      "    Parameters\n",
      "    ----------\n",
      "    filename: `str`, optional           \n",
      "        The name of a Pyomo Data File that will be used to load data into \n",
      "        the model.\n",
      "    data: `dict`, optional\n",
      "        A dictionary containing initialization data for the model to be \n",
      "        used if there is no filename\n",
      "    name: `str`, optional\n",
      "        The name given to the model.\n",
      "    namespace: `str`, optional          \n",
      "        A namespace used to select data.\n",
      "    namespaces: `list`, optional   \n",
      "        A list of namespaces used to select data.\n",
      "    profile_memory: `int`, optional    \n",
      "        A number that indicates the profiling level.\n",
      "    report_timing: `bool`, optional     \n",
      "        Report timing statistics during construction.\n",
      "\n"
     ]
    }
   ],
   "source": [
    "help(model.create_instance)"
   ]
  },
  {
   "cell_type": "markdown",
   "metadata": {},
   "source": [
    "### Instanciamos modelo abstracto usando un diccionario de Python  \n",
    "https://pyomo.readthedocs.io/en/stable/working_abstractmodels/data/raw_dicts.html"
   ]
  },
  {
   "cell_type": "code",
   "execution_count": 141,
   "metadata": {},
   "outputs": [],
   "source": [
    "data_input = {None:{\n",
    "    'ITEMS': {None:['tornillo','candado','destornillador','toalla']}, \n",
    "    'v':{'tornillo': 8,'candado':3,'destornillador':6,'toalla':11},\n",
    "    'w': {'tornillo': 5,'candado':7,'destornillador':4,'toalla':3},\n",
    "    'W_max':{None: 14},\n",
    "}}"
   ]
  },
  {
   "cell_type": "code",
   "execution_count": 142,
   "metadata": {},
   "outputs": [
    {
     "data": {
      "text/plain": [
       "pyomo.core.base.PyomoModel.ConcreteModel"
      ]
     },
     "execution_count": 142,
     "metadata": {},
     "output_type": "execute_result"
    }
   ],
   "source": [
    "instance = model.create_instance(data=data_input)\n",
    "type(instance)"
   ]
  },
  {
   "cell_type": "code",
   "execution_count": 143,
   "metadata": {},
   "outputs": [
    {
     "name": "stdout",
     "output_type": "stream",
     "text": [
      "Model is contructed : False\n",
      "Instance is contructed : True\n"
     ]
    }
   ],
   "source": [
    "print('Model is contructed :',model.is_constructed())\n",
    "print('Instance is contructed :',instance.is_constructed())"
   ]
  },
  {
   "cell_type": "code",
   "execution_count": 144,
   "metadata": {},
   "outputs": [
    {
     "name": "stdout",
     "output_type": "stream",
     "text": [
      "1 Set Declarations\n",
      "    ITEMS : Dim=0, Dimen=1, Size=4, Domain=None, Ordered=False, Bounds=None\n",
      "        ['candado', 'destornillador', 'toalla', 'tornillo']\n",
      "\n",
      "3 Param Declarations\n",
      "    W_max : Size=1, Index=None, Domain=PositiveReals, Default=None, Mutable=False\n",
      "        Key  : Value\n",
      "        None :    14\n",
      "    v : Size=4, Index=ITEMS, Domain=PositiveReals, Default=None, Mutable=False\n",
      "        Key            : Value\n",
      "               candado :     3\n",
      "        destornillador :     6\n",
      "                toalla :    11\n",
      "              tornillo :     8\n",
      "    w : Size=4, Index=ITEMS, Domain=PositiveReals, Default=None, Mutable=False\n",
      "        Key            : Value\n",
      "               candado :     7\n",
      "        destornillador :     4\n",
      "                toalla :     3\n",
      "              tornillo :     5\n",
      "\n",
      "1 Var Declarations\n",
      "    x : Size=4, Index=ITEMS\n",
      "        Key            : Lower : Value : Upper : Fixed : Stale : Domain\n",
      "               candado :     0 :  None :     1 : False :  True : Binary\n",
      "        destornillador :     0 :  None :     1 : False :  True : Binary\n",
      "                toalla :     0 :  None :     1 : False :  True : Binary\n",
      "              tornillo :     0 :  None :     1 : False :  True : Binary\n",
      "\n",
      "1 Objective Declarations\n",
      "    value : Size=1, Index=None, Active=True\n",
      "        Key  : Active : Sense    : Expression\n",
      "        None :   True : maximize : 8*x[tornillo] + 3*x[candado] + 6*x[destornillador] + 11*x[toalla]\n",
      "\n",
      "1 Constraint Declarations\n",
      "    weight : Size=1, Index=None, Active=True\n",
      "        Key  : Lower : Body                                                             : Upper : Active\n",
      "        None :  -Inf : 5*x[tornillo] + 7*x[candado] + 4*x[destornillador] + 3*x[toalla] :  14.0 :   True\n",
      "\n",
      "7 Declarations: ITEMS v w W_max x value weight\n"
     ]
    }
   ],
   "source": [
    "instance.pprint()"
   ]
  },
  {
   "cell_type": "code",
   "execution_count": 145,
   "metadata": {},
   "outputs": [
    {
     "name": "stdout",
     "output_type": "stream",
     "text": [
      "Model unknown\n",
      "\n",
      "  Variables:\n",
      "    x : Size=4, Index=ITEMS\n",
      "        Key            : Lower : Value : Upper : Fixed : Stale : Domain\n",
      "               candado :     0 :   0.0 :     1 : False : False : Binary\n",
      "        destornillador :     0 :   1.0 :     1 : False : False : Binary\n",
      "                toalla :     0 :   1.0 :     1 : False : False : Binary\n",
      "              tornillo :     0 :   1.0 :     1 : False : False : Binary\n",
      "\n",
      "  Objectives:\n",
      "    value : Size=1, Index=None, Active=True\n",
      "        Key  : Active : Value\n",
      "        None :   True :  25.0\n",
      "\n",
      "  Constraints:\n",
      "    weight : Size=1\n",
      "        Key  : Lower : Body : Upper\n",
      "        None :  None : 12.0 :  14.0\n"
     ]
    }
   ],
   "source": [
    "pe.SolverFactory('glpk').solve(instance)\n",
    "instance.display()"
   ]
  },
  {
   "cell_type": "markdown",
   "metadata": {},
   "source": [
    "### Instanciamos modelo abstracto usando un archivo .dat  \n",
    "* Se puede hacer utilizando lenguaje Python\n",
    "* Se puede hacer una llamada a sistema a pyomo especificando model.py y datos.dat"
   ]
  },
  {
   "cell_type": "markdown",
   "metadata": {},
   "source": [
    "set ITEMS := tornillo candado destornillador toalla ;\n",
    "    \n",
    "param: v w :=\n",
    "    tornillo 8 5\n",
    "    candado 3 7\n",
    "    destornillador 6 4\n",
    "    toalla 11 3;\n",
    "    \n",
    "param W_max := 14;"
   ]
  },
  {
   "cell_type": "code",
   "execution_count": 146,
   "metadata": {},
   "outputs": [
    {
     "name": "stdout",
     "output_type": "stream",
     "text": [
      "Current Working Directory  C:\\Users\\User\\Documents\\Congresos 2019\\Curso de Python\\Notebooks Angel\n"
     ]
    }
   ],
   "source": [
    "import os\n",
    "print(\"Current Working Directory \" , os.getcwd())"
   ]
  },
  {
   "cell_type": "markdown",
   "metadata": {},
   "source": [
    "### Resolvemos utilizando API de Python"
   ]
  },
  {
   "cell_type": "code",
   "execution_count": 147,
   "metadata": {},
   "outputs": [
    {
     "name": "stdout",
     "output_type": "stream",
     "text": [
      "Model unknown\n",
      "\n",
      "  Variables:\n",
      "    x : Size=4, Index=ITEMS\n",
      "        Key            : Lower : Value : Upper : Fixed : Stale : Domain\n",
      "               candado :     0 :   0.0 :     1 : False : False : Binary\n",
      "        destornillador :     0 :   1.0 :     1 : False : False : Binary\n",
      "                toalla :     0 :   1.0 :     1 : False : False : Binary\n",
      "              tornillo :     0 :   1.0 :     1 : False : False : Binary\n",
      "\n",
      "  Objectives:\n",
      "    value : Size=1, Index=None, Active=True\n",
      "        Key  : Active : Value\n",
      "        None :   True :  25.0\n",
      "\n",
      "  Constraints:\n",
      "    weight : Size=1\n",
      "        Key  : Lower : Body : Upper\n",
      "        None :  None : 12.0 :  14.0\n"
     ]
    }
   ],
   "source": [
    "instance2 = model.create_instance(filename='datos_input.dat')\n",
    "pe.SolverFactory('glpk').solve(instance)\n",
    "instance.display()"
   ]
  },
  {
   "cell_type": "markdown",
   "metadata": {},
   "source": [
    "### Resolvemos llamando a Pyomo por sistema de comandos"
   ]
  },
  {
   "cell_type": "code",
   "execution_count": 148,
   "metadata": {},
   "outputs": [
    {
     "data": {
      "text/plain": [
       "1"
      ]
     },
     "execution_count": 148,
     "metadata": {},
     "output_type": "execute_result"
    }
   ],
   "source": [
    "os.system(\"pyomo solve --solver=glpk model_knapsack.py datos_input.dat > output_file.txt\")"
   ]
  }
 ],
 "metadata": {
  "kernelspec": {
   "display_name": "Python 3",
   "language": "python",
   "name": "python3"
  },
  "language_info": {
   "codemirror_mode": {
    "name": "ipython",
    "version": 3
   },
   "file_extension": ".py",
   "mimetype": "text/x-python",
   "name": "python",
   "nbconvert_exporter": "python",
   "pygments_lexer": "ipython3",
   "version": "3.7.6"
  }
 },
 "nbformat": 4,
 "nbformat_minor": 4
}
