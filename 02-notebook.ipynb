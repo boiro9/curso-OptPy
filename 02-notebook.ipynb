{
 "cells": [
  {
   "cell_type": "markdown",
   "metadata": {},
   "source": [
    "---\n",
    "title: Linking Interactive Notebooks\n",
    "subtitle: Evolve markdown documents and notebooks into structured data\n",
    "author:\n",
    "  - name: Rowan Cockett\n",
    "    affiliations: Executable Books; Curvenote\n",
    "    orcid: 0000-0002-7859-8394\n",
    "    email: rowan@curvenote.com\n",
    "license:\n",
    "  code: MIT\n",
    "date: 2023-01-23\n",
    "---\n",
    "\n",
    "[![Launch on Binder](https://mybinder.org/badge_logo.svg)](https://mybinder.org/v2/gh/boiro9/jupyterbook2_example/HEAD?labpath=02-notebook.ipynb)[![Open In Colab](https://colab.research.google.com/assets/colab-badge.svg)](https://colab.research.google.com/github/boiro9/jupyterbook2_example/blob/HEAD/02-notebook.ipynb) \n",
    "\n",
    "\n",
    "MyST allows you to directly include Jupyter Notebooks in your books, documents and websites.\n",
    "This Jupyter Notebook can be rendered directly using MyST.\n",
    "\n",
    "For example, let us import `altair` and create a demo of an interactive plot!"
   ]
  },
  {
   "cell_type": "code",
   "execution_count": 1,
   "metadata": {},
   "outputs": [
    {
     "ename": "ModuleNotFoundError",
     "evalue": "No module named 'altair'",
     "output_type": "error",
     "traceback": [
      "\u001b[0;31m---------------------------------------------------------------------------\u001b[0m",
      "\u001b[0;31mModuleNotFoundError\u001b[0m                       Traceback (most recent call last)",
      "Cell \u001b[0;32mIn[1], line 1\u001b[0m\n\u001b[0;32m----> 1\u001b[0m \u001b[38;5;28;01mimport\u001b[39;00m\u001b[38;5;250m \u001b[39m\u001b[38;5;21;01maltair\u001b[39;00m\u001b[38;5;250m \u001b[39m\u001b[38;5;28;01mas\u001b[39;00m\u001b[38;5;250m \u001b[39m\u001b[38;5;21;01malt\u001b[39;00m\n\u001b[1;32m      2\u001b[0m \u001b[38;5;28;01mfrom\u001b[39;00m\u001b[38;5;250m \u001b[39m\u001b[38;5;21;01mvega_datasets\u001b[39;00m\u001b[38;5;250m \u001b[39m\u001b[38;5;28;01mimport\u001b[39;00m data\n\u001b[1;32m      4\u001b[0m source \u001b[38;5;241m=\u001b[39m data\u001b[38;5;241m.\u001b[39mcars()\n",
      "\u001b[0;31mModuleNotFoundError\u001b[0m: No module named 'altair'"
     ]
    }
   ],
   "source": [
    "import altair as alt\n",
    "from vega_datasets import data\n",
    "\n",
    "source = data.cars()\n",
    "brush = alt.selection_interval(encodings=['x'])\n",
    "points = alt.Chart(source).mark_point().encode(\n",
    "    x='Horsepower:Q',\n",
    "    y='Miles_per_Gallon:Q',\n",
    "    size='Acceleration',\n",
    "    color=alt.condition(brush, 'Origin:N', alt.value('lightgray'))\n",
    ").add_selection(brush)\n",
    "\n",
    "bars = alt.Chart(source).mark_bar().encode(\n",
    "    y='Origin:N',\n",
    "    color='Origin:N',\n",
    "    x='count(Origin):Q'\n",
    ").transform_filter(brush)"
   ]
  },
  {
   "cell_type": "markdown",
   "metadata": {},
   "source": [
    "We can now plot the altair example, which is fully interactive, try dragging in the plot to select cars by their horsepower."
   ]
  },
  {
   "cell_type": "code",
   "execution_count": null,
   "metadata": {},
   "outputs": [],
   "source": [
    "#| label: horsepower\n",
    "\n",
    "# Lets see what happen\n",
    "points & bars"
   ]
  },
  {
   "cell_type": "markdown",
   "metadata": {
    "user_expressions": [
     {
      "expression": "1 + 1",
      "result": {
       "data": {
        "text/plain": "2"
       },
       "metadata": {},
       "status": "ok"
      }
     }
    ]
   },
   "source": [
    "{eval}`1 + 1`"
   ]
  },
  {
   "cell_type": "markdown",
   "metadata": {},
   "source": [
    "[](#horsepower)- This is a crossreference"
   ]
  },
  {
   "cell_type": "code",
   "execution_count": null,
   "metadata": {},
   "outputs": [],
   "source": [
    "# https://matplotlib.org/stable/gallery/statistics/time_series_histogram.html#sphx-glr-gallery-statistics-time-series-histogram-py\n",
    "from copy import copy\n",
    "\n",
    "import numpy as np\n",
    "import numpy.matlib\n",
    "import matplotlib.pyplot as plt\n",
    "from matplotlib.colors import LogNorm"
   ]
  },
  {
   "cell_type": "code",
   "execution_count": null,
   "metadata": {},
   "outputs": [],
   "source": [
    "# Make some data; a 1D random walk + small fraction of sine waves\n",
    "num_series = 1000\n",
    "num_points = 100\n",
    "SNR = 0.10  # Signal to Noise Ratio\n",
    "x = np.linspace(0, 4 * np.pi, num_points)\n",
    "# Generate unbiased Gaussian random walks\n",
    "Y = np.cumsum(np.random.randn(num_series, num_points), axis=-1)\n",
    "# Generate sinusoidal signals\n",
    "num_signal = int(round(SNR * num_series))\n",
    "phi = (np.pi / 8) * np.random.randn(num_signal, 1)  # small random offset\n",
    "Y[-num_signal:] = (\n",
    "    np.sqrt(np.arange(num_points))[None, :]  # random walk RMS scaling factor\n",
    "    * (np.sin(x[None, :] - phi)\n",
    "       + 0.05 * np.random.randn(num_signal, num_points))  # small random noise\n",
    ")\n",
    "\n",
    "\n",
    "# Now we will convert the multiple time series into a histogram. Not only will\n",
    "# the hidden signal be more visible, but it is also a much quicker procedure.\n",
    "# Linearly interpolate between the points in each time series\n",
    "num_fine = 800\n",
    "x_fine = np.linspace(x.min(), x.max(), num_fine)\n",
    "y_fine = np.empty((num_series, num_fine), dtype=float)\n",
    "for i in range(num_series):\n",
    "    y_fine[i, :] = np.interp(x_fine, x, Y[i, :])\n",
    "y_fine = y_fine.flatten()\n",
    "x_fine = np.matlib.repmat(x_fine, num_series, 1).flatten()"
   ]
  },
  {
   "cell_type": "markdown",
   "metadata": {},
   "source": [
    "Important!\n",
    "This data is simulated, and may just be random noise! 🔊"
   ]
  },
  {
   "cell_type": "code",
   "execution_count": null,
   "metadata": {},
   "outputs": [],
   "source": [
    "#| label: plasma\n",
    "fig, axes = plt.subplots(figsize=(8, 4), constrained_layout=True)\n",
    "cmap = copy(plt.cm.plasma)\n",
    "cmap.set_bad(cmap(0))\n",
    "h, xedges, yedges = np.histogram2d(x_fine, y_fine, bins=[400, 100])\n",
    "pcm = axes.pcolormesh(xedges, yedges, h.T, cmap=cmap,\n",
    "                         norm=LogNorm(vmax=1.5e2), rasterized=True)\n",
    "fig.colorbar(pcm, ax=axes, label=\"# points\", pad=0)\n",
    "axes.set_title(\"2d histogram and log color scale\");"
   ]
  },
  {
   "cell_type": "markdown",
   "metadata": {},
   "source": [
    "Here we reference [](#plasma).\n",
    "\n",
    "And below we embed it:\n",
    "\n",
    "![](#horsepower)"
   ]
  },
  {
   "cell_type": "markdown",
   "metadata": {},
   "source": [
    "cacola\n",
    ":::{figure} #horsepower\n",
    ":label: fig-my-cell\n",
    ":::"
   ]
  },
  {
   "cell_type": "markdown",
   "metadata": {},
   "source": [
    ":::{tip} Lets's start with Callouts\n",
    ":class: dropdown\n",
    "\n",
    "This is a callout amonition\n",
    ":::"
   ]
  },
  {
   "cell_type": "code",
   "execution_count": 2,
   "metadata": {},
   "outputs": [],
   "source": [
    "import numpy as np\n",
    "array = np.arange(4)"
   ]
  },
  {
   "cell_type": "markdown",
   "metadata": {
    "user_expressions": [
     {
      "expression": "array",
      "result": {
       "data": {
        "text/plain": "array([0, 1, 2, 3])"
       },
       "metadata": {},
       "status": "ok"
      }
     }
    ]
   },
   "source": [
    ":::{exercise}\n",
    ":label: inline-arrays\n",
    "\n",
    "Let's consider the following array: {eval}`array`.\n",
    "\n",
    "SUM\n",
    ": We compute the total using `array.sum()`, which is ???\n",
    "\n",
    "MAX\n",
    ": We compute the maximum value using `array.max()`, which is ???\n",
    "\n",
    ":::\n",
    "\n",
    "🛠 In [](#inline-arrays) replace each `???` with an `{eval}` role for the correct expression\n",
    "\n",
    ":::{solution} inline-arrays\n",
    ":class: dropdown\n",
    "This is done through using MyST syntax: `` {eval}`array.sum()` `` and `` {eval}`array.max()` ``, respectively.\n",
    ":::"
   ]
  },
  {
   "cell_type": "markdown",
   "metadata": {
    "user_expressions": [
     {
      "expression": "1 + 1",
      "result": {
       "data": {
        "text/plain": "2"
       },
       "metadata": {},
       "status": "ok"
      }
     }
    ]
   },
   "source": [
    "This is done through the `` {eval}`1 + 1` `` role, which results in {eval}`1 + 1`. The extension can also access variables in the kernel."
   ]
  }
 ],
 "metadata": {
  "kernelspec": {
   "display_name": "Python 3 (ipykernel)",
   "language": "python",
   "name": "python3"
  },
  "language_info": {
   "codemirror_mode": {
    "name": "ipython",
    "version": 3
   },
   "file_extension": ".py",
   "mimetype": "text/x-python",
   "name": "python",
   "nbconvert_exporter": "python",
   "pygments_lexer": "ipython3",
   "version": "3.13.9"
  }
 },
 "nbformat": 4,
 "nbformat_minor": 4
}
