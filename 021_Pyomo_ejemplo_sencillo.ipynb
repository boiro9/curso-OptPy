{
 "cells": [
  {
   "cell_type": "markdown",
   "metadata": {},
   "source": [
    "---\n",
    "title: Nuestro primer modelo en Pyomo\n",
    "subtitle: Un problema de planificación sencillo\n",
    "---\n",
    "\n",
    "[![Launch on Binder](https://mybinder.org/badge_logo.svg)](https://mybinder.org/v2/gh/boiro9/jupyterbook2_example/HEAD?labpath=021_Pyomo_ejemplo_sencillo.ipynb)[![Open In Colab](https://colab.research.google.com/assets/colab-badge.svg)](https://colab.research.google.com/github/boiro9/jupyterbook2_example/blob/HEAD/021_Pyomo_ejemplo_sencillo.ipynb)"
   ]
  },
  {
   "cell_type": "markdown",
   "metadata": {},
   "source": [
    "## Problema de planificación\n",
    "\n",
    "Una empresa produce dos versiones de un producto. Cada versión se fabrica a partir de la misma materia prima, que cuesta 10 por gramo, y cada versión requiere dos tipos diferentes de mano de obra especializada para finalizarla. \n",
    "\n",
    "**U** es la versión más cara del producto. Se vende a 270 por unidad y requiere 10 gramos de materia prima, 1 hora de mano de obra tipo **A** y 2 horas de mano de obra tipo **B**. Debido a su mayor precio, la demanda de U está limitada a **40 unidades por semana**.\n",
    "\n",
    "**V** es la versión más económica, con demanda ilimitada. Se vende a 210 por unidad y requiere 9 gramos de materia prima, 1 hora de mano de obra tipo **A** y 1 hora de mano de obra tipo **B**.\n",
    "\n",
    "Esta información se resume en la siguiente tabla:\n",
    "\n",
    "| Versión | Materia prima <br> requerida | Mano de obra A <br> requerida | Mano de obra B <br> requerida | Demanda <br> de mercado | Precio |\n",
    "| :-: | :-: | :-: | :-: | :-: | :-: | \n",
    "| U | 10 g | 1 h | 2 h | $\\leq$ 40 unidades | 270 |\n",
    "| V |  9 g | 1 h | 1 h | ilimitada | 210 |\n",
    "\n",
    "\n",
    "La producción semanal de la empresa está limitada por la disponibilidad de mano de obra y el inventario de materia prima. La materia prima tiene una **vida útil de una semana** y debe ser pedida por adelantado. Cualquier materia prima sobrante al final de la semana se descarta.\n",
    "\n",
    "La siguiente tabla detalla el coste y la disponibilidad de la materia prima y la mano de obra:\n",
    "\n",
    "| Recurso | Cantidad <br> disponible | Coste |\n",
    "| :-: | :-: | :-: |\n",
    "| Materia prima | ilimitada | 10 / g |\n",
    "| Mano de obra A | 80 horas/semana | 50 / h |\n",
    "| Mano de obra B | 100 horas/semana | 40 / h |\n",
    "\n",
    "La empresa desea **maximizar sus beneficios brutos**.\n",
    "1. ¿Cuánta materia prima debería pedirse por adelantado cada semana?  \n",
    "2. ¿Cuántas unidades de **U** y **V** debería producir la empresa cada semana?\n"
   ]
  },
  {
   "cell_type": "markdown",
   "metadata": {},
   "source": [
    "Este problema puede formularse como un problema de programación matemática. Para ello debemos de definir:\n",
    "- Las variables de decisión del problema.\n",
    "- La función objetivo.\n",
    "- El conjunto de restricciones.\n",
    "\n",
    "En este caso, podemos definir las siguientes variables de decisión:\n",
    "\n",
    "<div align=\"center\">\n",
    "\n",
    "| Variable de decisión | Descripción | límite inferior | límite superior |\n",
    "| :-: | :--- | :-: | :-: |\n",
    "| $x_M$ | cantidad de materia prima utilizada | 0 | - |\n",
    "| $x_A$ | cantidad de mano de obra A utilizada | 0 | 80 |\n",
    "| $x_B$ | cantidad de mano de obra B utilizada | 0 | 100 |\n",
    "| $y_U$ | número de unidades de $U$ a producir | 0 | 40 |\n",
    "| $y_V$ | número de unidades de $V$ a producir | 0 | - |\n",
    "\n",
    "</div>\n",
    "\n",
    "En cuanto a la **función objetivo**, en este caso queremos maximizar los beneficios obtenidos, es decir, la diferencia entre los beneficios y los costes. Si definimos las siguientes **expresiones** (lineales):\n",
    "$$\n",
    "\\begin{aligned}\n",
    "    \\text{beneficios} & = 270 y_U + 210 y_V \\\\\n",
    "    \\text{costes}     & = 10 x_M + 50 x_A + 40 x_B  \\\\\n",
    "\\end{aligned}\n",
    "$$\n",
    "la función objetivo del problema sería:\n",
    "$$\n",
    "\\text{Maximizar} \\,\\, \\text{beneficios}-\\text{costes}\n",
    "$$\n",
    "Por último, definamos las restricciones asociadas al problema. En este caso, para cada recurso tenemos una restricción que limita su capacidad de producción:\n",
    "$$\n",
    "\\begin{aligned}\n",
    "    10 y_U + 9 y_V  & \\leq x_M & & \\text{(materia prima)}\\\\\n",
    "    1 y_U + 1 y_V & \\leq x_A & &\\text{(mano de obra A)} \\\\\n",
    "    2 y_U + 1 y_V & \\leq x_B & & \\text{(mano de obra B)}\\\\\n",
    "\\end{aligned}\n",
    "$$\n",
    "Resumiendo, la formulación matemática del problema quedaría como sigue:\n",
    "\n",
    "$$\n",
    "\\begin{align}\n",
    "\\max \\quad & 270 y_U + 210 y_V - 10 x_M - 50 x_A - 40 x_B \\\\\n",
    "\\text{s.a.} \\quad & 10 y_U + 9 y_V  \\leq x_M \\nonumber \\\\\n",
    " & 1 y_U + 1 y_V \\leq x_A \\nonumber \\\\\n",
    " & 2 y_U + 1 y_V \\leq x_B \\nonumber \\\\\n",
    " & 0 \\leq x_M \\nonumber \\\\\n",
    " & 0 \\leq x_A \\leq 80 \\nonumber \\\\\n",
    " & 0 \\leq x_B \\leq 100 \\nonumber \\\\\n",
    " & 0 \\leq y_U \\leq 40 \\nonumber \\\\\n",
    " & 0 \\leq y_V.\\nonumber \n",
    "\\end{align}\n",
    "$$\n",
    "\n"
   ]
  },
  {
   "cell_type": "markdown",
   "metadata": {},
   "source": [
    "## Resolución del problema con Pyomo\n",
    "\n",
    "En esta sección resolveremos el sencillo problema de producción introducido previamente con Python. Los principales elementos de Pyomo que necesitaremos son los siguientes:\n",
    "\n",
    "* [Variables](https://pyomo.readthedocs.io/en/6.8.0/pyomo_modeling_components/Variables.html)\n",
    "* [Expressions](https://pyomo.readthedocs.io/en/6.8.0/pyomo_modeling_components/Expressions.html)\n",
    "* [Objectives](https://pyomo.readthedocs.io/en/6.8.0/pyomo_modeling_components/Objectives.html)\n",
    "* [Constraints](https://pyomo.readthedocs.io/en/6.8.0/pyomo_modeling_components/Constraints.html)\n",
    "* [SolverFactory](https://pyomo.readthedocs.io/en/6.8.0/solving_pyomo_models.html)"
   ]
  },
  {
   "cell_type": "markdown",
   "metadata": {},
   "source": [
    "### 1️⃣ Importamos la librería y creamos el objeto modelo\n",
    "\n",
    "En primer lugar tenemos tenemos que importar la librería de Pyomo en Python, para tener acceso a todas sus componentes:"
   ]
  },
  {
   "cell_type": "code",
   "execution_count": 1,
   "metadata": {},
   "outputs": [],
   "source": [
    "import pyomo.environ as pyo"
   ]
  },
  {
   "cell_type": "markdown",
   "metadata": {},
   "source": [
    "A continuación creamos un modelo de Pyomo especificando un nombre para el mismo. En este caso crearemos un ``ConcreteModel``, que se usa para crear el objeto modelo cuando los datos del problema ya están disponibes en el momento de contrucción del problema.\n",
    "```{note} Nota\n",
    "``ConcreteModel`` es la opción recomendada por los desarrolladores de Pyomo. La otra opción sería crear un ``AbstractModel``, lo cual explicaremos más adelante.\n",
    "```\n"
   ]
  },
  {
   "cell_type": "code",
   "execution_count": 2,
   "metadata": {},
   "outputs": [],
   "source": [
    "# Creamos el modelo especificando un nombre (opcional)\n",
    "model = pyo.ConcreteModel(\"Problema de produccion 1\")"
   ]
  },
  {
   "cell_type": "markdown",
   "metadata": {},
   "source": [
    "El método ``.display()`` permite ver el contenido actual que está dentro del modelo de Pyomo. Este método es muy útil cuando se formulan nuevos modelos, para comprobar que el modelo se crea correctamente."
   ]
  },
  {
   "cell_type": "code",
   "execution_count": 3,
   "metadata": {},
   "outputs": [
    {
     "name": "stdout",
     "output_type": "stream",
     "text": [
      "Model Problema de produccion 1\n",
      "\n",
      "  Variables:\n",
      "    None\n",
      "\n",
      "  Objectives:\n",
      "    None\n",
      "\n",
      "  Constraints:\n",
      "    None\n"
     ]
    }
   ],
   "source": [
    "# Vemos en contenido del modelo\n",
    "model.display()"
   ]
  },
  {
   "cell_type": "markdown",
   "metadata": {},
   "source": [
    "### 2️⃣ Variables de decisión\n",
    "\n",
    "Ahora vamos a definir las **variables de decisión** del modelo, las cuales se crean con ``pyo.Var()``. A la hora de definir las variables podemos especificar los siguientes argumentos:\n",
    "- ``domain``: especifica el dominio de la variable. Por defecto, el dominino es $\\mathbb{R}$. Otros dominios que se pueden especificar: `pyo.NonNegativeReals`, `pyo.NonNegativeIntegers`, and `pyo.Binary`.\n",
    "- `bounds`: argumento opcional para especificar las cotas inferior y superior de la variable. `None` puede utilizarse como valor cuando alguna de las cotas es desconocida. Por ejemplo, si se especifica la cota como `(0, None)` es equivalente a poner como dominio `pyo.NonNegativeReals`.\n"
   ]
  },
  {
   "cell_type": "code",
   "execution_count": 4,
   "metadata": {},
   "outputs": [
    {
     "name": "stdout",
     "output_type": "stream",
     "text": [
      "Model Problema de produccion 1\n",
      "\n",
      "  Variables:\n",
      "    x_M : Size=1, Index=None\n",
      "        Key  : Lower : Value : Upper : Fixed : Stale : Domain\n",
      "        None :     0 :  None :  None : False :  True :  Reals\n",
      "    x_A : Size=1, Index=None\n",
      "        Key  : Lower : Value : Upper : Fixed : Stale : Domain\n",
      "        None :     0 :  None :    80 : False :  True :  Reals\n",
      "    x_B : Size=1, Index=None\n",
      "        Key  : Lower : Value : Upper : Fixed : Stale : Domain\n",
      "        None :     0 :  None :   100 : False :  True :  Reals\n",
      "    y_U : Size=1, Index=None\n",
      "        Key  : Lower : Value : Upper : Fixed : Stale : Domain\n",
      "        None :     0 :  None :    40 : False :  True :  Reals\n",
      "    y_V : Size=1, Index=None\n",
      "        Key  : Lower : Value : Upper : Fixed : Stale : Domain\n",
      "        None :     0 :  None :  None : False :  True :  Reals\n",
      "\n",
      "  Objectives:\n",
      "    None\n",
      "\n",
      "  Constraints:\n",
      "    None\n"
     ]
    }
   ],
   "source": [
    "# Creamos las variables de decisión\n",
    "model.x_M = pyo.Var(bounds=(0, None))\n",
    "model.x_A = pyo.Var(bounds=(0, 80))\n",
    "model.x_B = pyo.Var(bounds=(0, 100))\n",
    "\n",
    "model.y_U = pyo.Var(bounds=(0, 40))\n",
    "model.y_V = pyo.Var(bounds=(0, None))\n",
    "\n",
    "# Actualizamos el modelo\n",
    "model.display()"
   ]
  },
  {
   "cell_type": "markdown",
   "metadata": {},
   "source": [
    "### 3️⃣ Función objetivo\n",
    "\n",
    "Definimos ahora la **función objetivo**, para lo cual emplearemos en concepto de expresión de Pyomo, que no son más que fórmulas que utilizan variables de decisión. Empezamos creando expresiones para calcular los beneficios y los costes."
   ]
  },
  {
   "cell_type": "code",
   "execution_count": 5,
   "metadata": {},
   "outputs": [
    {
     "name": "stdout",
     "output_type": "stream",
     "text": [
      "270*y_U + 210*y_V\n",
      "10*x_M + 50*x_A + 40*x_B\n"
     ]
    }
   ],
   "source": [
    "# Creamos las expresiones\n",
    "model.ingresos = 270 * model.y_U + 210 * model.y_V\n",
    "model.costes = 10 * model.x_M + 50 * model.x_A + 40 * model.x_B\n",
    "\n",
    "# expressions can be printed\n",
    "print(model.ingresos)\n",
    "print(model.costes)"
   ]
  },
  {
   "cell_type": "markdown",
   "metadata": {},
   "source": [
    "Ahora ya podemos definir la función objetivo empleando el método `pyo.Objective`, donde la expresión a optimizar se asigna con el argumento `expr` y el sentido de la optimización `sense`."
   ]
  },
  {
   "cell_type": "markdown",
   "metadata": {},
   "source": [
    "```python\n",
    "model.beneficios = pyo.Objective(expr=model.ingresos - model.costes, sense=pyo.maximize)\n",
    "```"
   ]
  },
  {
   "cell_type": "markdown",
   "metadata": {},
   "source": [
    "Lo anterior puede ser escrito de manera equivalente empleando decoradores de Python:"
   ]
  },
  {
   "cell_type": "code",
   "execution_count": 6,
   "metadata": {},
   "outputs": [],
   "source": [
    "@model.Objective(sense=pyo.maximize)\n",
    "def beneficio(m):\n",
    "    return m.ingresos - m.costes"
   ]
  },
  {
   "cell_type": "markdown",
   "metadata": {},
   "source": [
    "```{admonition} Decoradores en Pyomo\n",
    ":class: info\n",
    "\n",
    "Los **decoradores en Pyomo** permiten mejorar la legibilidad y simplificar la creación de modelos complejos. Sus principales características son:\n",
    "- Permiten insertar funciones en un modelo de Pyomo para que actúen como: **expresiones**, **objetivos** o **restricciones**.  \n",
    "- Mejoran la **legibilidad** y la **mantenibilidad** de modelos complejos.\n",
    "- Simplifican la **sintaxis** para crear otros objetos de Pyomo\n",
    "```"
   ]
  },
  {
   "cell_type": "markdown",
   "metadata": {},
   "source": [
    "### 4️⃣ Restricciones\n",
    "\n",
    "Ahora vamos a definir las **restricciones**. En Pyomo una restricción consiste en dos expresiones separadas por una condición lógica que las relaciona. La condición lógica puede ser de igualdad (`==`), de menor que (`<=`) o de mayor que (`>=`). En Pyomo se definen las restricciones empleando el método `pyo.Constraint()` pasando la restricción con el argumento `expr`. Para nuestro problema tenemos:"
   ]
  },
  {
   "cell_type": "markdown",
   "metadata": {},
   "source": [
    "```python\n",
    "model.materia_prima = pyo.Constraint(expr = 10 * model.y_U + 9 * model.y_V <= model.x_M)\n",
    "model.mano_A = pyo.Constraint(expr = 1 * model.y_U + 1 * model.y_V <= model.x_A)\n",
    "model.mano_B = pyo.Constraint(expr = 2 * model.y_U + 1 * model.y_V <= model.x_B)\n",
    "```"
   ]
  },
  {
   "cell_type": "markdown",
   "metadata": {},
   "source": [
    "Alternativamente, también se pueden definir las restricciones empleando el decorador `@model.Constraint()`."
   ]
  },
  {
   "cell_type": "code",
   "execution_count": 7,
   "metadata": {},
   "outputs": [
    {
     "name": "stdout",
     "output_type": "stream",
     "text": [
      "5 Var Declarations\n",
      "    x_A : Size=1, Index=None\n",
      "        Key  : Lower : Value : Upper : Fixed : Stale : Domain\n",
      "        None :     0 :  None :    80 : False :  True :  Reals\n",
      "    x_B : Size=1, Index=None\n",
      "        Key  : Lower : Value : Upper : Fixed : Stale : Domain\n",
      "        None :     0 :  None :   100 : False :  True :  Reals\n",
      "    x_M : Size=1, Index=None\n",
      "        Key  : Lower : Value : Upper : Fixed : Stale : Domain\n",
      "        None :     0 :  None :  None : False :  True :  Reals\n",
      "    y_U : Size=1, Index=None\n",
      "        Key  : Lower : Value : Upper : Fixed : Stale : Domain\n",
      "        None :     0 :  None :    40 : False :  True :  Reals\n",
      "    y_V : Size=1, Index=None\n",
      "        Key  : Lower : Value : Upper : Fixed : Stale : Domain\n",
      "        None :     0 :  None :  None : False :  True :  Reals\n",
      "\n",
      "1 Objective Declarations\n",
      "    beneficio : Size=1, Index=None, Active=True\n",
      "        Key  : Active : Sense    : Expression\n",
      "        None :   True : maximize : 270*y_U + 210*y_V - (10*x_M + 50*x_A + 40*x_B)\n",
      "\n",
      "3 Constraint Declarations\n",
      "    mano_A : Size=1, Index=None, Active=True\n",
      "        Key  : Lower : Body            : Upper : Active\n",
      "        None :  -Inf : y_U + y_V - x_A :   0.0 :   True\n",
      "    mano_B : Size=1, Index=None, Active=True\n",
      "        Key  : Lower : Body              : Upper : Active\n",
      "        None :  -Inf : 2*y_U + y_V - x_B :   0.0 :   True\n",
      "    materia_prima : Size=1, Index=None, Active=True\n",
      "        Key  : Lower : Body                 : Upper : Active\n",
      "        None :  -Inf : 10*y_U + 9*y_V - x_M :   0.0 :   True\n",
      "\n",
      "9 Declarations: x_M x_A x_B y_U y_V beneficio materia_prima mano_A mano_B\n"
     ]
    }
   ],
   "source": [
    "@model.Constraint()\n",
    "def materia_prima(m):\n",
    "    return 10 * m.y_U + 9 * m.y_V <= m.x_M\n",
    "\n",
    "\n",
    "@model.Constraint()\n",
    "def mano_A(m):\n",
    "    return 1 * m.y_U + 1 * m.y_V <= m.x_A\n",
    "\n",
    "\n",
    "@model.Constraint()\n",
    "def mano_B(m):\n",
    "    return 2 * m.y_U + 1 * m.y_V <= m.x_B\n",
    "\n",
    "# Imprimimos el modelo\n",
    "model.pprint()"
   ]
  },
  {
   "cell_type": "markdown",
   "metadata": {},
   "source": [
    "### 5️⃣ Resolvemos el modelo con un solver\n",
    "\n",
    "Una vez especificado completamente el modelo, es siguiente paso es calcular una solución. Para ello es necesario llamar un solver que lleve a cabo su resolución. En Pyomo, primero se debe crear el objeto solver con `SolverFactory`, donde se configuran todos los aspectos del mismo, y a continuación aplicárselo al modelo para que lo resuelva. El argumento opcional `tee=True` hace que el solver imprima por pantalla sus cálculo, lo cual es útil en fases de desarrollo. A continuación resolvemos el problema empleando el solver HIGHS."
   ]
  },
  {
   "cell_type": "code",
   "execution_count": 8,
   "metadata": {},
   "outputs": [
    {
     "name": "stdout",
     "output_type": "stream",
     "text": [
      "Running HiGHS 1.11.0 (git hash: 364c83a): Copyright (c) 2025 HiGHS under MIT licence terms\n",
      "LP   has 3 rows; 5 cols; 9 nonzeros\n",
      "Coefficient ranges:\n",
      "  Matrix [1e+00, 1e+01]\n",
      "  Cost   [1e+01, 3e+02]\n",
      "  Bound  [4e+01, 1e+02]\n",
      "  RHS    [0e+00, 0e+00]\n",
      "Presolving model\n",
      "2 rows, 4 cols, 6 nonzeros  0s\n",
      "Dependent equations search running on 2 equations with time limit of 1000.00s\n",
      "Dependent equations search removed 0 rows and 0 nonzeros in 0.00s (limit = 1000.00s)\n",
      "2 rows, 4 cols, 6 nonzeros  0s\n",
      "Presolve : Reductions: rows 2(-1); columns 4(-1); elements 6(-3)\n",
      "Solving the presolved LP\n",
      "Using EKK dual simplex solver - serial\n",
      "  Iteration        Objective     Infeasibilities num(sum)\n",
      "          0    -2.0999953995e+02 Ph1: 2(4); Du: 3(210) 0s\n",
      "          3    -2.6000000000e+03 Pr: 0(0) 0s\n",
      "Solving the original LP from the solution after postsolve\n",
      "Model status        : Optimal\n",
      "Simplex   iterations: 3\n",
      "Objective value     :  2.6000000000e+03\n",
      "P-D objective error :  0.0000000000e+00\n",
      "HiGHS run time      :          0.00\n"
     ]
    }
   ],
   "source": [
    "solver = 'appsi_highs'\n",
    "SOLVER = pyo.SolverFactory(solver)\n",
    "results = SOLVER.solve(model, tee=True)"
   ]
  },
  {
   "cell_type": "markdown",
   "metadata": {},
   "source": [
    "````{warning} \n",
    "El solver que querramos usar tiene que estar previamente instalado. Por ejempo, en este caso que estamos usando el solver **HIGHS**, podemos instalarlo ejecutando:  \n",
    "\n",
    "```cmd\n",
    "pip install highspy \n",
    "```\n",
    "\n",
    "Una opción útil para acceder a los solvers es emplear los ejecutables que ya tiene preparados **AMPL** para poder utilizarlos con Python. En el apartado `Using from Pyomo` del siguiente [link](https://dev.ampl.com/ampl/python/modules.html), aparece explicado como instalarlos y usarlos.\n",
    "\n",
    "Para instalarlos:\n",
    "\n",
    "```cmd\n",
    "pip install amplpy pyomo -q\n",
    "python -m amplpy.modules install coin highs scip gcg -q  # Install HiGHS, CBC, Couenne, Bonmin, Ipopt, SCIP, and GCG\n",
    "```\n",
    "\n",
    "Ejemplo de como usarlo en Pyomo:\n",
    "\n",
    "```python\n",
    "from amplpy import modules\n",
    "import pyomo.environ as pyo\n",
    "solver_name = \"highs\"  # \"highs\", \"cbc\",  \"couenne\", \"bonmin\", \"ipopt\", \"scip\", or \"gcg\".\n",
    "solver = pyo.SolverFactory(solver_name+\"nl\", executable=modules.find(solver_name), solve_io=\"nl\")\n",
    "\n",
    "model = pyo.ConcreteModel()\n",
    "model.x = pyo.Var([1,2], domain=pyo.NonNegativeReals)\n",
    "model.OBJ = pyo.Objective(expr = 2*model.x[1] + 3*model.x[2])\n",
    "model.Constraint1 = pyo.Constraint(expr = 3*model.x[1] + 4*model.x[2] >= 1)\n",
    "solver.solve(model, tee=True)\n",
    "```\n",
    "\n",
    "````"
   ]
  },
  {
   "cell_type": "markdown",
   "metadata": {},
   "source": [
    "### 6️⃣ Reportamos la solución\n",
    "\n",
    "Por último, tendríamos que explorar la **solución obtenida**. Para ellos podemos hacer uso del método `pprint()` o `display`, que se puede aplicar tanto al modelo completo como a alguna componente individual del mismo. Por ejemplo, en el campo `value` de las variables podemos ver el valor \"óptimo\" que toman las variables de acuerdo a la solución que ha encontrado el solver."
   ]
  },
  {
   "cell_type": "code",
   "execution_count": 9,
   "metadata": {
    "scrolled": true
   },
   "outputs": [
    {
     "name": "stdout",
     "output_type": "stream",
     "text": [
      "5 Var Declarations\n",
      "    x_A : Size=1, Index=None\n",
      "        Key  : Lower : Value : Upper : Fixed : Stale : Domain\n",
      "        None :     0 :  80.0 :    80 : False : False :  Reals\n",
      "    x_B : Size=1, Index=None\n",
      "        Key  : Lower : Value : Upper : Fixed : Stale : Domain\n",
      "        None :     0 : 100.0 :   100 : False : False :  Reals\n",
      "    x_M : Size=1, Index=None\n",
      "        Key  : Lower : Value : Upper : Fixed : Stale : Domain\n",
      "        None :     0 : 740.0 :  None : False : False :  Reals\n",
      "    y_U : Size=1, Index=None\n",
      "        Key  : Lower : Value : Upper : Fixed : Stale : Domain\n",
      "        None :     0 :  20.0 :    40 : False : False :  Reals\n",
      "    y_V : Size=1, Index=None\n",
      "        Key  : Lower : Value : Upper : Fixed : Stale : Domain\n",
      "        None :     0 :  60.0 :  None : False : False :  Reals\n",
      "\n",
      "1 Objective Declarations\n",
      "    beneficio : Size=1, Index=None, Active=True\n",
      "        Key  : Active : Sense    : Expression\n",
      "        None :   True : maximize : 270*y_U + 210*y_V - (10*x_M + 50*x_A + 40*x_B)\n",
      "\n",
      "3 Constraint Declarations\n",
      "    mano_A : Size=1, Index=None, Active=True\n",
      "        Key  : Lower : Body            : Upper : Active\n",
      "        None :  -Inf : y_U + y_V - x_A :   0.0 :   True\n",
      "    mano_B : Size=1, Index=None, Active=True\n",
      "        Key  : Lower : Body              : Upper : Active\n",
      "        None :  -Inf : 2*y_U + y_V - x_B :   0.0 :   True\n",
      "    materia_prima : Size=1, Index=None, Active=True\n",
      "        Key  : Lower : Body                 : Upper : Active\n",
      "        None :  -Inf : 10*y_U + 9*y_V - x_M :   0.0 :   True\n",
      "\n",
      "9 Declarations: x_M x_A x_B y_U y_V beneficio materia_prima mano_A mano_B\n"
     ]
    }
   ],
   "source": [
    "# Mostramos el modelo completo:\n",
    "model.pprint()"
   ]
  },
  {
   "cell_type": "code",
   "execution_count": 10,
   "metadata": {},
   "outputs": [
    {
     "name": "stdout",
     "output_type": "stream",
     "text": [
      "x_A : Size=1, Index=None\n",
      "    Key  : Lower : Value : Upper : Fixed : Stale : Domain\n",
      "    None :     0 :  80.0 :    80 : False : False :  Reals\n"
     ]
    }
   ],
   "source": [
    "# Mostramos un componente específico del modelo:\n",
    "model.x_A.pprint()"
   ]
  },
  {
   "cell_type": "code",
   "execution_count": 11,
   "metadata": {},
   "outputs": [
    {
     "name": "stdout",
     "output_type": "stream",
     "text": [
      "beneficio : Size=1, Index=None, Active=True\n",
      "    Key  : Active : Value\n",
      "    None :   True : 2600.0\n"
     ]
    }
   ],
   "source": [
    "# También se puede emplear el método display\n",
    "model.beneficio.display()"
   ]
  },
  {
   "cell_type": "markdown",
   "metadata": {},
   "source": [
    "Una vez se ha obtenido la solución de un modelo de Pyomo, se puede acceder a los valores de la función objetivo, las expresiones y las variables de decisión con `pyo.value()`."
   ]
  },
  {
   "cell_type": "code",
   "execution_count": 12,
   "metadata": {},
   "outputs": [
    {
     "name": "stdout",
     "output_type": "stream",
     "text": [
      " Profit =   2600.00\n",
      "Revenue =  18000.00\n",
      "   Cost =  15400.00\n"
     ]
    }
   ],
   "source": [
    "print(f\" Profit = {pyo.value(model.beneficio): 9.2f}\")\n",
    "print(f\"Revenue = {pyo.value(model.ingresos): 9.2f}\")\n",
    "print(f\"   Cost = {pyo.value(model.costes): 9.2f}\")"
   ]
  },
  {
   "cell_type": "markdown",
   "metadata": {},
   "source": [
    "Al valor de las variables también se puede acceder de manera más directa haciendo:"
   ]
  },
  {
   "cell_type": "code",
   "execution_count": 13,
   "metadata": {},
   "outputs": [
    {
     "name": "stdout",
     "output_type": "stream",
     "text": [
      "x_A = 80.0\n",
      "x_B = 100.0\n",
      "x_M = 740.0\n"
     ]
    }
   ],
   "source": [
    "print(\"x_A =\", model.x_A())\n",
    "print(\"x_B =\", model.x_B())\n",
    "print(\"x_M =\", model.x_M())"
   ]
  },
  {
   "cell_type": "markdown",
   "metadata": {},
   "source": [
    "# 🧠 Ejercicios propuestos\n",
    "\n",
    ":::{exercise}\n",
    ":label: ex:pyomo1\n",
    "\n",
    "Resuelve el siguiente problema de optimización empleando Pyomo:\n",
    "\n",
    "\\begin{align*}\n",
    "\\textrm{Maximizar}\\ \\ \\     &  3x+y\\\\\n",
    "\\textrm{sujeto a}\\ \\ \\      & x+y\\leq 2\\\\\n",
    "                            & 0\\leq x \\leq 1\\\\\n",
    "                 \\ \\ \\       & 0\\leq y \\leq 2\\\\                     \n",
    "\\end{align*}\n",
    "\n",
    "````{solution} ex:pyomo1\n",
    ":label: sol:pyomo1\n",
    ":class: dropdown\n",
    "\n",
    "```{code-block} python\n",
    "import pyomo.environ as pyo\n",
    "\n",
    "# Crear el modelo\n",
    "model = pyo.ConcreteModel()\n",
    "\n",
    "# Variables\n",
    "model.x = pyo.Var(bounds=(0, 1))   # 0 <= x <= 1\n",
    "model.y = pyo.Var(bounds=(0, 2))   # 0 <= y <= 2\n",
    "\n",
    "# Función objetivo: Maximizar 3x + y\n",
    "model.obj = pyo.Objective(expr=3*model.x + model.y, sense=pyo.maximize)\n",
    "\n",
    "# Restricciones\n",
    "model.restriccion1 = pyo.Constraint(expr=model.x + model.y <= 2)\n",
    "\n",
    "# Resolver\n",
    "solver = 'appsi_highs'\n",
    "SOLVER = pyo.SolverFactory(solver)\n",
    "results = SOLVER.solve(model, tee=True)\n",
    "\n",
    "# Mostrar resultados\n",
    "print(f\"x = {pyo.value(model.x)}\")\n",
    "print(f\"y = {pyo.value(model.y)}\")\n",
    "print(f\"Objetivo máximo = {pyo.value(model.obj)}\")\n",
    "    \n",
    "```\n",
    "\n",
    "````\n",
    "\n",
    ":::\n"
   ]
  },
  {
   "cell_type": "code",
   "execution_count": 14,
   "metadata": {},
   "outputs": [],
   "source": [
    "# Tu código aquí"
   ]
  },
  {
   "cell_type": "markdown",
   "metadata": {},
   "source": [
    ":::{exercise}\n",
    ":label: ex:pyomo2\n",
    "\n",
    "Un deportista se encuentra preparando una maratón, para lo cual dispone de un preparador físico que le ha planificado 3 posibles ejercicios físicos de trabajo.  \n",
    " 1. El deportista debe decidir qué ejercicios llevar a cabo, maximizando el rendimiento físico que le aportan.\n",
    "    - La actividad 1 y 2 le aportan un 1% de mejora.\n",
    "    - La actividad 3 un 2%.\n",
    " 2. El deportista dispone de 4 horas para llevar a cabo el entrenamiento:\n",
    "    - La actividad 1 requiere 1 hora.\n",
    "    - La actividad 2 requiere 2 horas.\n",
    "    - La actividad 3 requiere 3 horas.\n",
    " 3. El preparador físico le ha obligado a que realice la actividad 1 o 2 (o ambas).\n",
    "\n",
    "\\begin{align*}\n",
    "\\textrm{Maximizar}\\ \\ \\     &  x+y+2z\\\\\n",
    "\\textrm{sujeto a}\\ \\ \\      & x+2y+3z\\leq 4\\\\\n",
    "                            & x+y\\geq 1\\\\\n",
    "                 \\ \\ \\      & x,y,z\\in \\{0,1\\}\\\\                     \n",
    "\\end{align*}\n",
    "\n",
    "Resuelve el problema de optimización empleando Pyomo.\n",
    "\n",
    "````{solution} ex:pyomo2\n",
    ":label: sol:pyomo2\n",
    ":class: dropdown\n",
    "\n",
    "```{code-block} python\n",
    "import pyomo.environ as pyo\n",
    "\n",
    "# Crear el modelo\n",
    "model = pyo.ConcreteModel()\n",
    "\n",
    "# Variables binarias\n",
    "model.x = pyo.Var(domain=pyo.Binary)\n",
    "model.y = pyo.Var(domain=pyo.Binary)\n",
    "model.z = pyo.Var(domain=pyo.Binary)\n",
    "\n",
    "# Función objetivo: Maximizar x + y + 2z\n",
    "model.obj = pyo.Objective(expr=model.x + model.y + 2*model.z, sense=pyo.maximize)\n",
    "\n",
    "# Restricciones\n",
    "model.restriccion1 = pyo.Constraint(expr=model.x + 2*model.y + 3*model.z <= 4)\n",
    "model.restriccion2 = pyo.Constraint(expr=model.x + model.y >= 1)\n",
    "\n",
    "# Resolver\n",
    "solver = 'appsi_highs'\n",
    "SOLVER = pyo.SolverFactory(solver)\n",
    "results = SOLVER.solve(model, tee=True)\n",
    "\n",
    "# Mostrar resultados\n",
    "print(f\"x = {pyo.value(model.x)}\")\n",
    "print(f\"y = {pyo.value(model.y)}\")\n",
    "print(f\"z = {pyo.value(model.z)}\")\n",
    "print(f\"Objetivo máximo = {pyo.value(model.obj)}\")\n",
    "```\n",
    "\n",
    "````\n",
    "\n",
    ":::"
   ]
  },
  {
   "cell_type": "code",
   "execution_count": 15,
   "metadata": {},
   "outputs": [],
   "source": [
    "# Tu código aquí"
   ]
  }
 ],
 "metadata": {
  "kernelspec": {
   "display_name": "Python 3 (ipykernel)",
   "language": "python",
   "name": "python3"
  },
  "language_info": {
   "codemirror_mode": {
    "name": "ipython",
    "version": 3
   },
   "file_extension": ".py",
   "mimetype": "text/x-python",
   "name": "python",
   "nbconvert_exporter": "python",
   "pygments_lexer": "ipython3",
   "version": "3.13.9"
  }
 },
 "nbformat": 4,
 "nbformat_minor": 4
}
